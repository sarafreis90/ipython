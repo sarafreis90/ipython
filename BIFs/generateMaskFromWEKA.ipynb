{
 "metadata": {
  "name": "",
  "signature": "sha256:c1e338c9c8229c250dcd2dbf4a3dbc0a2650c918bd5d7659ccd4daaf1e7c253f"
 },
 "nbformat": 3,
 "nbformat_minor": 0,
 "worksheets": [
  {
   "cells": [
    {
     "cell_type": "code",
     "collapsed": false,
     "input": [
      "import nibabel as nib\n",
      "import numpy as np\n",
      "import scipy.ndimage\n",
      "import matplotlib.pyplot as plt\n",
      "import matplotlib.image as mpimg\n",
      "import matplotlib as mpl\n",
      "from scipy import stats\n",
      "import glob\n",
      "import csv\n",
      "import os\n",
      "import re\n",
      "import math\n",
      "from math import pi\n",
      "from __future__ import division\n",
      "from scipy import misc\n",
      "import cv2\n",
      "from scipy import ndimage\n",
      "import skimage.morphology, skimage.data\n",
      "from skimage import measure"
     ],
     "language": "python",
     "metadata": {},
     "outputs": [],
     "prompt_number": 1
    },
    {
     "cell_type": "code",
     "collapsed": false,
     "input": [
      "%matplotlib inline\n",
      "\n",
      "for files in glob.glob('/Volumes/vph-prism5/Sara/TextureStuff/BIFs/RUNMC001/segmentation_wekaTest/EpithelialProbabilityMaps/probabilityEpithelial_I10_03_normal.png'):\n",
      "#for files in glob.glob('/Users/sarareis/Dropbox/PhD/TextureStuff/BIFs/RUNMC001/probabilityMaps/probabilityEpithelial_I8_01_normal.png'):\n",
      "    (dirname, filename) = os.path.split(files)\n",
      "    new_filename = re.sub('probabilityEpithelial_','mask_',filename)\n",
      "    print new_filename\n",
      "    \n",
      "    image = cv2.imread(files,0)\n",
      "    #image = cv2.cvtColor(image, cv2.COLOR_BGR2GRAY)\n",
      "    #cv2.imshow('image',image)\n",
      "    \n",
      "    \n",
      "    # 1. gaussian filter matched to average width of epithelial cell (3 micron)\n",
      "    blurred_image = ndimage.gaussian_filter(image, sigma=12)\n",
      "    \n",
      " \n",
      "    # 2. threshold image to retain 80 percent of the resulting pixels\n",
      "    ret,thresh1 = cv2.threshold(blurred_image,30,255,cv2.THRESH_BINARY) # 2nd arg: threshold value which is used to classify the pixel values. 3rd: maxVal which represents the value to be given if pixel value is more than (sometimes less than) the threshold value. \n",
      "    \n",
      "    \n",
      "    thresh = ['image','blurred_image','thresh1']\n",
      " \n",
      "    for i in xrange(3):\n",
      "        plt.subplot(1,3,i+1),plt.imshow(eval(thresh[i]),'gray')\n",
      "        plt.title(thresh[i])\n",
      "        plt.axis('off')\n",
      "        plt.subplots_adjust(wspace=0, hspace=0., top=0.99, bottom=0.01,\n",
      "                    left=0.01, right=0.99)\n",
      "    plt.show()\n",
      "    \n",
      "\n",
      "    \n"
     ],
     "language": "python",
     "metadata": {},
     "outputs": [],
     "prompt_number": 40
    },
    {
     "cell_type": "code",
     "collapsed": false,
     "input": [
      "    #-----------\n",
      "    smallest = np.amin(thresh1)\n",
      "    print smallest\n",
      "    biggest = np.amax(thresh1)\n",
      "    print biggest\n",
      "    #------------\n",
      "    \n",
      "    def disk_structure(n):\n",
      "        struct = np.zeros((2 * n + 1, 2 * n + 1))\n",
      "        x, y = np.indices((2 * n + 1, 2 * n + 1))\n",
      "        mask = (x - n)**2 + (y - n)**2 <= n**2\n",
      "        struct[mask] = 1\n",
      "        return struct.astype(np.int)\n",
      "    \n",
      "    # 3. remove clusters smaller than 50 pixels \n",
      "    cleaned_image = ndimage.morphology.binary_opening(thresh1, structure=disk_structure(5)).astype(np.int)\n",
      "    \n",
      "    # 4. close holes = dilation\n",
      "    closed_image = ndimage.binary_dilation(cleaned_image, structure=disk_structure(30)).astype(np.int)\n",
      "    \n",
      "    # 5. fill holes   \n",
      "    labels = skimage.morphology.label(closed_image)\n",
      "    labelCount = np.bincount(labels.ravel())\n",
      "    background = np.argmax(labelCount)\n",
      "    closed_image[labels != background] = 255  \n",
      "    \n",
      "    # 6. erode image\n",
      "    final_image = ndimage.morphology.binary_erosion(closed_image, structure=disk_structure(30)).astype(np.int)\n",
      "    \n",
      "    #7. clean up remaining tiny clusters\n",
      "    final_final_image = ndimage.morphology.binary_opening(final_image, structure=disk_structure(80)).astype(np.int)\n",
      "\n",
      "    morpho_img = ['cleaned_image','closed_image', 'final_image', 'final_final_image']\n",
      " \n",
      "    for j in xrange(4):\n",
      "        plt.subplot(1,4,j+1),plt.imshow(eval(morpho_img[j]),'gray')\n",
      "        plt.title(morpho_img[j])\n",
      "        #print morpho_img[j]\n",
      "        plt.axis('off')\n",
      "        plt.subplots_adjust(wspace=0, hspace=0., top=0.99, bottom=0.01,\n",
      "                    left=0.01, right=0.99)\n",
      "    \n",
      "    plt.show()\n",
      "    \n",
      "    #cv2.imwrite(os.path.join(dirname, new_filename) , final_final_image)"
     ],
     "language": "python",
     "metadata": {},
     "outputs": [
      {
       "output_type": "stream",
       "stream": "stdout",
       "text": [
        "0\n",
        "255\n"
       ]
      },
      {
       "output_type": "stream",
       "stream": "stderr",
       "text": [
        "/Library/Python/2.7/site-packages/skimage/measure/_label.py:4: skimage_deprecation: Call to deprecated function ``label``. Use ``skimage.measure.label`` instead.\n",
        "  connectivity=None):\n"
       ]
      },
      {
       "ename": "KeyboardInterrupt",
       "evalue": "",
       "output_type": "pyerr",
       "traceback": [
        "\u001b[0;31m---------------------------------------------------------------------------\u001b[0m\n\u001b[0;31mKeyboardInterrupt\u001b[0m                         Traceback (most recent call last)",
        "\u001b[0;32m<ipython-input-41-20fa7ac98ace>\u001b[0m in \u001b[0;36m<module>\u001b[0;34m()\u001b[0m\n\u001b[1;32m     29\u001b[0m \u001b[0;34m\u001b[0m\u001b[0m\n\u001b[1;32m     30\u001b[0m \u001b[0;31m#7. clean up remaining tiny clusters\u001b[0m\u001b[0;34m\u001b[0m\u001b[0;34m\u001b[0m\u001b[0m\n\u001b[0;32m---> 31\u001b[0;31m \u001b[0mfinal_final_image\u001b[0m \u001b[0;34m=\u001b[0m \u001b[0mndimage\u001b[0m\u001b[0;34m.\u001b[0m\u001b[0mmorphology\u001b[0m\u001b[0;34m.\u001b[0m\u001b[0mbinary_opening\u001b[0m\u001b[0;34m(\u001b[0m\u001b[0mfinal_image\u001b[0m\u001b[0;34m,\u001b[0m \u001b[0mstructure\u001b[0m\u001b[0;34m=\u001b[0m\u001b[0mdisk_structure\u001b[0m\u001b[0;34m(\u001b[0m\u001b[0;36m80\u001b[0m\u001b[0;34m)\u001b[0m\u001b[0;34m)\u001b[0m\u001b[0;34m.\u001b[0m\u001b[0mastype\u001b[0m\u001b[0;34m(\u001b[0m\u001b[0mnp\u001b[0m\u001b[0;34m.\u001b[0m\u001b[0mint\u001b[0m\u001b[0;34m)\u001b[0m\u001b[0;34m\u001b[0m\u001b[0m\n\u001b[0m\u001b[1;32m     32\u001b[0m \u001b[0;34m\u001b[0m\u001b[0m\n\u001b[1;32m     33\u001b[0m \u001b[0mmorpho_img\u001b[0m \u001b[0;34m=\u001b[0m \u001b[0;34m[\u001b[0m\u001b[0;34m'cleaned_image'\u001b[0m\u001b[0;34m,\u001b[0m\u001b[0;34m'closed_image'\u001b[0m\u001b[0;34m,\u001b[0m \u001b[0;34m'final_image'\u001b[0m\u001b[0;34m,\u001b[0m \u001b[0;34m'final_final_image'\u001b[0m\u001b[0;34m]\u001b[0m\u001b[0;34m\u001b[0m\u001b[0m\n",
        "\u001b[0;32m/System/Library/Frameworks/Python.framework/Versions/2.7/Extras/lib/python/scipy/ndimage/morphology.pyc\u001b[0m in \u001b[0;36mbinary_opening\u001b[0;34m(input, structure, iterations, output, origin)\u001b[0m\n\u001b[1;32m    601\u001b[0m                          origin)\n\u001b[1;32m    602\u001b[0m     return binary_dilation(tmp, structure, iterations, None, output, 0,\n\u001b[0;32m--> 603\u001b[0;31m                            origin)\n\u001b[0m\u001b[1;32m    604\u001b[0m \u001b[0;34m\u001b[0m\u001b[0m\n\u001b[1;32m    605\u001b[0m \u001b[0;34m\u001b[0m\u001b[0m\n",
        "\u001b[0;32m/System/Library/Frameworks/Python.framework/Versions/2.7/Extras/lib/python/scipy/ndimage/morphology.pyc\u001b[0m in \u001b[0;36mbinary_dilation\u001b[0;34m(input, structure, iterations, mask, output, border_value, origin, brute_force)\u001b[0m\n\u001b[1;32m    496\u001b[0m \u001b[0;34m\u001b[0m\u001b[0m\n\u001b[1;32m    497\u001b[0m     return _binary_erosion(input, structure, iterations, mask,\n\u001b[0;32m--> 498\u001b[0;31m                            output, border_value, origin, 1, brute_force)\n\u001b[0m\u001b[1;32m    499\u001b[0m \u001b[0;34m\u001b[0m\u001b[0m\n\u001b[1;32m    500\u001b[0m \u001b[0;34m\u001b[0m\u001b[0m\n",
        "\u001b[0;32m/System/Library/Frameworks/Python.framework/Versions/2.7/Extras/lib/python/scipy/ndimage/morphology.pyc\u001b[0m in \u001b[0;36m_binary_erosion\u001b[0;34m(input, structure, iterations, mask, output, border_value, origin, invert, brute_force)\u001b[0m\n\u001b[1;32m    244\u001b[0m     \u001b[0;32mif\u001b[0m \u001b[0miterations\u001b[0m \u001b[0;34m==\u001b[0m \u001b[0;36m1\u001b[0m\u001b[0;34m:\u001b[0m\u001b[0;34m\u001b[0m\u001b[0m\n\u001b[1;32m    245\u001b[0m         _nd_image.binary_erosion(input, structure, mask, output,\n\u001b[0;32m--> 246\u001b[0;31m                                      border_value, origin, invert, cit, 0)\n\u001b[0m\u001b[1;32m    247\u001b[0m         \u001b[0;32mreturn\u001b[0m \u001b[0mreturn_value\u001b[0m\u001b[0;34m\u001b[0m\u001b[0m\n\u001b[1;32m    248\u001b[0m     \u001b[0;32melif\u001b[0m \u001b[0mcit\u001b[0m \u001b[0;32mand\u001b[0m \u001b[0;32mnot\u001b[0m \u001b[0mbrute_force\u001b[0m\u001b[0;34m:\u001b[0m\u001b[0;34m\u001b[0m\u001b[0m\n",
        "\u001b[0;31mKeyboardInterrupt\u001b[0m: "
       ]
      }
     ],
     "prompt_number": 41
    },
    {
     "cell_type": "code",
     "collapsed": false,
     "input": [
      "    ## adaptative thresholding\n",
      "    th2 = cv2.adaptiveThreshold(blurred_image,1,cv2.ADAPTIVE_THRESH_MEAN_C, cv2.THRESH_BINARY,11,2)\n",
      "    th3 = cv2.adaptiveThreshold(blurred_image,1,cv2.ADAPTIVE_THRESH_GAUSSIAN_C, cv2.THRESH_BINARY,11,2)\n",
      "    plt.figure(figsize=(9, 3))\n",
      "    plt.subplot(121)\n",
      "    plt.imshow(th2, cmap=plt.cm.gray)\n",
      "    plt.axis('off')\n",
      "    plt.subplot(122)\n",
      "    plt.imshow(th3)\n",
      "    plt.axis('off', cmap=plt.cm.gray)\n",
      "    plt.show()"
     ],
     "language": "python",
     "metadata": {},
     "outputs": []
    },
    {
     "cell_type": "code",
     "collapsed": false,
     "input": [],
     "language": "python",
     "metadata": {},
     "outputs": []
    }
   ],
   "metadata": {}
  }
 ]
}