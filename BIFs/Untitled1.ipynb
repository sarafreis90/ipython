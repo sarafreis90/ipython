{
 "metadata": {
  "name": "",
  "signature": "sha256:a8392ea2a490ab22e8a05b1f2e4364a585b82551b134da40b2afb020ee4646a6"
 },
 "nbformat": 3,
 "nbformat_minor": 0,
 "worksheets": [
  {
   "cells": [
    {
     "cell_type": "code",
     "collapsed": false,
     "input": [
      "from __future__ import print_function\n",
      "\n",
      "from sklearn import datasets\n",
      "from sklearn.cross_validation import train_test_split\n",
      "from sklearn.grid_search import GridSearchCV\n",
      "from sklearn.metrics import classification_report\n",
      "from sklearn.svm import SVC\n",
      "\n",
      "print(__doc__)\n",
      "\n",
      "# Loading the Digits dataset\n",
      "digits = datasets.load_digits()\n",
      "\n",
      "# To apply an classifier on this data, we need to flatten the image, to\n",
      "# turn the data in a (samples, feature) matrix:\n",
      "n_samples = len(digits.images)\n",
      "X = digits.images.reshape((n_samples, -1))\n",
      "y = digits.target\n",
      "\n",
      "# Split the dataset in two equal parts\n",
      "X_train, X_test, y_train, y_test = train_test_split(\n",
      "    X, y, test_size=0.5, random_state=0)\n",
      "\n",
      "# Set the parameters by cross-validation\n",
      "tuned_parameters = [{'kernel': ['rbf'], 'gamma': [1e-3, 1e-4],\n",
      "                     'C': [1, 10, 100, 1000]},\n",
      "                    {'kernel': ['linear'], 'C': [1, 10, 100, 1000]}]\n",
      "\n",
      "scores = ['precision', 'recall']\n",
      "\n",
      "for score in scores:\n",
      "    print(\"# Tuning hyper-parameters for %s\" % score)\n",
      "    print()\n",
      "\n",
      "    clf = GridSearchCV(SVC(C=1), tuned_parameters, cv=5,\n",
      "                       scoring='%s_weighted' % score)\n",
      "    clf.fit(X_train, y_train)\n",
      "\n",
      "    print(\"Best parameters set found on development set:\")\n",
      "    print()\n",
      "    print(clf.best_params_)\n",
      "    print()\n",
      "    print(\"Grid scores on development set:\")\n",
      "    print()\n",
      "    for params, mean_score, scores in clf.grid_scores_:\n",
      "        print(\"%0.3f (+/-%0.03f) for %r\"\n",
      "              % (mean_score, scores.std() * 2, params))\n",
      "    print()\n",
      "\n",
      "    print(\"Detailed classification report:\")\n",
      "    print()\n",
      "    print(\"The model is trained on the full development set.\")\n",
      "    print(\"The scores are computed on the full evaluation set.\")\n",
      "    print()\n",
      "    y_true, y_pred = y_test, clf.predict(X_test)\n",
      "    print(classification_report(y_true, y_pred))\n",
      "    print()\n",
      "\n",
      "# Note the problem is too easy: the hyperparameter plateau is too flat and the\n",
      "# output model is the same for precision and recall with ties in quality."
     ],
     "language": "python",
     "metadata": {},
     "outputs": [
      {
       "output_type": "stream",
       "stream": "stdout",
       "text": [
        "Automatically created module for IPython interactive environment\n",
        "# Tuning hyper-parameters for precision"
       ]
      },
      {
       "output_type": "stream",
       "stream": "stdout",
       "text": [
        "\n",
        "\n",
        "Best parameters set found on development set:"
       ]
      },
      {
       "output_type": "stream",
       "stream": "stdout",
       "text": [
        "\n",
        "\n",
        "{'kernel': 'rbf', 'C': 10, 'gamma': 0.001}\n",
        "\n",
        "Grid scores on development set:\n",
        "\n",
        "0.987 (+/-0.018) for {'kernel': 'rbf', 'C': 1, 'gamma': 0.001}\n",
        "0.959 (+/-0.030) for {'kernel': 'rbf', 'C': 1, 'gamma': 0.0001}\n",
        "0.988 (+/-0.018) for {'kernel': 'rbf', 'C': 10, 'gamma': 0.001}\n",
        "0.982 (+/-0.027) for {'kernel': 'rbf', 'C': 10, 'gamma': 0.0001}\n",
        "0.988 (+/-0.018) for {'kernel': 'rbf', 'C': 100, 'gamma': 0.001}\n",
        "0.982 (+/-0.026) for {'kernel': 'rbf', 'C': 100, 'gamma': 0.0001}\n",
        "0.988 (+/-0.018) for {'kernel': 'rbf', 'C': 1000, 'gamma': 0.001}\n",
        "0.982 (+/-0.026) for {'kernel': 'rbf', 'C': 1000, 'gamma': 0.0001}\n",
        "0.974 (+/-0.014) for {'kernel': 'linear', 'C': 1}\n",
        "0.974 (+/-0.014) for {'kernel': 'linear', 'C': 10}\n",
        "0.974 (+/-0.014) for {'kernel': 'linear', 'C': 100}\n",
        "0.974 (+/-0.014) for {'kernel': 'linear', 'C': 1000}\n",
        "\n",
        "Detailed classification report:\n",
        "\n",
        "The model is trained on the full development set.\n",
        "The scores are computed on the full evaluation set.\n",
        "\n",
        "             precision    recall  f1-score   support\n",
        "\n",
        "          0       1.00      1.00      1.00        89\n",
        "          1       0.97      1.00      0.98        90\n",
        "          2       0.99      0.98      0.98        92\n",
        "          3       1.00      0.99      0.99        93\n",
        "          4       1.00      1.00      1.00        76\n",
        "          5       0.99      0.98      0.99       108\n",
        "          6       0.99      1.00      0.99        89\n",
        "          7       0.99      1.00      0.99        78\n",
        "          8       1.00      0.98      0.99        92\n",
        "          9       0.99      0.99      0.99        92\n",
        "\n",
        "avg / total       0.99      0.99      0.99       899\n"
       ]
      },
      {
       "output_type": "stream",
       "stream": "stdout",
       "text": [
        "\n",
        "\n",
        "# Tuning hyper-parameters for recall\n",
        "\n",
        "Best parameters set found on development set:"
       ]
      },
      {
       "output_type": "stream",
       "stream": "stdout",
       "text": [
        "\n",
        "\n",
        "{'kernel': 'rbf', 'C': 10, 'gamma': 0.001}\n",
        "\n",
        "Grid scores on development set:\n",
        "\n",
        "0.986 (+/-0.021) for {'kernel': 'rbf', 'C': 1, 'gamma': 0.001}\n",
        "0.958 (+/-0.029) for {'kernel': 'rbf', 'C': 1, 'gamma': 0.0001}\n",
        "0.987 (+/-0.021) for {'kernel': 'rbf', 'C': 10, 'gamma': 0.001}\n",
        "0.981 (+/-0.029) for {'kernel': 'rbf', 'C': 10, 'gamma': 0.0001}\n",
        "0.987 (+/-0.021) for {'kernel': 'rbf', 'C': 100, 'gamma': 0.001}\n",
        "0.981 (+/-0.027) for {'kernel': 'rbf', 'C': 100, 'gamma': 0.0001}\n",
        "0.987 (+/-0.021) for {'kernel': 'rbf', 'C': 1000, 'gamma': 0.001}\n",
        "0.981 (+/-0.027) for {'kernel': 'rbf', 'C': 1000, 'gamma': 0.0001}\n",
        "0.973 (+/-0.015) for {'kernel': 'linear', 'C': 1}\n",
        "0.973 (+/-0.015) for {'kernel': 'linear', 'C': 10}\n",
        "0.973 (+/-0.015) for {'kernel': 'linear', 'C': 100}\n",
        "0.973 (+/-0.015) for {'kernel': 'linear', 'C': 1000}\n",
        "\n",
        "Detailed classification report:\n",
        "\n",
        "The model is trained on the full development set.\n",
        "The scores are computed on the full evaluation set.\n",
        "\n",
        "             precision    recall  f1-score   support\n",
        "\n",
        "          0       1.00      1.00      1.00        89\n",
        "          1       0.97      1.00      0.98        90\n",
        "          2       0.99      0.98      0.98        92\n",
        "          3       1.00      0.99      0.99        93\n",
        "          4       1.00      1.00      1.00        76\n",
        "          5       0.99      0.98      0.99       108\n",
        "          6       0.99      1.00      0.99        89\n",
        "          7       0.99      1.00      0.99        78\n",
        "          8       1.00      0.98      0.99        92\n",
        "          9       0.99      0.99      0.99        92\n",
        "\n",
        "avg / total       0.99      0.99      0.99       899\n"
       ]
      },
      {
       "output_type": "stream",
       "stream": "stdout",
       "text": [
        "\n",
        "\n"
       ]
      }
     ],
     "prompt_number": 1
    },
    {
     "cell_type": "code",
     "collapsed": false,
     "input": [],
     "language": "python",
     "metadata": {},
     "outputs": []
    }
   ],
   "metadata": {}
  }
 ]
}