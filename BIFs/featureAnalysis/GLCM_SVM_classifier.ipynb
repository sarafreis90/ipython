{
 "metadata": {
  "name": "",
  "signature": "sha256:42d808d7065010baa202fd712df39598cb21414a29b049c29eaf9c3fe8633032"
 },
 "nbformat": 3,
 "nbformat_minor": 0,
 "worksheets": [
  {
   "cells": [
    {
     "cell_type": "code",
     "collapsed": false,
     "input": [
      "import nibabel as nib\n",
      "import numpy as np\n",
      "import scipy.ndimage\n",
      "import matplotlib.pyplot as plt\n",
      "import matplotlib.image as mpimg\n",
      "import matplotlib as mpl\n",
      "from scipy import stats\n",
      "from scipy import ndimage\n",
      "import glob\n",
      "import csv\n",
      "import os\n",
      "import re\n",
      "import math\n",
      "import cv2\n",
      "import cv\n",
      "from __future__ import division\n",
      "import sys\n",
      "import plotly.plotly as py\n",
      "from plotly.graph_objs import *\n",
      "from pylab import *\n",
      "from skimage.io import imread\n",
      "from skimage import data\n",
      "\n",
      "import sklearn\n",
      "from sklearn import svm\n",
      "from sklearn import datasets\n",
      "from sklearn.cross_validation import train_test_split\n",
      "from sklearn.grid_search import GridSearchCV\n",
      "from sklearn.metrics import classification_report\n",
      "from sklearn.metrics import confusion_matrix\n",
      "from sklearn.svm import SVC\n",
      "\n",
      "%matplotlib inline"
     ],
     "language": "python",
     "metadata": {},
     "outputs": [],
     "prompt_number": 1
    },
    {
     "cell_type": "code",
     "collapsed": false,
     "input": [
      "#f = open('/Volumes/vph-prism5/Sara/TextureStuff/BIFs/KCL_ROIs/orientationAnalysis/experiment_02/results_normalisedImages/GCLMfeatures.csv')\n",
      "#f = open('/Volumes/vph-prism5/Sara/SPIE16/resultsLightLines/GCLMfeatures.csv')\n",
      "f = open('/Volumes/vph-prism5/Sara/SPIE16/new_resultsLightLines/GCLMfeatures_lightlines.csv')\n",
      "f.readline()  # skip the header\n",
      "X = np.loadtxt(fname = f, delimiter = ',')\n",
      "print('X shape (Features):')\n",
      "print(X.shape)\n",
      "#print data\n",
      "\n",
      "#t = open('/Volumes/vph-prism5/Sara/TextureStuff/BIFs/KCL_ROIs/orientationAnalysis/experiment_02/results_normalisedImages/samples_labels.csv')\n",
      "#y = np.loadtxt('/Volumes/vph-prism5/Sara/TextureStuff/BIFs/KCL_ROIs/orientationAnalysis/experiment_02/results_normalisedImages/samples_labels.csv', delimiter = ',', usecols=(2,), dtype = int)\n",
      "t = open('/Volumes/vph-prism5/Sara/SPIE16/new_resultsLightLines/samples_labels_GLCM_lightlines.csv')\n",
      "y = np.loadtxt('/Volumes/vph-prism5/Sara/SPIE16/new_resultsLightLines/samples_labels_GLCM_lightlines.csv', delimiter = ',', usecols=(2,), dtype = int)\n",
      "\n",
      "print('y (labels):')\n",
      "print(y)\n",
      "\n",
      "z = np.loadtxt('/Volumes/vph-prism5/Sara/SPIE16/new_resultsLightLines/samples_labels_GLCM_lightlines.csv', delimiter = ',', usecols=(0,), dtype = str)\n",
      "\n",
      "#print('names:')\n",
      "#print(z)\n",
      "\n",
      "#X = X[:, 0:2] ## choose only classes 1 and 2 to train with the 2 first features\n",
      "#print(X.shape)\n",
      "\n",
      "n_sample = len(X)\n",
      "\n",
      "np.random.seed(0)\n",
      "order = np.random.permutation(n_sample)\n",
      "X = X[order]\n",
      "y = y[order].astype(np.float)\n",
      "z = z[order]\n",
      "\n",
      "X_train = X[:.7 * n_sample] ## select 90% of the data to train\n",
      "y_train = y[:.7 * n_sample]\n",
      "X_test = X[.7 * n_sample:]\n",
      "y_test = y[.7 * n_sample:]\n",
      "z_test=z[.7 * n_sample:]\n",
      "\n",
      "print(X_train.shape)\n",
      "print(X_test.shape)\n",
      "print('y test (labels):')\n",
      "print(y_test)\n",
      "print z_test\n",
      "\n"
     ],
     "language": "python",
     "metadata": {},
     "outputs": [
      {
       "output_type": "stream",
       "stream": "stdout",
       "text": [
        "X shape (Features):\n",
        "(103, 7)\n",
        "y (labels):\n",
        "[1 1 1 1 1 1 1 1 1 1 0 0 1 1 1 0 0 0 1 1 1 1 1 1 1 1 1 1 1 1 1 1 1 1 1 1 0\n",
        " 1 0 1 1 0 0 0 1 1 1 0 0 0 0 0 0 1 1 0 1 1 1 1 1 1 1 0 0 1 0 0 1 1 0 0 1 0\n",
        " 0 0 0 0 0 0 0 1 1 0 1 1 1 1 1 1 1 0 0 1 1 0 1 1 1 1 1 1 1]\n",
        "(72, 7)\n",
        "(31, 7)\n",
        "y test (labels):\n",
        "[ 1.  1.  0.  1.  1.  1.  1.  1.  1.  0.  1.  1.  1.  1.  1.  1.  1.  1.\n",
        "  0.  1.  0.  1.  0.  1.  0.  1.  1.  0.  0.  0.  1.]\n",
        "['lightLines_09_06_i' 'lightLines_12_02_i' 'lightLines_19_01_m'\n",
        " 'lightLines_40_02_i' 'lightLines_40_03_i' 'lightLines_28_02_i'\n",
        " 'lightLines_10_01_i' 'lightLines_39_01_i' 'lightLines_29_02_i'\n",
        " 'lightLines_31_03_m' 'lightLines_11_03_i' 'lightLines_15_02_i'\n",
        " 'lightLines_33_03_i' 'lightLines_17_03_i' 'lightLines_15_04_i'\n",
        " 'lightLines_26_02_i' 'lightLines_22_02_i' 'lightLines_08_01_i'\n",
        " 'lightLines_37_01_m' 'lightLines_36_02_i' 'lightLines_28_03_m'\n",
        " 'lightLines_36_01_i' 'lightLines_15_01_m' 'lightLines_10_02_i'\n",
        " 'lightLines_34_02_m' 'lightLines_05_03_i' 'lightLines_39_03_i'\n",
        " 'lightLines_27_01_m' 'lightLines_26_01_m' 'lightLines_18_01_m'\n",
        " 'lightLines_17_01_i']\n"
       ]
      }
     ],
     "prompt_number": 2
    },
    {
     "cell_type": "code",
     "collapsed": false,
     "input": [
      "###-----------------------------------------------------------###\n",
      "#---------- Set the parameters by cross-validation -----------###\n",
      "###-----------------------------------------------------------###\n",
      "\n",
      "tuned_parameters = [{'kernel': ['rbf'], 'gamma': [1e-3, 1e-4, 1e-5],\n",
      "                     'C': [1, 10, 100, 1000]},\n",
      "                    {'kernel': ['linear'], 'C': [1, 10, 100, 1000]}]\n",
      "\n",
      "scores = ['precision', 'recall']\n",
      "\n",
      "for score in scores:\n",
      "    print(\"# Tuning hyper-parameters for %s\" % score)\n",
      "    print()\n",
      "\n",
      "    clf = GridSearchCV(SVC(C=1), tuned_parameters, cv=5,\n",
      "                       scoring='%s_weighted' % score)\n",
      "    clf.fit(X_train, y_train)\n",
      "\n",
      "    print(\"Best parameters set found on development set:\")\n",
      "    print()\n",
      "    print(clf.best_params_)\n",
      "    print()\n",
      "    print(\"Grid scores on development set:\")\n",
      "    print()\n",
      "    for params, mean_score, scores in clf.grid_scores_:\n",
      "        print(\"%0.3f (+/-%0.03f) for %r\"\n",
      "              % (mean_score, scores.std() * 2, params))\n",
      "    print()\n",
      "\n",
      "    print(\"Detailed classification report:\")\n",
      "    print()\n",
      "    print(\"The model is trained on the full development set.\")\n",
      "    print(\"The scores are computed on the full evaluation set.\")\n",
      "    print()\n",
      "    y_true, y_pred = y_test, clf.predict(X_test)\n",
      "    print(classification_report(y_true, y_pred))\n",
      "    print()\n",
      "    print(\"Confusion matrix\")\n",
      "    print(confusion_matrix(y_test, y_pred))\n",
      "    print()"
     ],
     "language": "python",
     "metadata": {},
     "outputs": [
      {
       "output_type": "stream",
       "stream": "stdout",
       "text": [
        "# Tuning hyper-parameters for precision\n",
        "()\n",
        "Best parameters set found on development set:"
       ]
      },
      {
       "output_type": "stream",
       "stream": "stdout",
       "text": [
        "\n",
        "()\n",
        "{'kernel': 'rbf', 'C': 100, 'gamma': 0.0001}\n",
        "()\n",
        "Grid scores on development set:\n",
        "()\n",
        "0.710 (+/-0.235) for {'kernel': 'rbf', 'C': 1, 'gamma': 0.001}\n",
        "0.577 (+/-0.284) for {'kernel': 'rbf', 'C': 1, 'gamma': 0.0001}\n",
        "0.666 (+/-0.356) for {'kernel': 'rbf', 'C': 1, 'gamma': 1e-05}\n",
        "0.708 (+/-0.252) for {'kernel': 'rbf', 'C': 10, 'gamma': 0.001}\n",
        "0.683 (+/-0.364) for {'kernel': 'rbf', 'C': 10, 'gamma': 0.0001}\n",
        "0.615 (+/-0.370) for {'kernel': 'rbf', 'C': 10, 'gamma': 1e-05}\n",
        "0.729 (+/-0.189) for {'kernel': 'rbf', 'C': 100, 'gamma': 0.001}\n",
        "0.798 (+/-0.217) for {'kernel': 'rbf', 'C': 100, 'gamma': 0.0001}\n",
        "0.647 (+/-0.320) for {'kernel': 'rbf', 'C': 100, 'gamma': 1e-05}\n",
        "0.702 (+/-0.195) for {'kernel': 'rbf', 'C': 1000, 'gamma': 0.001}\n",
        "0.798 (+/-0.253) for {'kernel': 'rbf', 'C': 1000, 'gamma': 0.0001}\n",
        "0.637 (+/-0.344) for {'kernel': 'rbf', 'C': 1000, 'gamma': 1e-05}\n",
        "0.776 (+/-0.266) for {'kernel': 'linear', 'C': 1}\n",
        "0.745 (+/-0.369) for {'kernel': 'linear', 'C': 10}\n",
        "0.691 (+/-0.399) for {'kernel': 'linear', 'C': 100}\n",
        "0.670 (+/-0.306) for {'kernel': 'linear', 'C': 1000}\n",
        "()\n",
        "Detailed classification report:\n",
        "()\n",
        "The model is trained on the full development set.\n",
        "The scores are computed on the full evaluation set.\n",
        "()\n",
        "             precision    recall  f1-score   support\n",
        "\n",
        "        0.0       0.45      0.45      0.45        11\n",
        "        1.0       0.70      0.70      0.70        20\n",
        "\n",
        "avg / total       0.61      0.61      0.61        31\n",
        "\n",
        "()\n",
        "Confusion matrix\n",
        "[[ 5  6]\n",
        " [ 6 14]]\n",
        "()\n",
        "# Tuning hyper-parameters for recall\n",
        "()\n",
        "Best parameters set found on development set:"
       ]
      },
      {
       "output_type": "stream",
       "stream": "stdout",
       "text": [
        "\n",
        "()\n",
        "{'kernel': 'rbf', 'C': 100, 'gamma': 0.0001}\n",
        "()\n",
        "Grid scores on development set:\n",
        "()\n",
        "0.722 (+/-0.185) for {'kernel': 'rbf', 'C': 1, 'gamma': 0.001}\n",
        "0.653 (+/-0.134) for {'kernel': 'rbf', 'C': 1, 'gamma': 0.0001}\n",
        "0.708 (+/-0.227) for {'kernel': 'rbf', 'C': 1, 'gamma': 1e-05}\n",
        "0.708 (+/-0.193) for {'kernel': 'rbf', 'C': 10, 'gamma': 0.001}\n",
        "0.736 (+/-0.230) for {'kernel': 'rbf', 'C': 10, 'gamma': 0.0001}\n",
        "0.681 (+/-0.223) for {'kernel': 'rbf', 'C': 10, 'gamma': 1e-05}\n",
        "0.722 (+/-0.131) for {'kernel': 'rbf', 'C': 100, 'gamma': 0.001}\n",
        "0.806 (+/-0.188) for {'kernel': 'rbf', 'C': 100, 'gamma': 0.0001}\n",
        "0.681 (+/-0.171) for {'kernel': 'rbf', 'C': 100, 'gamma': 1e-05}\n",
        "0.694 (+/-0.163) for {'kernel': 'rbf', 'C': 1000, 'gamma': 0.001}\n",
        "0.806 (+/-0.222) for {'kernel': 'rbf', 'C': 1000, 'gamma': 0.0001}\n",
        "0.653 (+/-0.226) for {'kernel': 'rbf', 'C': 1000, 'gamma': 1e-05}\n",
        "0.764 (+/-0.229) for {'kernel': 'linear', 'C': 1}\n",
        "0.750 (+/-0.270) for {'kernel': 'linear', 'C': 10}\n",
        "0.722 (+/-0.309) for {'kernel': 'linear', 'C': 100}\n",
        "0.694 (+/-0.209) for {'kernel': 'linear', 'C': 1000}\n",
        "()\n",
        "Detailed classification report:\n",
        "()\n",
        "The model is trained on the full development set.\n",
        "The scores are computed on the full evaluation set.\n",
        "()\n",
        "             precision    recall  f1-score   support\n",
        "\n",
        "        0.0       0.45      0.45      0.45        11\n",
        "        1.0       0.70      0.70      0.70        20\n",
        "\n",
        "avg / total       0.61      0.61      0.61        31\n",
        "\n",
        "()\n",
        "Confusion matrix\n",
        "[[ 5  6]\n",
        " [ 6 14]]\n",
        "()\n"
       ]
      },
      {
       "output_type": "stream",
       "stream": "stderr",
       "text": [
        "/Library/Python/2.7/site-packages/sklearn/metrics/classification.py:958: UndefinedMetricWarning:\n",
        "\n",
        "Precision is ill-defined and being set to 0.0 in labels with no predicted samples.\n",
        "\n"
       ]
      }
     ],
     "prompt_number": 3
    },
    {
     "cell_type": "code",
     "collapsed": false,
     "input": [
      "###--------- classification ------------###\n",
      "#clf = svm.SVC(C=1, kernel='linear')\n",
      "clf = svm.SVC(C=100, kernel='rbf', gamma=0.0001)\n",
      "y_score = clf.fit(X_train, y_train).decision_function(X_test)\n",
      "\n",
      "clf.predict(X_test)"
     ],
     "language": "python",
     "metadata": {},
     "outputs": [
      {
       "metadata": {},
       "output_type": "pyout",
       "prompt_number": 5,
       "text": [
        "array([ 1.,  0.,  1.,  1.,  0.,  1.,  1.,  1.,  0.,  1.,  1.,  1.,  0.,\n",
        "        1.,  1.,  1.,  1.,  0.,  0.,  1.,  1.,  0.,  1.,  1.,  0.,  0.,\n",
        "        1.,  0.,  1.,  1.,  1.])"
       ]
      }
     ],
     "prompt_number": 5
    },
    {
     "cell_type": "code",
     "collapsed": false,
     "input": [
      "n_classes = 2\n",
      "print n_classes\n",
      "print range(n_classes)\n",
      "print y_test\n",
      "\n",
      "y_score = clf.fit(X_train, y_train).decision_function(X_test)\n",
      "print y_score"
     ],
     "language": "python",
     "metadata": {},
     "outputs": [
      {
       "output_type": "stream",
       "stream": "stdout",
       "text": [
        "2\n",
        "[0, 1]\n",
        "[ 0.  0.  1.  1.  1.  1.  0.  0.  0.  1.  0.  1.  1.  0.  0.  0.  1.  0.\n",
        "  1.  1.  1.  0.  1.  1.  1.  0.  1.  1.  0.  1.  1.  0.]\n",
        "[  6.65625374e-01   2.23880803e+00   2.78365923e+00   2.18703463e+00\n",
        "   3.71676935e-01   8.56395957e-01  -2.40802818e-01   1.01040482e+00\n",
        "  -1.12340529e+00   2.30878956e+00   1.88977426e+00   2.01577102e+00\n",
        "   2.95950544e+00  -6.93685056e-04  -2.18429910e+00  -8.40121271e-01\n",
        "   2.07147197e-01  -3.69094610e-01  -8.10377383e-01  -3.69878222e-01\n",
        "   6.44623492e-01  -1.84220691e-01   3.86337256e-01   2.88817933e+00\n",
        "   3.42948747e-01   1.43668054e+00   2.12949165e+00   1.00626709e+00\n",
        "   7.92948530e-01  -9.14814902e-01   2.28123248e+00  -1.89609266e+00]"
       ]
      },
      {
       "output_type": "stream",
       "stream": "stdout",
       "text": [
        "\n"
       ]
      }
     ],
     "prompt_number": 49
    },
    {
     "cell_type": "code",
     "collapsed": false,
     "input": [
      "print(__doc__)\n",
      "\n",
      "from sklearn.metrics import roc_curve, auc\n",
      "\n",
      "n_classes = 2\n",
      "print n_classes\n",
      "\n",
      "# Compute ROC curve and ROC area for each class\n",
      "\n",
      "fpr, tpr, _ = roc_curve(y_test, y_score)\n",
      "roc_auc = auc(fpr, tpr)\n",
      "\n",
      "\n",
      "\n",
      "# Plot of a ROC curve \n",
      "plt.figure()\n",
      "plt.plot(fpr, tpr, label='GLCM (area = %0.2f)' % roc_auc)\n",
      "plt.plot([0, 1], [0, 1], 'k--')\n",
      "plt.xlim([0.0, 1.0])\n",
      "plt.ylim([0.0, 1.05])\n",
      "plt.xlabel('False Positive Rate')\n",
      "plt.ylabel('True Positive Rate')\n",
      "plt.title('Receiver operating characteristic example')\n",
      "plt.legend(loc=\"lower right\")\n",
      "plt.show()\n",
      "\n"
     ],
     "language": "python",
     "metadata": {},
     "outputs": [
      {
       "output_type": "stream",
       "stream": "stdout",
       "text": [
        "Automatically created module for IPython interactive environment\n",
        "2\n"
       ]
      },
      {
       "metadata": {},
       "output_type": "display_data",
       "png": "[encoded data removed]",
       "text": [
        "<matplotlib.figure.Figure at 0x107fe9d50>"
       ]
      }
     ],
     "prompt_number": 6
    },
    {
     "cell_type": "code",
     "collapsed": false,
     "input": [
      "###########################################\n",
      "##---------------------------------------##\n",
      "###########################################\n",
      "###########################################\n",
      "##---------------------------------------##\n",
      "###########################################\n",
      "###########################################\n",
      "##---------------------------------------##\n",
      "###########################################"
     ],
     "language": "python",
     "metadata": {},
     "outputs": []
    },
    {
     "cell_type": "code",
     "collapsed": false,
     "input": [
      "##----------------------------------------------##\n",
      "##---------- plot features boxplots ------------##\n",
      "##----------------------------------------------##\n",
      "#f = open('/Volumes/vph-prism5/Sara/TextureStuff/BIFs/KCL_ROIs/orientationAnalysis/experiment_02/results_normalisedImages/GCLMfeatures.csv')\n",
      "\n",
      "#fi = open('/Volumes/vph-prism5/Sara/TextureStuff/BIFs/KCL_ROIs/orientationAnalysis/experiment_02/results/GCLMfeatures_immature.csv')\n",
      "fi = open('/Volumes/vph-prism5/Sara/SPIE16/resultsLightLines/GCLMfeatures_immature.csv')\n",
      "fi.readline()  # skip the header\n",
      "Xi = np.loadtxt(fname = fi, delimiter = ',')\n",
      "\n",
      "#fm = open('/Volumes/vph-prism5/Sara/TextureStuff/BIFs/KCL_ROIs/orientationAnalysis/experiment_02/results/GCLMfeatures_mature.csv')\n",
      "fm = open('/Volumes/vph-prism5/Sara/SPIE16/resultsLightLines/GCLMfeatures_mature.csv')\n",
      "fm.readline()  # skip the header\n",
      "Xm = np.loadtxt(fname = fm, delimiter = ',')\n",
      "print('Xi shape (Features):')\n",
      "print(Xi.shape)\n",
      "#print data\n",
      "#print X[:,0]\n",
      "\n",
      "title_features = ['Contrast', 'Dissimilarity', 'Homogeneity', 'ASM', 'Energy', 'Correlation', 'Entropy']\n",
      "    \n",
      "\n",
      "fig, ax = plt.subplots(1,7, figsize=(20,2.5))\n",
      "for i in range(0,7):\n",
      "    ax[i].boxplot([Xi[:,i],Xm[:,i]])\n",
      "    ax[i].set_title(title_features[i])\n",
      "    ## Modify tick label text:\n",
      "    a=ax[i].get_xticks().tolist()\n",
      "    a[0]='immature'\n",
      "    a[1]='mature'\n",
      "    ax[i].set_xticklabels(a)\n",
      "    "
     ],
     "language": "python",
     "metadata": {},
     "outputs": [
      {
       "output_type": "stream",
       "stream": "stdout",
       "text": [
        "Xi shape (Features):\n",
        "(68, 7)\n"
       ]
      },
      {
       "metadata": {},
       "output_type": "display_data",
       "png": "[encoded data removed]",
       "text": [
        "<matplotlib.figure.Figure at 0x1149b8410>"
       ]
      }
     ],
     "prompt_number": 35
    },
    {
     "cell_type": "code",
     "collapsed": false,
     "input": [
      "###########################################\n",
      "##---------------------------------------##\n",
      "###########################################"
     ],
     "language": "python",
     "metadata": {},
     "outputs": []
    },
    {
     "cell_type": "code",
     "collapsed": false,
     "input": [
      "###-----------------------------------------------------------###\n",
      "###--------- classification using only 2 features ------------###\n",
      "###-----------------------------------------------------------###\n",
      "clf = svm.SVC(kernel='linear', gamma=10)\n",
      "clf.fit(X_train, y_train)\n",
      "\n",
      "plt.figure(1)\n",
      "plt.scatter(X[:, 0], X[:, 1], c=y, zorder=10, cmap=plt.cm.Paired)\n",
      "# Circle out the test data\n",
      "plt.scatter(X_test[:, 0], X_test[:, 1], s=80, facecolors='none', zorder=10)\n",
      "plt.axis('tight')\n",
      "x_min = X[:, 0].min()\n",
      "x_max = X[:, 0].max()\n",
      "y_min = X[:, 1].min()\n",
      "y_max = X[:, 1].max()\n",
      "\n",
      "XX, YY = np.mgrid[x_min:x_max:200j, y_min:y_max:200j]\n",
      "Z = clf.decision_function(np.c_[XX.ravel(), YY.ravel()])\n",
      "\n",
      "# Put the result into a color plot\n",
      "Z = Z.reshape(XX.shape)\n",
      "plt.pcolormesh(XX, YY, Z > 0, cmap=plt.cm.Paired)\n",
      "plt.contour(XX, YY, Z, colors=['k', 'k', 'k'], linestyles=['--', '-', '--'], levels=[-.5, 0, .5])\n",
      "\n",
      "plt.show()\n",
      "\n",
      "###-------- predict on new images ---------###\n",
      "###----------------------------------------###\n",
      "clf.predict(X_test)"
     ],
     "language": "python",
     "metadata": {},
     "outputs": []
    },
    {
     "cell_type": "code",
     "collapsed": false,
     "input": [],
     "language": "python",
     "metadata": {},
     "outputs": []
    }
   ],
   "metadata": {}
  }
 ]
}