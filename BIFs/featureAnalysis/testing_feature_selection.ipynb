{
 "metadata": {
  "name": "",
  "signature": "sha256:8a786b32643593163770f629aa8f349edd904bc7b33b60889727d88972f018cd"
 },
 "nbformat": 3,
 "nbformat_minor": 0,
 "worksheets": [
  {
   "cells": [
    {
     "cell_type": "code",
     "collapsed": false,
     "input": [
      "import nibabel as nib\n",
      "import numpy as np\n",
      "import scipy.ndimage\n",
      "import matplotlib.pyplot as plt\n",
      "import matplotlib.image as mpimg\n",
      "import matplotlib as mpl\n",
      "from scipy import stats\n",
      "from scipy import ndimage\n",
      "import glob\n",
      "import csv\n",
      "import os\n",
      "import re\n",
      "import math\n",
      "import cv2\n",
      "import cv\n",
      "from __future__ import division\n",
      "import sys\n",
      "import plotly.plotly as py\n",
      "from plotly.graph_objs import *\n",
      "from pylab import *\n",
      "from skimage.io import imread\n",
      "from skimage import data\n",
      "import sklearn\n",
      "from sklearn import svm\n",
      "from sklearn import datasets\n",
      "from sklearn.cross_validation import train_test_split\n",
      "from sklearn.grid_search import GridSearchCV\n",
      "from sklearn.metrics import classification_report\n",
      "from sklearn.metrics import confusion_matrix\n",
      "from sklearn.svm import SVC\n",
      "import fnmatch\n",
      "\n",
      "from sklearn.metrics import roc_curve, auc\n",
      "\n",
      "%matplotlib inline"
     ],
     "language": "python",
     "metadata": {},
     "outputs": [],
     "prompt_number": 1
    },
    {
     "cell_type": "code",
     "collapsed": false,
     "input": [
      "path = '/Volumes/vph-prism5/Sara/SPIE16/Manuscript'\n",
      "\n",
      "configfiles = [os.path.join(dirpath, f)              \n",
      "    for dirpath, dirnames, files in os.walk(path)\n",
      "    for f in fnmatch.filter(files, '*_features_*.csv')]\n",
      "\n",
      "for ff in configfiles:\n",
      "    print ff\n"
     ],
     "language": "python",
     "metadata": {},
     "outputs": []
    },
    {
     "cell_type": "code",
     "collapsed": false,
     "input": [
      "f_GLCM = open('/Volumes/vph-prism5/Sara/SPIE16/Manuscript/LightLines/LightLines_GLCM_features_4_21.csv')\n",
      "f_GLCM.readline()  # skip the header\n",
      "X_GLCM = np.loadtxt(fname = f_GLCM, delimiter = ',')\n",
      "y_GLCM = np.loadtxt('/Volumes/vph-prism5/Sara/SPIE16/Manuscript/LightLines/LightLines_GLCM_labels.csv', delimiter = ',', usecols=(2,), dtype = int)\n",
      "#filenames\n",
      "z_GLCM = np.loadtxt('/Volumes/vph-prism5/Sara/SPIE16/Manuscript/LightLines/LightLines_GLCM_labels.csv', delimiter = ',', usecols=(0,), dtype = str)\n",
      "\n",
      "\n",
      "n_sample_GLCM = len(X_GLCM)\n",
      "\n",
      "np.random.seed(0)\n",
      "order_GLCM = np.random.permutation(n_sample_GLCM)\n",
      "#order_GLCM = order_RGB\n",
      "X_GLCM = X_GLCM[order_GLCM]\n",
      "y_GLCM = y_GLCM[order_GLCM].astype(np.float)\n",
      "z_GLCM = z_GLCM[order_GLCM]\n",
      "\n",
      "\n",
      "X_train_GLCM = X_GLCM[:.7 * n_sample_GLCM] ## select 70% of the data to train\n",
      "y_train_GLCM = y_GLCM[:.7 * n_sample_GLCM]\n",
      "X_test_GLCM = X_GLCM[.7 * n_sample_GLCM:]\n",
      "y_test_GLCM = y_GLCM[.7 * n_sample_GLCM:]\n",
      "z_test_GLCM = z_GLCM[.7 * n_sample_GLCM:]\n",
      "print z_test_GLCM"
     ],
     "language": "python",
     "metadata": {},
     "outputs": [
      {
       "output_type": "stream",
       "stream": "stdout",
       "text": [
        "['11_02_i' '14_02_i' '29_02_i' '37_01_m' '37_02_m' '06_02_m' '11_03_i'\n",
        " '33_01_m' '09_04_m' '16_04_m' '13_01_i' '20_01_i' '19_02_m' '26_02_i'\n",
        " '21_02_i' '40_02_i' '36_04_i' '08_03_i' '30_01_m' '27_01_m' '09_02_m'\n",
        " '26_03_m' '17_03_i' '11_04_i' '19_04_m' '05_03_i' '34_02_m' '40_04_i'\n",
        " '39_03_i' '28_01_i' '23_01_i']\n"
       ]
      }
     ],
     "prompt_number": 22
    },
    {
     "cell_type": "code",
     "collapsed": false,
     "input": [
      "def seq_float_forw_select(features, max_k, criterion_func, print_steps=False):\n",
      "    \"\"\"\n",
      "    Implementation of Sequential Floating Forward Selection.\n",
      "    \n",
      "    Keyword Arguments:\n",
      "        features (list): The feature space as a list of features.\n",
      "        max_k: Termination criterion; the size of the returned feature subset.\n",
      "        criterion_func (function): Function that is used to evaluate the\n",
      "            performance of the feature subset.\n",
      "        print_steps (bool): Prints the algorithm procedure if True.\n",
      "    \n",
      "    Returns the selected feature subset, a list of features of length max_k.\n",
      "\n",
      "    \"\"\"\n",
      "\n",
      "    # Initialization\n",
      "    feat_sub = []\n",
      "    k = 0\n",
      "\n",
      "    while True:\n",
      "\n",
      "        # Step 1: Inclusion\n",
      "        if print_steps:\n",
      "            print('\\nInclusion from features', features)\n",
      "        if len(features) > 0:\n",
      "            crit_func_max = criterion_func(feat_sub + [features[0]])\n",
      "            best_feat = features[0]\n",
      "            if len(features) > 1:\n",
      "                for x in features[1:]:\n",
      "                    crit_func_eval = criterion_func(feat_sub + [x])\n",
      "                    if crit_func_eval > crit_func_max:\n",
      "                        crit_func_max = crit_func_eval\n",
      "                        best_feat = x\n",
      "            features.remove(best_feat)\n",
      "            feat_sub.append(best_feat)\n",
      "            if print_steps:\n",
      "                print('include: {} -> feature_subset: {}'.format(best_feat, feat_sub))\n",
      "\n",
      "        # Step 2: Conditional Exclusion\n",
      "            worst_feat_val = None\n",
      "            if len(features) + len(feat_sub) > max_k:\n",
      "                crit_func_max = criterion_func(feat_sub)\n",
      "                for i in reversed(range(0,len(feat_sub))):\n",
      "                    crit_func_eval = criterion_func(feat_sub[:i] + feat_sub[i+1:])\n",
      "                    if crit_func_eval > crit_func_max:\n",
      "                        worst_feat, crit_func_max = i, crit_func_eval\n",
      "                        worst_feat_val = feat_sub[worst_feat]\n",
      "                if worst_feat_val:\n",
      "                    del feat_sub[worst_feat]\n",
      "            if print_steps:\n",
      "                print('exclude: {} -> feature subset: {}'.format(worst_feat_val, feat_sub))\n",
      "\n",
      "\n",
      "        # Termination condition\n",
      "        k = len(feat_sub)\n",
      "        if k == max_k:\n",
      "            break\n",
      "\n",
      "    return feat_sub"
     ],
     "language": "python",
     "metadata": {},
     "outputs": [],
     "prompt_number": 2
    },
    {
     "cell_type": "code",
     "collapsed": false,
     "input": [
      "from random import randint\n",
      "\n",
      "def simple_rand_crit_func(feat_sub):\n",
      "    \"\"\" \n",
      "    Returns sum of numerical values of an input list plus \n",
      "    a random integer ranging from -15 to 15. \n",
      "    \n",
      "    \"\"\"\n",
      "    return sum(feat_sub) + randint(-15,15)\n",
      "\n",
      "# Example:\n",
      "simple_rand_crit_func([1,2,4])"
     ],
     "language": "python",
     "metadata": {},
     "outputs": [
      {
       "metadata": {},
       "output_type": "pyout",
       "prompt_number": 12,
       "text": [
        "12"
       ]
      }
     ],
     "prompt_number": 12
    },
    {
     "cell_type": "code",
     "collapsed": false,
     "input": [
      "def example_seq_float_forw_select():\n",
      "    ex_features = [6,3,1,6,8,2,3,7,9,1]\n",
      "    res_seq_flforw = seq_float_forw_select(features=ex_features, max_k=3,\\\n",
      "                                 criterion_func=simple_rand_crit_func, print_steps=True)\n",
      "    return res_seq_flforw\n",
      "\n",
      "# Run example\n",
      "res_seq_flforw = example_seq_float_forw_select()\n",
      "print('RESULT: [6, 3, 1, 6, 8, 2, 3, 7, 9, 1] ->', res_seq_flforw)"
     ],
     "language": "python",
     "metadata": {},
     "outputs": [
      {
       "output_type": "stream",
       "stream": "stdout",
       "text": [
        "('\\nInclusion from features', [6, 3, 1, 6, 8, 2, 3, 7, 9, 1])\n",
        "include: 6 -> feature_subset: [6]\n",
        "exclude: None -> feature subset: [6]\n",
        "('\\nInclusion from features', [3, 1, 6, 8, 2, 3, 7, 9, 1])\n",
        "include: 6 -> feature_subset: [6, 6]\n",
        "exclude: None -> feature subset: [6, 6]\n",
        "('\\nInclusion from features', [3, 1, 8, 2, 3, 7, 9, 1])\n",
        "include: 9 -> feature_subset: [6, 6, 9]\n",
        "exclude: 6 -> feature subset: [6, 9]\n",
        "('\\nInclusion from features', [3, 1, 8, 2, 3, 7, 1])\n",
        "include: 8 -> feature_subset: [6, 9, 8]\n",
        "exclude: 8 -> feature subset: [6, 9]\n",
        "('\\nInclusion from features', [3, 1, 2, 3, 7, 1])\n",
        "include: 7 -> feature_subset: [6, 9, 7]\n",
        "exclude: None -> feature subset: [6, 9, 7]\n",
        "('RESULT: [6, 3, 1, 6, 8, 2, 3, 7, 9, 1] ->', [6, 9, 7])\n"
       ]
      }
     ],
     "prompt_number": 13
    },
    {
     "cell_type": "code",
     "collapsed": false,
     "input": [
      "print(__doc__)\n",
      "\n",
      "import numpy as np\n",
      "import matplotlib.pyplot as plt\n",
      "\n",
      "from sklearn.datasets import make_classification\n",
      "from sklearn.ensemble import ExtraTreesClassifier\n",
      "\n",
      "# Build a classification task using 3 informative features\n",
      "X, y = make_classification(n_samples=1000,\n",
      "                           n_features=10,\n",
      "                           n_informative=3,\n",
      "                           n_redundant=0,\n",
      "                           n_repeated=0,\n",
      "                           n_classes=2,\n",
      "                           random_state=0,\n",
      "                           shuffle=False)\n",
      "\n",
      "# Build a forest and compute the feature importances\n",
      "forest = ExtraTreesClassifier(n_estimators=250,\n",
      "                              random_state=0)\n",
      "\n",
      "forest.fit(X, y)\n",
      "importances = forest.feature_importances_\n",
      "std = np.std([tree.feature_importances_ for tree in forest.estimators_],\n",
      "             axis=0)\n",
      "indices = np.argsort(importances)[::-1]\n",
      "\n",
      "# Print the feature ranking\n",
      "print(\"Feature ranking:\")\n",
      "\n",
      "for f in range(10):\n",
      "    print(\"%d. feature %d (%f)\" % (f + 1, indices[f], importances[indices[f]]))\n",
      "\n",
      "# Plot the feature importances of the forest\n",
      "plt.figure()\n",
      "plt.title(\"Feature importances\")\n",
      "plt.bar(range(10), importances[indices],\n",
      "       color=\"r\", yerr=std[indices], align=\"center\")\n",
      "plt.xticks(range(10), indices)\n",
      "plt.xlim([-1, 10])\n",
      "plt.show()"
     ],
     "language": "python",
     "metadata": {},
     "outputs": [
      {
       "output_type": "stream",
       "stream": "stdout",
       "text": [
        "Automatically created module for IPython interactive environment\n",
        "Feature ranking:"
       ]
      },
      {
       "output_type": "stream",
       "stream": "stdout",
       "text": [
        "\n",
        "1. feature 0 (0.250398)\n",
        "2. feature 1 (0.232397)\n",
        "3. feature 2 (0.148898)\n",
        "4. feature 3 (0.055363)\n",
        "5. feature 8 (0.054010)\n",
        "6. feature 5 (0.053878)\n",
        "7. feature 6 (0.052583)\n",
        "8. feature 9 (0.051020)\n",
        "9. feature 7 (0.050963)\n",
        "10. feature 4 (0.050489)\n"
       ]
      },
      {
       "metadata": {},
       "output_type": "display_data",
       "png": "[encoded data removed]",
       "text": [
        "<matplotlib.figure.Figure at 0x112c2a550>"
       ]
      }
     ],
     "prompt_number": 20
    },
    {
     "cell_type": "code",
     "collapsed": false,
     "input": [],
     "language": "python",
     "metadata": {},
     "outputs": []
    }
   ],
   "metadata": {}
  }
 ]
}