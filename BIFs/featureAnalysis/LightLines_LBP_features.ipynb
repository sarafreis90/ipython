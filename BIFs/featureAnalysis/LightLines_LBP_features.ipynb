{
 "metadata": {
  "name": "",
  "signature": "sha256:86b827d130f941552fda9ff54941de2ccb4ffc7989598361c4a341ea59404589"
 },
 "nbformat": 3,
 "nbformat_minor": 0,
 "worksheets": [
  {
   "cells": [
    {
     "cell_type": "code",
     "collapsed": false,
     "input": [
      "###------------------------------------------------###\n",
      "###----------- Local Binary Features --------------###\n",
      "###------------------------------------------------###\n",
      "import matplotlib.pyplot as plt\n",
      "import numpy as np\n",
      "from skimage.transform import rotate\n",
      "from skimage.feature import local_binary_pattern\n",
      "from skimage import data\n",
      "from skimage.color import label2rgb\n",
      "import nibabel as nib\n",
      "import scipy.ndimage\n",
      "from scipy import ndimage\n",
      "from scipy.stats import itemfreq\n",
      "import glob\n",
      "import os\n",
      "import re\n",
      "%matplotlib inline\n",
      "\n",
      "# settings for LBP\n",
      "radius = 2\n",
      "n_points = 8 * radius\n",
      "\n",
      "# List for storing the LBP Histograms\n",
      "lbp_hist = []\n",
      "hist_l = []\n",
      "\n",
      "filename_list = []\n",
      "\n",
      "for files in sorted(glob.glob('/Volumes/vph-prism5/Sara/SPIE16/ABSTRACT/December_resultsLightLines/*.nii.gz')):    \n",
      "    (dirname, filename) = os.path.split(files)\n",
      "    filename = str(os.path.basename(files))\n",
      "    filename = filename.replace('.nii.gz','')\n",
      "    filename = filename.replace('lightLines_','')\n",
      "    print filename\n",
      "    filename_list.append(filename)\n",
      "    \n",
      "#img = nib.load('/Volumes/vph-prism5/Sara/SPIE16/resultsLightLines/lightLines_05_01_i.nii.gz')\n",
      "    img = nib.load(files)\n",
      "    data_i = img.get_data() \n",
      "    data_i = data_i.squeeze()\n",
      "    data_i = ndimage.rotate(data_i, 90, order=0)\n",
      "    image_i = np.flipud(data_i)\n",
      "    image_i = np.uint8(image_i)\n",
      "    #print image_i.dtype\n",
      "    #print image_i.shape\n",
      "\n",
      "    \n",
      "    ##----- Load correspondent binary mask -----##\n",
      "    mask_name = 'mask_' + filename + '.nii.gz'\n",
      "    mask_dir = '/Volumes/vph-prism4/data/KCL/stroma_masks'\n",
      "    mask_in = os.path.join(mask_dir, mask_name )\n",
      "    \n",
      "    mask_img = nib.load(mask_in)\n",
      "    mask = mask_img.get_data()\n",
      "    mask = mask.squeeze()\n",
      "    mask = ndimage.rotate(mask,90)\n",
      "    mask = np.flipud(mask)\n",
      "    #print mask.shape\n",
      "    #print mask.dtype\n",
      "    \n",
      "    ##----- mask rgb images ------##\n",
      "    masked_image = np.zeros_like(image_i)\n",
      "    \n",
      "    # apply the mask to your image\n",
      "    idx = (mask != 0)\n",
      "    masked_image[idx] = image_i[idx]\n",
      "    #plt.imshow(masked_image, 'gray')\n",
      "    #plt.show()\n",
      "    #print np.amax(masked_image)\n",
      "    \n",
      "    lbp = local_binary_pattern(masked_image, n_points, radius, 'uniform')\n",
      "    #print lbp.max()\n",
      "    #print lbp.shape\n",
      "    #print lbp\n",
      "    \n",
      "    h = itemfreq(lbp.ravel()) # Returns a 2-D array of item frequencies\n",
      "    #print h\n",
      "    #hist_l = h[:, 1]/sum(h[:, 1]) #normalise\n",
      "    #print hist_l\n",
      "    hist_l = h[:, 1].tolist()\n",
      "    del hist_l[-2] # delete bin corresponding to zeros\n",
      "    \n",
      "\n",
      "    hist_l = [float(i)/sum(hist_l) for i in hist_l] #normalise histogram\n",
      "    #print hist_l\n",
      "    lbp_hist.append(hist_l)\n",
      "\n",
      "\n",
      "    l_labels = [0,1,2,3,4,5,6,7,8,9,10,11,12,13,14,15,16]\n",
      "    #list(range(n_points+1, n_points + 2))\n",
      "    \n",
      "    iii=0\n",
      "    if iii==1:\n",
      "        def overlay_labels(image, lbp, labels):\n",
      "            mask = np.logical_or.reduce([lbp == each for each in labels])\n",
      "            return label2rgb(mask, image=image, bg_label=0, alpha=0.5)\n",
      "\n",
      "        ind = np.arange(n_points+1)\n",
      "        #print ind\n",
      "        fig, (ax_img, ax_hist) = plt.subplots(nrows=2, ncols=1, figsize=(3, 6))\n",
      "        plt.gray()\n",
      "\n",
      "        ax_img.imshow(overlay_labels(masked_image, lbp, flat_labels))\n",
      "        ax_img.axis('off')\n",
      "\n",
      "        ax_hist.bar(ind, hist_l)\n",
      "        ax_hist.set_ylabel('Percentage')\n",
      "        ax_hist.set_xlabel('Uniform LBP Values')\n",
      "        plt.show()\n",
      "\n",
      "print \"Final Local Binary Patterns: \"\n",
      "print lbp_hist\n",
      "print \"All done!\""
     ],
     "language": "python",
     "metadata": {},
     "outputs": [
      {
       "output_type": "stream",
       "stream": "stdout",
       "text": [
        "01_01_i\n",
        "01_02_i"
       ]
      },
      {
       "output_type": "stream",
       "stream": "stdout",
       "text": [
        "\n",
        "02_01_i"
       ]
      },
      {
       "output_type": "stream",
       "stream": "stdout",
       "text": [
        "\n",
        "02_02_i"
       ]
      },
      {
       "output_type": "stream",
       "stream": "stdout",
       "text": [
        "\n",
        "02_03_i"
       ]
      },
      {
       "output_type": "stream",
       "stream": "stdout",
       "text": [
        "\n",
        "03_01_i"
       ]
      },
      {
       "output_type": "stream",
       "stream": "stdout",
       "text": [
        "\n",
        "03_02_i"
       ]
      },
      {
       "output_type": "stream",
       "stream": "stdout",
       "text": [
        "\n",
        "05_01_i"
       ]
      },
      {
       "output_type": "stream",
       "stream": "stdout",
       "text": [
        "\n",
        "05_02_i"
       ]
      },
      {
       "output_type": "stream",
       "stream": "stdout",
       "text": [
        "\n",
        "05_03_i"
       ]
      },
      {
       "output_type": "stream",
       "stream": "stdout",
       "text": [
        "\n",
        "06_01_m"
       ]
      },
      {
       "output_type": "stream",
       "stream": "stdout",
       "text": [
        "\n",
        "06_02_m"
       ]
      },
      {
       "output_type": "stream",
       "stream": "stdout",
       "text": [
        "\n",
        "08_01_i"
       ]
      },
      {
       "output_type": "stream",
       "stream": "stdout",
       "text": [
        "\n",
        "08_02_i"
       ]
      },
      {
       "output_type": "stream",
       "stream": "stdout",
       "text": [
        "\n",
        "08_03_i"
       ]
      },
      {
       "output_type": "stream",
       "stream": "stdout",
       "text": [
        "\n",
        "09_02_m"
       ]
      },
      {
       "output_type": "stream",
       "stream": "stdout",
       "text": [
        "\n",
        "09_03_m"
       ]
      },
      {
       "output_type": "stream",
       "stream": "stdout",
       "text": [
        "\n",
        "09_04_m"
       ]
      },
      {
       "output_type": "stream",
       "stream": "stdout",
       "text": [
        "\n",
        "09_05_i"
       ]
      },
      {
       "output_type": "stream",
       "stream": "stdout",
       "text": [
        "\n",
        "09_06_i"
       ]
      },
      {
       "output_type": "stream",
       "stream": "stdout",
       "text": [
        "\n",
        "10_01_i"
       ]
      },
      {
       "output_type": "stream",
       "stream": "stdout",
       "text": [
        "\n",
        "10_02_i"
       ]
      },
      {
       "output_type": "stream",
       "stream": "stdout",
       "text": [
        "\n",
        "10_03_i"
       ]
      },
      {
       "output_type": "stream",
       "stream": "stdout",
       "text": [
        "\n",
        "11_01_i"
       ]
      },
      {
       "output_type": "stream",
       "stream": "stdout",
       "text": [
        "\n",
        "11_02_i"
       ]
      },
      {
       "output_type": "stream",
       "stream": "stdout",
       "text": [
        "\n",
        "11_03_i"
       ]
      },
      {
       "output_type": "stream",
       "stream": "stdout",
       "text": [
        "\n",
        "11_04_i"
       ]
      },
      {
       "output_type": "stream",
       "stream": "stdout",
       "text": [
        "\n",
        "11_05_i"
       ]
      },
      {
       "output_type": "stream",
       "stream": "stdout",
       "text": [
        "\n",
        "12_01_i"
       ]
      },
      {
       "output_type": "stream",
       "stream": "stdout",
       "text": [
        "\n",
        "12_02_i"
       ]
      },
      {
       "output_type": "stream",
       "stream": "stdout",
       "text": [
        "\n",
        "13_01_i"
       ]
      },
      {
       "output_type": "stream",
       "stream": "stdout",
       "text": [
        "\n",
        "13_02_i"
       ]
      },
      {
       "output_type": "stream",
       "stream": "stdout",
       "text": [
        "\n",
        "13_03_i"
       ]
      },
      {
       "output_type": "stream",
       "stream": "stdout",
       "text": [
        "\n",
        "14_01_i"
       ]
      },
      {
       "output_type": "stream",
       "stream": "stdout",
       "text": [
        "\n",
        "14_02_i"
       ]
      },
      {
       "output_type": "stream",
       "stream": "stdout",
       "text": [
        "\n",
        "14_03_i"
       ]
      },
      {
       "output_type": "stream",
       "stream": "stdout",
       "text": [
        "\n",
        "15_01_m"
       ]
      },
      {
       "output_type": "stream",
       "stream": "stdout",
       "text": [
        "\n",
        "15_02_i"
       ]
      },
      {
       "output_type": "stream",
       "stream": "stdout",
       "text": [
        "\n",
        "15_03_m"
       ]
      },
      {
       "output_type": "stream",
       "stream": "stdout",
       "text": [
        "\n",
        "15_04_i"
       ]
      },
      {
       "output_type": "stream",
       "stream": "stdout",
       "text": [
        "\n",
        "16_01_i"
       ]
      },
      {
       "output_type": "stream",
       "stream": "stdout",
       "text": [
        "\n",
        "16_02_m"
       ]
      },
      {
       "output_type": "stream",
       "stream": "stdout",
       "text": [
        "\n",
        "16_03_m"
       ]
      },
      {
       "output_type": "stream",
       "stream": "stdout",
       "text": [
        "\n",
        "16_04_m"
       ]
      },
      {
       "output_type": "stream",
       "stream": "stdout",
       "text": [
        "\n",
        "17_01_i"
       ]
      },
      {
       "output_type": "stream",
       "stream": "stdout",
       "text": [
        "\n",
        "17_02_i"
       ]
      },
      {
       "output_type": "stream",
       "stream": "stdout",
       "text": [
        "\n",
        "17_03_i"
       ]
      },
      {
       "output_type": "stream",
       "stream": "stdout",
       "text": [
        "\n",
        "18_01_m"
       ]
      },
      {
       "output_type": "stream",
       "stream": "stdout",
       "text": [
        "\n",
        "18_02_m"
       ]
      },
      {
       "output_type": "stream",
       "stream": "stdout",
       "text": [
        "\n",
        "19_01_m"
       ]
      },
      {
       "output_type": "stream",
       "stream": "stdout",
       "text": [
        "\n",
        "19_02_m"
       ]
      },
      {
       "output_type": "stream",
       "stream": "stdout",
       "text": [
        "\n",
        "19_03_m"
       ]
      },
      {
       "output_type": "stream",
       "stream": "stdout",
       "text": [
        "\n",
        "19_04_m"
       ]
      },
      {
       "output_type": "stream",
       "stream": "stdout",
       "text": [
        "\n",
        "20_01_i"
       ]
      },
      {
       "output_type": "stream",
       "stream": "stdout",
       "text": [
        "\n",
        "20_02_i"
       ]
      },
      {
       "output_type": "stream",
       "stream": "stdout",
       "text": [
        "\n",
        "21_01_m"
       ]
      },
      {
       "output_type": "stream",
       "stream": "stdout",
       "text": [
        "\n",
        "21_02_i"
       ]
      },
      {
       "output_type": "stream",
       "stream": "stdout",
       "text": [
        "\n"
       ]
      },
      {
       "ename": "IOError",
       "evalue": "[Errno 60] Operation timed out: '/Volumes/vph-prism5/Sara/SPIE16/ABSTRACT/December_resultsLightLines/lightLines_21_02_i.nii.gz'",
       "output_type": "pyerr",
       "traceback": [
        "\u001b[0;31m---------------------------------------------------------------------------\u001b[0m\n\u001b[0;31mIOError\u001b[0m                                   Traceback (most recent call last)",
        "\u001b[0;32m<ipython-input-2-9d511487ccc9>\u001b[0m in \u001b[0;36m<module>\u001b[0;34m()\u001b[0m\n\u001b[1;32m     36\u001b[0m \u001b[0;34m\u001b[0m\u001b[0m\n\u001b[1;32m     37\u001b[0m \u001b[0;31m#img = nib.load('/Volumes/vph-prism5/Sara/SPIE16/resultsLightLines/lightLines_05_01_i.nii.gz')\u001b[0m\u001b[0;34m\u001b[0m\u001b[0;34m\u001b[0m\u001b[0m\n\u001b[0;32m---> 38\u001b[0;31m     \u001b[0mimg\u001b[0m \u001b[0;34m=\u001b[0m \u001b[0mnib\u001b[0m\u001b[0;34m.\u001b[0m\u001b[0mload\u001b[0m\u001b[0;34m(\u001b[0m\u001b[0mfiles\u001b[0m\u001b[0;34m)\u001b[0m\u001b[0;34m\u001b[0m\u001b[0m\n\u001b[0m\u001b[1;32m     39\u001b[0m     \u001b[0mdata_i\u001b[0m \u001b[0;34m=\u001b[0m \u001b[0mimg\u001b[0m\u001b[0;34m.\u001b[0m\u001b[0mget_data\u001b[0m\u001b[0;34m(\u001b[0m\u001b[0;34m)\u001b[0m\u001b[0;34m\u001b[0m\u001b[0m\n\u001b[1;32m     40\u001b[0m     \u001b[0mdata_i\u001b[0m \u001b[0;34m=\u001b[0m \u001b[0mdata_i\u001b[0m\u001b[0;34m.\u001b[0m\u001b[0msqueeze\u001b[0m\u001b[0;34m(\u001b[0m\u001b[0;34m)\u001b[0m\u001b[0;34m\u001b[0m\u001b[0m\n",
        "\u001b[0;32m/Library/Python/2.7/site-packages/nibabel/loadsave.pyc\u001b[0m in \u001b[0;36mload\u001b[0;34m(filename)\u001b[0m\n\u001b[1;32m     52\u001b[0m         \u001b[0;32melse\u001b[0m\u001b[0;34m:\u001b[0m\u001b[0;34m\u001b[0m\u001b[0m\n\u001b[1;32m     53\u001b[0m             \u001b[0mklass\u001b[0m \u001b[0;34m=\u001b[0m  \u001b[0mspm2\u001b[0m\u001b[0;34m.\u001b[0m\u001b[0mSpm2AnalyzeImage\u001b[0m\u001b[0;34m\u001b[0m\u001b[0m\n\u001b[0;32m---> 54\u001b[0;31m     \u001b[0;32mreturn\u001b[0m \u001b[0mklass\u001b[0m\u001b[0;34m.\u001b[0m\u001b[0mfrom_filename\u001b[0m\u001b[0;34m(\u001b[0m\u001b[0mfilename\u001b[0m\u001b[0;34m)\u001b[0m\u001b[0;34m\u001b[0m\u001b[0m\n\u001b[0m\u001b[1;32m     55\u001b[0m \u001b[0;34m\u001b[0m\u001b[0m\n\u001b[1;32m     56\u001b[0m \u001b[0;34m\u001b[0m\u001b[0m\n",
        "\u001b[0;32m/Library/Python/2.7/site-packages/nibabel/spatialimages.pyc\u001b[0m in \u001b[0;36mfrom_filename\u001b[0;34m(klass, filename)\u001b[0m\n\u001b[1;32m    409\u001b[0m     \u001b[0;32mdef\u001b[0m \u001b[0mfrom_filename\u001b[0m\u001b[0;34m(\u001b[0m\u001b[0mklass\u001b[0m\u001b[0;34m,\u001b[0m \u001b[0mfilename\u001b[0m\u001b[0;34m)\u001b[0m\u001b[0;34m:\u001b[0m\u001b[0;34m\u001b[0m\u001b[0m\n\u001b[1;32m    410\u001b[0m         \u001b[0mfile_map\u001b[0m \u001b[0;34m=\u001b[0m \u001b[0mklass\u001b[0m\u001b[0;34m.\u001b[0m\u001b[0mfilespec_to_file_map\u001b[0m\u001b[0;34m(\u001b[0m\u001b[0mfilename\u001b[0m\u001b[0;34m)\u001b[0m\u001b[0;34m\u001b[0m\u001b[0m\n\u001b[0;32m--> 411\u001b[0;31m         \u001b[0;32mreturn\u001b[0m \u001b[0mklass\u001b[0m\u001b[0;34m.\u001b[0m\u001b[0mfrom_file_map\u001b[0m\u001b[0;34m(\u001b[0m\u001b[0mfile_map\u001b[0m\u001b[0;34m)\u001b[0m\u001b[0;34m\u001b[0m\u001b[0m\n\u001b[0m\u001b[1;32m    412\u001b[0m \u001b[0;34m\u001b[0m\u001b[0m\n\u001b[1;32m    413\u001b[0m     \u001b[0;34m@\u001b[0m\u001b[0mclassmethod\u001b[0m\u001b[0;34m\u001b[0m\u001b[0m\n",
        "\u001b[0;32m/Library/Python/2.7/site-packages/nibabel/analyze.pyc\u001b[0m in \u001b[0;36mfrom_file_map\u001b[0;34m(klass, file_map)\u001b[0m\n\u001b[1;32m    867\u001b[0m         '''\n\u001b[1;32m    868\u001b[0m         \u001b[0mhdr_fh\u001b[0m\u001b[0;34m,\u001b[0m \u001b[0mimg_fh\u001b[0m \u001b[0;34m=\u001b[0m \u001b[0mklass\u001b[0m\u001b[0;34m.\u001b[0m\u001b[0m_get_fileholders\u001b[0m\u001b[0;34m(\u001b[0m\u001b[0mfile_map\u001b[0m\u001b[0;34m)\u001b[0m\u001b[0;34m\u001b[0m\u001b[0m\n\u001b[0;32m--> 869\u001b[0;31m         \u001b[0mhdrf\u001b[0m \u001b[0;34m=\u001b[0m \u001b[0mhdr_fh\u001b[0m\u001b[0;34m.\u001b[0m\u001b[0mget_prepare_fileobj\u001b[0m\u001b[0;34m(\u001b[0m\u001b[0mmode\u001b[0m\u001b[0;34m=\u001b[0m\u001b[0;34m'rb'\u001b[0m\u001b[0;34m)\u001b[0m\u001b[0;34m\u001b[0m\u001b[0m\n\u001b[0m\u001b[1;32m    870\u001b[0m         \u001b[0mheader\u001b[0m \u001b[0;34m=\u001b[0m \u001b[0mklass\u001b[0m\u001b[0;34m.\u001b[0m\u001b[0mheader_class\u001b[0m\u001b[0;34m.\u001b[0m\u001b[0mfrom_fileobj\u001b[0m\u001b[0;34m(\u001b[0m\u001b[0mhdrf\u001b[0m\u001b[0;34m)\u001b[0m\u001b[0;34m\u001b[0m\u001b[0m\n\u001b[1;32m    871\u001b[0m         \u001b[0;32mif\u001b[0m \u001b[0mhdr_fh\u001b[0m\u001b[0;34m.\u001b[0m\u001b[0mfileobj\u001b[0m \u001b[0;32mis\u001b[0m \u001b[0mNone\u001b[0m\u001b[0;34m:\u001b[0m \u001b[0;31m# was filename\u001b[0m\u001b[0;34m\u001b[0m\u001b[0m\n",
        "\u001b[0;32m/Library/Python/2.7/site-packages/nibabel/fileholders.pyc\u001b[0m in \u001b[0;36mget_prepare_fileobj\u001b[0;34m(self, *args, **kwargs)\u001b[0m\n\u001b[1;32m     67\u001b[0m             \u001b[0mobj\u001b[0m\u001b[0;34m.\u001b[0m\u001b[0mseek\u001b[0m\u001b[0;34m(\u001b[0m\u001b[0mself\u001b[0m\u001b[0;34m.\u001b[0m\u001b[0mpos\u001b[0m\u001b[0;34m)\u001b[0m\u001b[0;34m\u001b[0m\u001b[0m\n\u001b[1;32m     68\u001b[0m         \u001b[0;32melif\u001b[0m \u001b[0mself\u001b[0m\u001b[0;34m.\u001b[0m\u001b[0mfilename\u001b[0m \u001b[0;32mis\u001b[0m \u001b[0;32mnot\u001b[0m \u001b[0mNone\u001b[0m\u001b[0;34m:\u001b[0m\u001b[0;34m\u001b[0m\u001b[0m\n\u001b[0;32m---> 69\u001b[0;31m             \u001b[0mobj\u001b[0m \u001b[0;34m=\u001b[0m \u001b[0mallopen\u001b[0m\u001b[0;34m(\u001b[0m\u001b[0mself\u001b[0m\u001b[0;34m.\u001b[0m\u001b[0mfilename\u001b[0m\u001b[0;34m,\u001b[0m \u001b[0;34m*\u001b[0m\u001b[0margs\u001b[0m\u001b[0;34m,\u001b[0m \u001b[0;34m**\u001b[0m\u001b[0mkwargs\u001b[0m\u001b[0;34m)\u001b[0m\u001b[0;34m\u001b[0m\u001b[0m\n\u001b[0m\u001b[1;32m     70\u001b[0m             \u001b[0;32mif\u001b[0m \u001b[0mself\u001b[0m\u001b[0;34m.\u001b[0m\u001b[0mpos\u001b[0m \u001b[0;34m!=\u001b[0m \u001b[0;36m0\u001b[0m\u001b[0;34m:\u001b[0m\u001b[0;34m\u001b[0m\u001b[0m\n\u001b[1;32m     71\u001b[0m                 \u001b[0mobj\u001b[0m\u001b[0;34m.\u001b[0m\u001b[0mseek\u001b[0m\u001b[0;34m(\u001b[0m\u001b[0mself\u001b[0m\u001b[0;34m.\u001b[0m\u001b[0mpos\u001b[0m\u001b[0;34m)\u001b[0m\u001b[0;34m\u001b[0m\u001b[0m\n",
        "\u001b[0;32m/Library/Python/2.7/site-packages/nibabel/volumeutils.pyc\u001b[0m in \u001b[0;36mallopen\u001b[0;34m(fname, *args, **kwargs)\u001b[0m\n\u001b[1;32m   1282\u001b[0m     \u001b[0;32melse\u001b[0m\u001b[0;34m:\u001b[0m\u001b[0;34m\u001b[0m\u001b[0m\n\u001b[1;32m   1283\u001b[0m         \u001b[0mopener\u001b[0m \u001b[0;34m=\u001b[0m \u001b[0mopen\u001b[0m\u001b[0;34m\u001b[0m\u001b[0m\n\u001b[0;32m-> 1284\u001b[0;31m     \u001b[0;32mreturn\u001b[0m \u001b[0mopener\u001b[0m\u001b[0;34m(\u001b[0m\u001b[0mfname\u001b[0m\u001b[0;34m,\u001b[0m \u001b[0;34m*\u001b[0m\u001b[0margs\u001b[0m\u001b[0;34m,\u001b[0m \u001b[0;34m**\u001b[0m\u001b[0mkwargs\u001b[0m\u001b[0;34m)\u001b[0m\u001b[0;34m\u001b[0m\u001b[0m\n\u001b[0m\u001b[1;32m   1285\u001b[0m \u001b[0;34m\u001b[0m\u001b[0m\n\u001b[1;32m   1286\u001b[0m \u001b[0;34m\u001b[0m\u001b[0m\n",
        "\u001b[0;32m/System/Library/Frameworks/Python.framework/Versions/2.7/lib/python2.7/gzip.pyc\u001b[0m in \u001b[0;36mopen\u001b[0;34m(filename, mode, compresslevel)\u001b[0m\n\u001b[1;32m     32\u001b[0m \u001b[0;34m\u001b[0m\u001b[0m\n\u001b[1;32m     33\u001b[0m     \"\"\"\n\u001b[0;32m---> 34\u001b[0;31m     \u001b[0;32mreturn\u001b[0m \u001b[0mGzipFile\u001b[0m\u001b[0;34m(\u001b[0m\u001b[0mfilename\u001b[0m\u001b[0;34m,\u001b[0m \u001b[0mmode\u001b[0m\u001b[0;34m,\u001b[0m \u001b[0mcompresslevel\u001b[0m\u001b[0;34m)\u001b[0m\u001b[0;34m\u001b[0m\u001b[0m\n\u001b[0m\u001b[1;32m     35\u001b[0m \u001b[0;34m\u001b[0m\u001b[0m\n\u001b[1;32m     36\u001b[0m \u001b[0;32mclass\u001b[0m \u001b[0mGzipFile\u001b[0m\u001b[0;34m(\u001b[0m\u001b[0mio\u001b[0m\u001b[0;34m.\u001b[0m\u001b[0mBufferedIOBase\u001b[0m\u001b[0;34m)\u001b[0m\u001b[0;34m:\u001b[0m\u001b[0;34m\u001b[0m\u001b[0m\n",
        "\u001b[0;32m/System/Library/Frameworks/Python.framework/Versions/2.7/lib/python2.7/gzip.pyc\u001b[0m in \u001b[0;36m__init__\u001b[0;34m(self, filename, mode, compresslevel, fileobj, mtime)\u001b[0m\n\u001b[1;32m     92\u001b[0m             \u001b[0mmode\u001b[0m \u001b[0;34m+=\u001b[0m \u001b[0;34m'b'\u001b[0m\u001b[0;34m\u001b[0m\u001b[0m\n\u001b[1;32m     93\u001b[0m         \u001b[0;32mif\u001b[0m \u001b[0mfileobj\u001b[0m \u001b[0;32mis\u001b[0m \u001b[0mNone\u001b[0m\u001b[0;34m:\u001b[0m\u001b[0;34m\u001b[0m\u001b[0m\n\u001b[0;32m---> 94\u001b[0;31m             \u001b[0mfileobj\u001b[0m \u001b[0;34m=\u001b[0m \u001b[0mself\u001b[0m\u001b[0;34m.\u001b[0m\u001b[0mmyfileobj\u001b[0m \u001b[0;34m=\u001b[0m \u001b[0m__builtin__\u001b[0m\u001b[0;34m.\u001b[0m\u001b[0mopen\u001b[0m\u001b[0;34m(\u001b[0m\u001b[0mfilename\u001b[0m\u001b[0;34m,\u001b[0m \u001b[0mmode\u001b[0m \u001b[0;32mor\u001b[0m \u001b[0;34m'rb'\u001b[0m\u001b[0;34m)\u001b[0m\u001b[0;34m\u001b[0m\u001b[0m\n\u001b[0m\u001b[1;32m     95\u001b[0m         \u001b[0;32mif\u001b[0m \u001b[0mfilename\u001b[0m \u001b[0;32mis\u001b[0m \u001b[0mNone\u001b[0m\u001b[0;34m:\u001b[0m\u001b[0;34m\u001b[0m\u001b[0m\n\u001b[1;32m     96\u001b[0m             \u001b[0;31m# Issue #13781: os.fdopen() creates a fileobj with a bogus name\u001b[0m\u001b[0;34m\u001b[0m\u001b[0;34m\u001b[0m\u001b[0m\n",
        "\u001b[0;31mIOError\u001b[0m: [Errno 60] Operation timed out: '/Volumes/vph-prism5/Sara/SPIE16/ABSTRACT/December_resultsLightLines/lightLines_21_02_i.nii.gz'"
       ]
      }
     ],
     "prompt_number": 2
    },
    {
     "cell_type": "code",
     "collapsed": false,
     "input": [
      "##--------- SAVE FEATURES IN CSV FILE -----------##\n",
      "\n",
      "import csv\n",
      "LBP_header = np.arange(n_points+1).tolist()\n",
      "print LBP_header\n",
      "LBPfeatures_filename = 'LightLines_LBP_features.csv'\n",
      "csvFilename_all = os.path.join(dirname, LBPfeatures_filename )\n",
      "file = open(csvFilename_all, \"wb\")\n",
      "writer = csv.writer(file)\n",
      "writer.writerow(LBP_header)\n",
      "writer.writerows(lbp_hist)\n",
      "file.close()\n",
      "####final_LBP_features = chunks(lbp_hist,16)\n",
      "\n",
      "print 'List of sample names:'\n",
      "print filename_list\n",
      "csvFilenameList = 'LightLines_LBP_labels.csv'\n",
      "csvFilename_mean = os.path.join(dirname, csvFilenameList )\n",
      "file = open(csvFilename_mean, \"wb\")\n",
      "writer = csv.writer(file)\n",
      "writer.writerow(filename_list)\n",
      "file.close()"
     ],
     "language": "python",
     "metadata": {},
     "outputs": [
      {
       "output_type": "stream",
       "stream": "stdout",
       "text": [
        "[0, 1, 2, 3, 4, 5, 6, 7, 8, 9, 10, 11, 12, 13, 14, 15, 16]\n",
        "List of sample names:"
       ]
      },
      {
       "output_type": "stream",
       "stream": "stdout",
       "text": [
        "\n",
        "['01_01_i', '01_02_i', '02_01_i', '02_02_i', '02_03_i', '03_01_i', '03_02_i', '04_01_i', '04_02_i', '04_03_i', '05_01_i', '05_02_i', '05_03_i', '06_01_m', '06_02_m', '06_03_m', '07_01_m', '08_01_i', '08_02_i', '08_03_i', '09_01_m', '09_02_m', '09_03_m', '09_04_m', '09_05_i', '09_06_i', '10_01_i', '10_02_i', '10_03_i', '11_01_i', '11_02_i', '11_03_i', '11_04_i', '11_05_i', '12_01_i', '12_02_i', '13_01_i', '13_02_i', '13_03_i', '13_04_m', '13_05_m', '14_01_i', '14_02_i', '14_03_i', '15_01_m', '15_02_i', '15_03_m', '15_04_i', '16_01_i', '16_02_m', '16_03_m', '16_04_m', '17_01_i', '17_02_i', '17_03_i', '18_01_m', '18_02_m', '19_01_m', '19_02_m', '19_03_m', '19_04_m', '20_01_i', '20_02_i', '20_03_m', '21_01_m', '21_02_i', '21_03_i', '22_01_m', '22_02_i', '22_03_i', '22_04_i', '23_01_i', '23_02_i', '23_03_m', '24_01_m', '25_01_m', '25_02_m', '26_01_m', '26_02_i', '26_03_m', '27_01_m', '27_02_m', '28_01_i', '28_02_i', '28_03_m', '28_04_m', '29_01_m', '29_02_i', '30_01_m', '30_02_m', '30_03_m', '31_01_m', '31_02_m', '31_03_m', '32_01_m', '32_02_m', '33_01_m', '33_02_m', '33_03_i', '34_01_i', '34_02_m', '35_01_m', '35_02_i', '35_03_i', '35_04_i', '36_01_i', '36_02_i', '36_03_i', '36_04_i', '37_01_m', '37_02_m', '37_03_i', '37_04_i', '38_01_m', '38_02_m', '38_03_i', '39_01_i', '39_02_i', '39_03_i', '40_02_i', '40_03_i', '40_04_i']\n"
       ]
      }
     ],
     "prompt_number": 4
    },
    {
     "cell_type": "code",
     "collapsed": false,
     "input": [
      "# plot histograms of LBP of textures\n",
      "ind = []\n",
      "ind = np.arange(17).tolist()\n",
      "print ind\n",
      "print len(hist_l)\n",
      "width = 1/16\n",
      "\n",
      "fig, (ax_img, ax_hist) = plt.subplots(nrows=2, ncols=1, figsize=(3, 6))\n",
      "plt.gray()\n",
      "\n",
      "ax_img.imshow(image_i)\n",
      "ax_img.axis('off')\n",
      "\n",
      "ax_hist.bar(ind, hist_l)\n",
      "ax_hist.set_ylabel('Percentage')\n",
      "ax_hist.set_xlabel('Uniform LBP Values')\n",
      "plt.show()\n"
     ],
     "language": "python",
     "metadata": {},
     "outputs": []
    },
    {
     "cell_type": "code",
     "collapsed": false,
     "input": [
      "def hist(ax, lbp):\n",
      "    n_bins = lbp.max() + 1\n",
      "    return ax.hist(lbp.ravel(), normed=True, bins=n_bins, range=(0, n_bins),\n",
      "                   facecolor='0.5')\n",
      "\n",
      "# plot histograms of LBP of textures\n",
      "fig, (ax_img, ax_hist) = plt.subplots(nrows=2, ncols=1, figsize=(3, 6))\n",
      "plt.gray()\n",
      "\n",
      "ax_img.imshow(image_i)\n",
      "ax_img.axis('off')\n",
      "hist(ax_hist, lbp)\n",
      "ax_hist.set_xlabel('Uniform LBP values')\n",
      "ax_hist.set_ylim([0,0.5])"
     ],
     "language": "python",
     "metadata": {},
     "outputs": []
    },
    {
     "cell_type": "code",
     "collapsed": false,
     "input": [
      "\"\"\"\n",
      "===============================================\n",
      "Local Binary Pattern for texture classification\n",
      "===============================================\n",
      "In this example, we will see how to classify textures based on LBP (Local\n",
      "Binary Pattern). LBP looks at points surrounding a central point and tests\n",
      "whether the surrounding points are greater than or less than the central point\n",
      "(i.e. gives a binary result).\n",
      "Before trying out LBP on an image, it helps to look at a schematic of LBPs.\n",
      "The below code is just used to plot the schematic.\n",
      "\"\"\"\n",
      "from __future__ import print_function\n",
      "import numpy as np\n",
      "import matplotlib.pyplot as plt\n",
      "%matplotlib inline\n",
      "\n",
      "\n",
      "METHOD = 'uniform'\n",
      "plt.rcParams['font.size'] = 9\n",
      "\n",
      "\n",
      "def plot_circle(ax, center, radius, color):\n",
      "    circle = plt.Circle(center, radius, facecolor=color, edgecolor='0.5')\n",
      "    ax.add_patch(circle)\n",
      "\n",
      "\n",
      "def plot_lbp_model(ax, binary_values):\n",
      "    \"\"\"Draw the schematic for a local binary pattern.\"\"\"\n",
      "    # Geometry spec\n",
      "    theta = np.deg2rad(45)\n",
      "    R = 1\n",
      "    r = 0.15\n",
      "    w = 1.5\n",
      "    gray = '0.5'\n",
      "\n",
      "    # Draw the central pixel.\n",
      "    plot_circle(ax, (0, 0), radius=r, color=gray)\n",
      "    # Draw the surrounding pixels.\n",
      "    for i, facecolor in enumerate(binary_values):\n",
      "        x = R * np.cos(i * theta)\n",
      "        y = R * np.sin(i * theta)\n",
      "        plot_circle(ax, (x, y), radius=r, color=str(facecolor))\n",
      "\n",
      "    # Draw the pixel grid.\n",
      "    for x in np.linspace(-w, w, 4):\n",
      "        ax.axvline(x, color=gray)\n",
      "        ax.axhline(x, color=gray)\n",
      "\n",
      "    # Tweak the layout.\n",
      "    ax.axis('image')\n",
      "    ax.axis('off')\n",
      "    size = w + 0.2\n",
      "    ax.set_xlim(-size, size)\n",
      "    ax.set_ylim(-size, size)\n",
      "\n",
      "\n",
      "fig, axes = plt.subplots(ncols=5, figsize=(7, 2))\n",
      "\n",
      "titles = ['flat', 'flat', 'edge', 'corner', 'non-uniform']\n",
      "\n",
      "binary_patterns = [np.zeros(8),\n",
      "                   np.ones(8),\n",
      "                   np.hstack([np.ones(4), np.zeros(4)]),\n",
      "                   np.hstack([np.zeros(3), np.ones(5)]),\n",
      "                   [1, 0, 0, 1, 1, 1, 0, 0]]\n",
      "\n",
      "for ax, values, name in zip(axes, binary_patterns, titles):\n",
      "    plot_lbp_model(ax, values)\n",
      "    ax.set_title(name)\n"
     ],
     "language": "python",
     "metadata": {},
     "outputs": []
    },
    {
     "cell_type": "code",
     "collapsed": false,
     "input": [
      "\"\"\"\n",
      ".. image:: PLOT2RST.current_figure\n",
      "The figure above shows example results with black (or white) representing\n",
      "pixels that are less (or more) intense than the central pixel. When surrounding\n",
      "pixels are all black or all white, then that image region is flat (i.e.\n",
      "featureless). Groups of continuous black or white pixels are considered\n",
      "\"uniform\" patterns that can be interpreted as corners or edges. If pixels\n",
      "switch back-and-forth between black and white pixels, the pattern is considered\n",
      "\"non-uniform\".\n",
      "When using LBP to detect texture, you measure a collection of LBPs over an\n",
      "image patch and look at the distribution of these LBPs. Lets apply LBP to\n",
      "a brick texture.\n",
      "\"\"\"\n",
      "\n",
      "from skimage.transform import rotate\n",
      "from skimage.feature import local_binary_pattern\n",
      "from skimage import data\n",
      "from skimage.color import label2rgb\n",
      "\n",
      "# settings for LBP\n",
      "radius = 3\n",
      "n_points = 8 * radius\n",
      "\n",
      "\n",
      "def overlay_labels(image, lbp, labels):\n",
      "    mask = np.logical_or.reduce([lbp == each for each in labels])\n",
      "    return label2rgb(mask, image=image, bg_label=0, alpha=0.5)\n",
      "\n",
      "\n",
      "def highlight_bars(bars, indexes):\n",
      "    for i in indexes:\n",
      "        bars[i].set_facecolor('r')\n",
      "\n",
      "\n",
      "image = data.load('brick.png')\n",
      "lbp = local_binary_pattern(image, n_points, radius, METHOD)\n",
      "\n",
      "def hist(ax, lbp):\n",
      "    n_bins = lbp.max() + 1\n",
      "    return ax.hist(lbp.ravel(), normed=True, bins=n_bins, range=(0, n_bins),\n",
      "                   facecolor='0.5')\n",
      "\n",
      "# plot histograms of LBP of textures\n",
      "fig, (ax_img, ax_hist) = plt.subplots(nrows=2, ncols=3, figsize=(9, 6))\n",
      "plt.gray()\n",
      "\n",
      "titles = ('edge', 'flat', 'corner')\n",
      "w = width = radius - 1\n",
      "edge_labels = range(n_points // 2 - w, n_points // 2 + w + 1)\n",
      "flat_labels = list(range(0, w + 1)) + list(range(n_points - w, n_points + 2))\n",
      "i_14 = n_points // 4            # 1/4th of the histogram\n",
      "i_34 = 3 * (n_points // 4)      # 3/4th of the histogram\n",
      "corner_labels = (list(range(i_14 - w, i_14 + w + 1)) +\n",
      "                 list(range(i_34 - w, i_34 + w + 1)))\n",
      "\n",
      "label_sets = (edge_labels, flat_labels, corner_labels)\n",
      "\n",
      "for ax, labels in zip(ax_img, label_sets):\n",
      "    ax.imshow(overlay_labels(image, lbp, labels))\n",
      "\n",
      "for ax, labels, name in zip(ax_hist, label_sets, titles):\n",
      "    counts, _, bars = hist(ax, lbp)\n",
      "    highlight_bars(bars, labels)\n",
      "    ax.set_ylim(ymax=np.max(counts[:-1]))\n",
      "    ax.set_xlim(xmax=n_points + 2)\n",
      "    ax.set_title(name)\n",
      "\n",
      "ax_hist[0].set_ylabel('Percentage')\n",
      "for ax in ax_img:\n",
      "    ax.axis('off')"
     ],
     "language": "python",
     "metadata": {},
     "outputs": []
    },
    {
     "cell_type": "code",
     "collapsed": false,
     "input": [
      "\"\"\"\n",
      ".. image:: PLOT2RST.current_figure\n",
      "The above plot highlights flat, edge-like, and corner-like regions of the\n",
      "image.\n",
      "The histogram of the LBP result is a good measure to classify textures. Here,\n",
      "we test the histogram distributions against each other using the\n",
      "Kullback-Leibler-Divergence.\n",
      "\"\"\"\n",
      "\n",
      "# settings for LBP\n",
      "radius = 2\n",
      "n_points = 8 * radius\n",
      "\n",
      "\n",
      "def kullback_leibler_divergence(p, q):\n",
      "    p = np.asarray(p)\n",
      "    q = np.asarray(q)\n",
      "    filt = np.logical_and(p != 0, q != 0)\n",
      "    return np.sum(p[filt] * np.log2(p[filt] / q[filt]))\n",
      "\n",
      "\n",
      "def match(refs, img):\n",
      "    best_score = 10\n",
      "    best_name = None\n",
      "    lbp = local_binary_pattern(img, n_points, radius, METHOD)\n",
      "    n_bins = lbp.max() + 1\n",
      "    hist, _ = np.histogram(lbp, normed=True, bins=n_bins, range=(0, n_bins))\n",
      "    for name, ref in refs.items():\n",
      "        ref_hist, _ = np.histogram(ref, normed=True, bins=n_bins,\n",
      "                                   range=(0, n_bins))\n",
      "        score = kullback_leibler_divergence(hist, ref_hist)\n",
      "        if score < best_score:\n",
      "            best_score = score\n",
      "            best_name = name\n",
      "    return best_name\n",
      "\n",
      "\n",
      "brick = data.load('brick.png')\n",
      "grass = data.load('grass.png')\n",
      "wall = data.load('rough-wall.png')\n",
      "\n",
      "refs = {\n",
      "    'brick': local_binary_pattern(brick, n_points, radius, METHOD),\n",
      "    'grass': local_binary_pattern(grass, n_points, radius, METHOD),\n",
      "    'wall': local_binary_pattern(wall, n_points, radius, METHOD)\n",
      "}\n",
      "\n",
      "# classify rotated textures\n",
      "print('Rotated images matched against references using LBP:')\n",
      "print('original: brick, rotated: 30deg, match result: ',\n",
      "      match(refs, rotate(brick, angle=30, resize=False)))\n",
      "print('original: brick, rotated: 70deg, match result: ',\n",
      "      match(refs, rotate(brick, angle=70, resize=False)))\n",
      "print('original: grass, rotated: 145deg, match result: ',\n",
      "      match(refs, rotate(grass, angle=145, resize=False)))\n",
      "\n",
      "# plot histograms of LBP of textures\n",
      "fig, ((ax1, ax2, ax3), (ax4, ax5, ax6)) = plt.subplots(nrows=2, ncols=3,\n",
      "                                                       figsize=(9, 6))\n",
      "plt.gray()\n",
      "\n",
      "ax1.imshow(brick)\n",
      "ax1.axis('off')\n",
      "hist(ax4, refs['brick'])\n",
      "ax4.set_ylabel('Percentage')\n",
      "\n",
      "ax2.imshow(grass)\n",
      "ax2.axis('off')\n",
      "hist(ax5, refs['grass'])\n",
      "ax5.set_xlabel('Uniform LBP values')\n",
      "\n",
      "ax3.imshow(wall)\n",
      "ax3.axis('off')\n",
      "hist(ax6, refs['wall'])\n",
      "\n",
      "\"\"\"\n",
      ".. image:: PLOT2RST.current_figure\n",
      "\"\"\"\n",
      "\n",
      "plt.show()"
     ],
     "language": "python",
     "metadata": {},
     "outputs": []
    },
    {
     "cell_type": "code",
     "collapsed": false,
     "input": [
      "a = np.array(range)\n",
      "print a\n",
      "del a[-2]\n",
      "print a"
     ],
     "language": "python",
     "metadata": {},
     "outputs": []
    },
    {
     "cell_type": "code",
     "collapsed": false,
     "input": [],
     "language": "python",
     "metadata": {},
     "outputs": []
    }
   ],
   "metadata": {}
  }
 ]
}