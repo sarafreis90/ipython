{
 "metadata": {
  "name": "",
  "signature": "sha256:e2b3136e7ff3707d6078b04790845febf23d7a08346b81731df188389bcb125b"
 },
 "nbformat": 3,
 "nbformat_minor": 0,
 "worksheets": [
  {
   "cells": [
    {
     "cell_type": "code",
     "collapsed": false,
     "input": [
      "import nibabel as nib\n",
      "import numpy as np\n",
      "import scipy.ndimage\n",
      "import matplotlib.pyplot as plt\n",
      "import matplotlib.image as mpimg\n",
      "import matplotlib as mpl\n",
      "from scipy import stats\n",
      "from scipy import ndimage\n",
      "import glob\n",
      "import csv\n",
      "import os\n",
      "import re\n",
      "import math\n",
      "import fnmatch\n",
      "from math import pi\n",
      "from math import log\n",
      "import cv2\n",
      "import cv\n",
      "from __future__ import division\n",
      "import sys\n",
      "import plotly.plotly as py\n",
      "from plotly.graph_objs import *\n",
      "from pylab import *\n",
      "from skimage.io import imread\n",
      "from skimage.feature import greycomatrix, greycoprops\n",
      "from skimage import data\n",
      "\n",
      "%matplotlib inline"
     ],
     "language": "python",
     "metadata": {},
     "outputs": [],
     "prompt_number": 4
    },
    {
     "cell_type": "code",
     "collapsed": false,
     "input": [
      "path = '/Volumes/vph-prism4/data/KCL/normalisedROI'\n",
      "\n",
      "configfiles = [os.path.join(dirpath, f)              \n",
      "    for dirpath, dirnames, files in os.walk(path)\n",
      "    for f in fnmatch.filter(files, '*.tif')]\n",
      "\n",
      "for ff in configfiles:\n",
      "    print ff"
     ],
     "language": "python",
     "metadata": {},
     "outputs": []
    },
    {
     "cell_type": "code",
     "collapsed": false,
     "input": [
      "def rgb2gray(rgb):\n",
      "    r, g, b = rgb[:,:,0], rgb[:,:,1], rgb[:,:,2]\n",
      "    gray = 0.2989 * r + 0.5870 * g + 0.1140 * b\n",
      "    return gray\n",
      "\n",
      "def chunks(list, n): # function that chunks a list into a sublist with n elements\n",
      " return [list[j:j+n] for j in xrange(0, len(list), n)]\n",
      "\n",
      "#fig, ax = plt.subplots()\n",
      "\n",
      "# Features results for each direction (4 in total)\n",
      "globalContrast = []\n",
      "globalDissimilarity = []\n",
      "globalHomogeneity = []\n",
      "globalASM = []\n",
      "globalEnergy = [] \n",
      "globalCorrelation = []\n",
      "globalEntropy = []\n",
      "\n",
      "meanGlobalEnergy = [] # only mean \n",
      "gclmFeatures = [] # mean of all the features\n",
      "\n",
      "csvEnergy = []\n",
      "csvMeanEnergy =[]\n",
      "csvSTDEnergy = []\n",
      "csvFeatureHeader = ['direction 1', 'direction 2', 'direction 3', 'direction 4']\n",
      "csvSummaryResultsHeader = ['Contrast', 'Dissimilarity', 'Homogeneity', 'ASM', 'Energy', 'Correlation', 'Entropy']\n",
      "#csvSummaryResultsHeader = ['Contrast_mean', 'Contrast_std', 'Contrast_min', 'Contrast_max', 'Dissimilarity_mean', 'Dissimilarity_std', 'Dissimilarity_min', 'Dissimilarity_max', 'Homogeneity_mean', 'Homogeneity_std', 'Homogeneity_min', 'Homogeneity_max', 'ASM_mean', 'ASM_std', 'ASM_min', 'ASM_max', 'Energy_mean', 'Energy_std', 'Energy_min', 'Energy_max', 'Correlation_mean', 'Correlation_std', 'Correlation_min', 'Correlation_max', 'Entropy_mean', 'Entropy_std', 'Entropy_min', 'Entropy_max']\n",
      "directions = [0, np.pi/4, np.pi/2, 3*(np.pi)/4 ]"
     ],
     "language": "python",
     "metadata": {},
     "outputs": [],
     "prompt_number": 5
    },
    {
     "cell_type": "code",
     "collapsed": false,
     "input": [
      "    ###-------------------------------------###\n",
      "    ###----------- SKIP THIS ---------------###\n",
      "    ###-------------------------------------###\n",
      "    \n",
      "final_gclmFeatures = []\n",
      "gclmFeatures_all =[]\n",
      "filename_list = []\n",
      "\n",
      "\n",
      "for files in glob.glob('/Volumes/vph-prism5/Sara/SPIE16/TIFnormalisedRGB/06_01_m.tif'):\n",
      "\n",
      "    (dirname, filename) = os.path.split(f)\n",
      "    filename = str(os.path.basename(files))\n",
      "    filename = filename.replace('.tif','')\n",
      "    print filename\n",
      "    filename_list.append(filename)\n",
      "        \n",
      "    img = cv2.imread(files)\n",
      "    #img =rgb2gray(img)\n",
      "        \n",
      "    #print 'Original RGB Image:'\n",
      "    #print img.shape\n",
      "    #print img.dtype\n",
      "\n",
      "\n",
      "    ##----- Load correspondent binary mask -----##\n",
      "    mask_name = 'mask_' + filename + '.nii.gz'\n",
      "    mask_dir = '/Volumes/vph-prism4/data/KCL/stroma_masks'\n",
      "    mask_in = os.path.join(mask_dir, mask_name )\n",
      "    #print mask_in\n",
      "    \n",
      "    mask_img = nib.load(mask_in)\n",
      "    mask = mask_img.get_data()\n",
      "    mask = mask.squeeze()\n",
      "    mask = ndimage.rotate(mask,90)\n",
      "    mask = np.flipud(mask)\n",
      "    #print mask.shape\n",
      "    #print mask.dtype\n",
      "    \n",
      "    \n",
      "    ##----- mask rgb images ------##\n",
      "    masked_image = np.zeros_like(img)\n",
      "    print 'Final masked Image:'\n",
      "    print masked_image.shape\n",
      "    print masked_image.dtype\n",
      "    \n",
      "    \n",
      "    # create mask with same dimensions as image\n",
      "    mask_3D = np.zeros_like(img)\n",
      "    \n",
      "    # copy your image_mask to all dimensions (i.e. colors) of your image\n",
      "    for i in range(3): \n",
      "        mask_3D[:,:,i] = mask.copy()\n",
      "    print mask_3D.shape\n",
      "\n",
      "    # apply the mask to your image\n",
      "    idx = (mask_3D != 0)\n",
      "    masked_image[idx] = img[idx]\n",
      "    masked_image = rgb2gray(masked_image)\n",
      "    print np.amax(masked_image)\n",
      "    \n",
      "    #plt.imshow(masked_image)\n",
      "    #plt.axis('off')\n",
      "    #plt.show()"
     ],
     "language": "python",
     "metadata": {},
     "outputs": []
    },
    {
     "cell_type": "code",
     "collapsed": false,
     "input": [
      "###---------------------------------------------------------------------------###\n",
      "###----------- COMPUTE CO-OCCURRENCE MATRIX + Texture Features ---------------###\n",
      "###---------------------------------------------------------------------------###\n",
      "final_gclmFeatures = []\n",
      "gclmFeatures_all =[]\n",
      "filename_list = []\n",
      "'''\n",
      "for files in sorted(glob.glob('/Volumes/vph-prism5/Sara/SPIE16/ABSTRACT/December_normalisedTIF/*.tif')):\n",
      "    (dirname, filename) = os.path.split(files)\n",
      "    filename = str(os.path.basename(files))\n",
      "    filename = filename.replace('.tif','')\n",
      "    print filename\n",
      "    filename_list.append(filename)\n",
      "        \n",
      "    img = cv2.imread(files)\n",
      "    #img =rgb2gray(img)\n",
      "        \n",
      "    #print 'Original RGB Image:'\n",
      "    #print img.shape\n",
      "    #print img.dtype\n",
      "\n",
      "\n",
      "    ##----- Load correspondent binary mask -----##\n",
      "    mask_name = 'mask_' + filename + '.nii.gz'\n",
      "    mask_dir = '/Volumes/vph-prism4/data/KCL/stroma_masks'\n",
      "    mask_in = os.path.join(mask_dir, mask_name )\n",
      "    #print mask_in\n",
      "    \n",
      "    mask_img = nib.load(mask_in)\n",
      "    mask = mask_img.get_data()\n",
      "    mask = mask.squeeze()\n",
      "    mask = ndimage.rotate(mask,90)\n",
      "    mask = np.flipud(mask)\n",
      "    #print mask.shape\n",
      "    #print mask.dtype\n",
      "    \n",
      "    \n",
      "    ##----- mask rgb images ------##\n",
      "    masked_image = np.zeros_like(img)\n",
      "    #print 'Final masked Image:'\n",
      "    #print masked_image.shape\n",
      "    #print masked_image.dtype\n",
      "    \n",
      "    \n",
      "    # create mask with same dimensions as image\n",
      "    mask_3D = np.zeros_like(img)\n",
      "    \n",
      "    # copy your image_mask to all dimensions (i.e. colors) of your image\n",
      "    for i in range(3): \n",
      "        mask_3D[:,:,i] = mask.copy()\n",
      "    #print mask_3D.shape\n",
      "\n",
      "    # apply the mask to your image\n",
      "    idx = (mask_3D != 0)\n",
      "    masked_image[idx] = img[idx]\n",
      "    masked_image = rgb2gray(masked_image)\n",
      "    #print np.amax(masked_image)\n",
      "    \n",
      "    #plt.imshow(masked_image)\n",
      "    #plt.axis('off')\n",
      "    #plt.show()\n",
      "    \n",
      "'''\n",
      "\n",
      "for files in glob.glob('/Volumes/vph-prism5/Sara/SPIE16/ABSTRACT/December_normalisedGRAYnifty/*.nii.gz'):    \n",
      "    (dirname, filename) = os.path.split(files)\n",
      "    filename = str(os.path.basename(files))\n",
      "    filename = filename.replace('.nii.gz','')\n",
      "    print filename\n",
      "    filename_list.append(filename)\n",
      "\n",
      "    img = nib.load(files)\n",
      "    data = img.get_data() \n",
      "    data = data.squeeze()\n",
      "    data = ndimage.rotate(data, 90, order=0)\n",
      "    image = np.flipud(data)\n",
      "    \n",
      "    \n",
      "    ##----- Load correspondent binary mask -----##\n",
      "    mask_name = 'mask_' + filename + '.nii.gz'\n",
      "    mask_dir = '/Volumes/vph-prism4/data/KCL/stroma_masks'\n",
      "    mask_in = os.path.join(mask_dir, mask_name )\n",
      "    \n",
      "    mask_img = nib.load(mask_in)\n",
      "    mask = mask_img.get_data()\n",
      "    mask = mask.squeeze()\n",
      "    mask = ndimage.rotate(mask,90)\n",
      "    mask = np.flipud(mask)\n",
      "    #print mask.shape\n",
      "    #print mask.dtype\n",
      "    \n",
      "    ##----- mask rgb images ------##\n",
      "    masked_image = np.zeros_like(image)\n",
      "    \n",
      "    # apply the mask to your image\n",
      "    idx = (mask != 0)\n",
      "    masked_image[idx] = image[idx]\n",
      "\n",
      "    ###--------------------------------------------------------###\n",
      "    ###----------- COMPUTE CO-OCCURRENCE MATRIX ---------------###\n",
      "    ###--------------------------------------------------------###\n",
      "\n",
      "    ### Calculate the co-occurrence matrix in 4 directions with a window/neighbourhood size of 7 pixels\n",
      "    g = greycomatrix(masked_image, [11], directions, levels=256, symmetric=True, normed=True)\n",
      "    #g = greycomatrix(image, [100, 100], [0, np.pi/4, np.pi/2, 3*(np.pi)/4 ], levels=256)\n",
      "    \n",
      "    #print 'Maximum value of the co-occurrence matrix for direction = 0 degrees:'\n",
      "    #print np.amax(g[:,:,0,0])\n",
      "    #print g.shape\n",
      "\n",
      "    \n",
      "    ###------------------------------------------------------------###\n",
      "    ###----------- COMPUTE CO-OCCURRENCE TEXTURE FEATURES ---------###\n",
      "    ###------------------------------------------------------------###\n",
      "\n",
      "    # Features results for each direction (4 in total)\n",
      "    globalContrast = []\n",
      "    globalDissimilarity = []\n",
      "    globalHomogeneity = []\n",
      "    globalASM = []\n",
      "    globalEnergy = [] \n",
      "    globalCorrelation = []\n",
      "    globalEntropy = []\n",
      "    \n",
      "    gclmFeatures = [] # mean of all the features\n",
      "    \n",
      "\n",
      "    contrast = greycoprops(g, 'contrast')\n",
      "    #globalContrast.append(contrast)\n",
      "    globalContrast = contrast.tolist()\n",
      "    gclmFeatures.append(np.mean(contrast))\n",
      "    '''\n",
      "    gclmFeatures.append(np.std(contrast))\n",
      "    gclmFeatures.append(np.amin(contrast))\n",
      "    gclmFeatures.append(np.amax(contrast))\n",
      "    '''\n",
      "    \n",
      "    dissimilarity = greycoprops(g, 'dissimilarity')\n",
      "    #globalDissimilarity.append(dissimilarity)\n",
      "    globalDissimilarity = dissimilarity.tolist()\n",
      "    gclmFeatures.append(np.mean(dissimilarity))\n",
      "    '''\n",
      "    gclmFeatures.append(np.std(dissimilarity))\n",
      "    gclmFeatures.append(np.amin(dissimilarity))\n",
      "    gclmFeatures.append(np.amax(dissimilarity))\n",
      "    '''\n",
      "    \n",
      "    homogeneity = greycoprops(g, 'homogeneity')\n",
      "    #globalHomogeneity.append(homogeneity)\n",
      "    globalHomogeneity = homogeneity.tolist()\n",
      "    gclmFeatures.append(np.mean(homogeneity))\n",
      "    '''\n",
      "    gclmFeatures.append(np.std(homogeneity))\n",
      "    gclmFeatures.append(np.amin(homogeneity))\n",
      "    gclmFeatures.append(np.amax(homogeneity))\n",
      "    '''\n",
      "    \n",
      "    ASM = greycoprops(g, 'ASM')\n",
      "    #globalASM.append(ASM)\n",
      "    globalASM = ASM.tolist()\n",
      "    gclmFeatures.append(np.mean(ASM))\n",
      "    '''\n",
      "    gclmFeatures.append(np.std(ASM))\n",
      "    gclmFeatures.append(np.amin(ASM))\n",
      "    gclmFeatures.append(np.amax(ASM))\n",
      "    '''\n",
      "\n",
      "    energy = greycoprops(g, 'energy')\n",
      "    #globalEnergy.append(energy)\n",
      "    globalEnergy = energy.tolist()\n",
      "    gclmFeatures.append(np.mean(energy))\n",
      "    '''\n",
      "    gclmFeatures.append(np.std(energy))\n",
      "    gclmFeatures.append(np.amin(energy))\n",
      "    gclmFeatures.append(np.amax(energy))\n",
      "    '''\n",
      "\n",
      "    correlation = greycoprops(g, 'correlation')\n",
      "    globalCorrelation = correlation.tolist()\n",
      "    #globalCorrelation.append(correlation)\n",
      "    gclmFeatures.append(np.mean(correlation))\n",
      "    '''\n",
      "    gclmFeatures.append(np.std(correlation))\n",
      "    gclmFeatures.append(np.amin(correlation))\n",
      "    gclmFeatures.append(np.amax(correlation))\n",
      "    '''\n",
      "    \n",
      "    ## COMPUTE ENTROPY\n",
      "    ln_g = np.zeros((g.shape))\n",
      "    entropy_matrix = np.zeros((g.shape))\n",
      "\n",
      "    ### compute log of the GLCM\n",
      "    for n, angle in enumerate(directions):\n",
      "        #print n\n",
      "        for i in range(256):\n",
      "            #print i\n",
      "            for j in range(256):\n",
      "                #print j\n",
      "                if (g[i,j,0,n]).any()!=0.0:\n",
      "                    #print g[i,j,0,n]\n",
      "                    ln_g[i,j,0,n] = log(g[i,j,0,n])\n",
      "                    #print g[i,j,0,angle].shape\n",
      "    \n",
      "    ### compute the entropy matrix \n",
      "    for n, angle in enumerate(directions):\n",
      "        for i in range(256):\n",
      "            for j in range(256):\n",
      "                entropy_matrix[i,j,0,n] = ln_g[i,j,0,n]*g[i,j,0,n]*(-1)\n",
      "        #print np.sum(entropy_matrix[:,:,0,n])\n",
      "        globalEntropy.append(np.sum(entropy_matrix[:,:,0,n]))\n",
      "\n",
      "    globalEntropy = chunks(globalEntropy,4)\n",
      "    #print 'globalEntropy:'\n",
      "    #print globalEntropy\n",
      "    gclmFeatures.append(np.mean(globalEntropy)) \n",
      "    #gclmFeatures.append(sum(globalEntropy)/float(len(globalEntropy))) \n",
      "    '''\n",
      "    gclmFeatures.append(np.std(globalEntropy)) \n",
      "    gclmFeatures.append(np.amin(globalEntropy)) \n",
      "    gclmFeatures.append(np.amax(globalEntropy)) \n",
      "    '''\n",
      "    #print gclmFeatures\n",
      "    \n",
      "    gclmFeatures_all = gclmFeatures_all + gclmFeatures\n",
      "    #print gclmFeatures_all\n",
      "    \n",
      "    \n",
      "    ###------------------------------------------------------------------------------------------------------------------###\n",
      "\n",
      "    ###-------------------------------------------------------------###\n",
      "    ###------------ SAVE GLCM FEATURES IN CSV FILE------------------###\n",
      "    ###-------------------------------------------------------------###\n",
      "\n",
      "    csvSummaryResultsHeader = ['Contrast', 'Dissimilarity', 'Homogeneity', 'ASM', 'Energy', 'Correlation', 'Entropy']\n",
      "    #csvSummaryResultsHeader = ['Contrast_mean', 'Contrast_std', 'Contrast_min', 'Contrast_max', 'Dissimilarity_mean', 'Dissimilarity_std', 'Dissimilarity_min', 'Dissimilarity_max', 'Homogeneity_mean', 'Homogeneity_std', 'Homogeneity_min', 'Homogeneity_max', 'ASM_mean', 'ASM_std', 'ASM_min', 'ASM_max', 'Energy_mean', 'Energy_std', 'Energy_min', 'Energy_max', 'Correlation_mean', 'Correlation_std', 'Correlation_min', 'Correlation_max', 'Entropy_mean', 'Entropy_std', 'Entropy_min', 'Entropy_max']\n",
      "    \n",
      "    #print csvSummaryResultsHeader\n",
      "    \n",
      "\n",
      "    #csvFilename = os.path.join(dirname, filename + '_GCLMfeatures.csv' )\n",
      "    #file = open(csvFilename, \"wb\")\n",
      "    #writer = csv.writer(file)\n",
      "    #writer.writerow(csvSummaryResultsHeader)\n",
      "    #writer.writerows(data_to_plot)\n",
      "    #file.close()\n",
      "    \n",
      "gclmFeatures_all = chunks(gclmFeatures_all,7)  \n",
      "#gclmFeatures_all = chunks(gclmFeatures_all,28)  \n",
      "#print gclmFeatures_all\n",
      "\n",
      "final_gclmFeatures_1 = zip(*gclmFeatures_all)\n",
      "#print final_gclmFeatures_1\n",
      "\n",
      "filenameMean = 'RGB_GLCM_features.csv'\n",
      "csvFilename_mean = os.path.join(dirname, filenameMean )\n",
      "file = open(csvFilename_mean, \"wb\")\n",
      "writer = csv.writer(file)\n",
      "writer.writerow(csvSummaryResultsHeader)\n",
      "writer.writerows(gclmFeatures_all)\n",
      "file.close()\n",
      "\n",
      "\n",
      "print 'DONE!'"
     ],
     "language": "python",
     "metadata": {},
     "outputs": [
      {
       "output_type": "stream",
       "stream": "stdout",
       "text": [
        "01_01_i\n",
        "01_02_i"
       ]
      },
      {
       "output_type": "stream",
       "stream": "stdout",
       "text": [
        "\n",
        "02_01_i"
       ]
      },
      {
       "output_type": "stream",
       "stream": "stdout",
       "text": [
        "\n",
        "02_02_i"
       ]
      },
      {
       "output_type": "stream",
       "stream": "stdout",
       "text": [
        "\n",
        "02_03_i"
       ]
      },
      {
       "output_type": "stream",
       "stream": "stdout",
       "text": [
        "\n",
        "03_01_i"
       ]
      },
      {
       "output_type": "stream",
       "stream": "stdout",
       "text": [
        "\n",
        "03_02_i"
       ]
      },
      {
       "output_type": "stream",
       "stream": "stdout",
       "text": [
        "\n",
        "05_01_i"
       ]
      },
      {
       "output_type": "stream",
       "stream": "stdout",
       "text": [
        "\n",
        "05_02_i"
       ]
      },
      {
       "output_type": "stream",
       "stream": "stdout",
       "text": [
        "\n",
        "05_03_i"
       ]
      },
      {
       "output_type": "stream",
       "stream": "stdout",
       "text": [
        "\n",
        "06_01_m"
       ]
      },
      {
       "output_type": "stream",
       "stream": "stdout",
       "text": [
        "\n",
        "06_02_m"
       ]
      },
      {
       "output_type": "stream",
       "stream": "stdout",
       "text": [
        "\n",
        "08_01_i"
       ]
      },
      {
       "output_type": "stream",
       "stream": "stdout",
       "text": [
        "\n",
        "08_02_i"
       ]
      },
      {
       "output_type": "stream",
       "stream": "stdout",
       "text": [
        "\n",
        "08_03_i"
       ]
      },
      {
       "output_type": "stream",
       "stream": "stdout",
       "text": [
        "\n",
        "09_02_m"
       ]
      },
      {
       "output_type": "stream",
       "stream": "stdout",
       "text": [
        "\n",
        "09_03_m"
       ]
      },
      {
       "output_type": "stream",
       "stream": "stdout",
       "text": [
        "\n",
        "09_04_m"
       ]
      },
      {
       "output_type": "stream",
       "stream": "stdout",
       "text": [
        "\n",
        "09_05_i"
       ]
      },
      {
       "output_type": "stream",
       "stream": "stdout",
       "text": [
        "\n",
        "09_06_i"
       ]
      },
      {
       "output_type": "stream",
       "stream": "stdout",
       "text": [
        "\n",
        "10_01_i"
       ]
      },
      {
       "output_type": "stream",
       "stream": "stdout",
       "text": [
        "\n",
        "10_02_i"
       ]
      },
      {
       "output_type": "stream",
       "stream": "stdout",
       "text": [
        "\n",
        "10_03_i"
       ]
      },
      {
       "output_type": "stream",
       "stream": "stdout",
       "text": [
        "\n",
        "11_01_i"
       ]
      },
      {
       "output_type": "stream",
       "stream": "stdout",
       "text": [
        "\n",
        "11_02_i"
       ]
      },
      {
       "output_type": "stream",
       "stream": "stdout",
       "text": [
        "\n",
        "11_03_i"
       ]
      },
      {
       "output_type": "stream",
       "stream": "stdout",
       "text": [
        "\n",
        "11_04_i"
       ]
      },
      {
       "output_type": "stream",
       "stream": "stdout",
       "text": [
        "\n",
        "11_05_i"
       ]
      },
      {
       "output_type": "stream",
       "stream": "stdout",
       "text": [
        "\n",
        "12_01_i"
       ]
      },
      {
       "output_type": "stream",
       "stream": "stdout",
       "text": [
        "\n",
        "12_02_i"
       ]
      },
      {
       "output_type": "stream",
       "stream": "stdout",
       "text": [
        "\n",
        "13_01_i"
       ]
      },
      {
       "output_type": "stream",
       "stream": "stdout",
       "text": [
        "\n",
        "13_02_i"
       ]
      },
      {
       "output_type": "stream",
       "stream": "stdout",
       "text": [
        "\n",
        "13_03_i"
       ]
      },
      {
       "output_type": "stream",
       "stream": "stdout",
       "text": [
        "\n",
        "14_01_i"
       ]
      },
      {
       "output_type": "stream",
       "stream": "stdout",
       "text": [
        "\n",
        "14_02_i"
       ]
      },
      {
       "output_type": "stream",
       "stream": "stdout",
       "text": [
        "\n",
        "14_03_i"
       ]
      },
      {
       "output_type": "stream",
       "stream": "stdout",
       "text": [
        "\n",
        "15_01_m"
       ]
      },
      {
       "output_type": "stream",
       "stream": "stdout",
       "text": [
        "\n",
        "15_02_i"
       ]
      },
      {
       "output_type": "stream",
       "stream": "stdout",
       "text": [
        "\n",
        "15_03_m"
       ]
      },
      {
       "output_type": "stream",
       "stream": "stdout",
       "text": [
        "\n",
        "15_04_i"
       ]
      },
      {
       "output_type": "stream",
       "stream": "stdout",
       "text": [
        "\n",
        "16_01_i"
       ]
      },
      {
       "output_type": "stream",
       "stream": "stdout",
       "text": [
        "\n",
        "16_02_m"
       ]
      },
      {
       "output_type": "stream",
       "stream": "stdout",
       "text": [
        "\n",
        "16_03_m"
       ]
      },
      {
       "output_type": "stream",
       "stream": "stdout",
       "text": [
        "\n",
        "16_04_m"
       ]
      },
      {
       "output_type": "stream",
       "stream": "stdout",
       "text": [
        "\n",
        "17_01_i"
       ]
      },
      {
       "output_type": "stream",
       "stream": "stdout",
       "text": [
        "\n",
        "17_02_i"
       ]
      },
      {
       "output_type": "stream",
       "stream": "stdout",
       "text": [
        "\n",
        "17_03_i"
       ]
      },
      {
       "output_type": "stream",
       "stream": "stdout",
       "text": [
        "\n",
        "18_01_m"
       ]
      },
      {
       "output_type": "stream",
       "stream": "stdout",
       "text": [
        "\n",
        "18_02_m"
       ]
      },
      {
       "output_type": "stream",
       "stream": "stdout",
       "text": [
        "\n",
        "19_01_m"
       ]
      },
      {
       "output_type": "stream",
       "stream": "stdout",
       "text": [
        "\n",
        "19_02_m"
       ]
      },
      {
       "output_type": "stream",
       "stream": "stdout",
       "text": [
        "\n",
        "19_03_m"
       ]
      },
      {
       "output_type": "stream",
       "stream": "stdout",
       "text": [
        "\n",
        "19_04_m"
       ]
      },
      {
       "output_type": "stream",
       "stream": "stdout",
       "text": [
        "\n",
        "20_01_i"
       ]
      },
      {
       "output_type": "stream",
       "stream": "stdout",
       "text": [
        "\n",
        "20_02_i"
       ]
      },
      {
       "output_type": "stream",
       "stream": "stdout",
       "text": [
        "\n",
        "21_01_m"
       ]
      },
      {
       "output_type": "stream",
       "stream": "stdout",
       "text": [
        "\n",
        "21_02_i"
       ]
      },
      {
       "output_type": "stream",
       "stream": "stdout",
       "text": [
        "\n",
        "21_03_i"
       ]
      },
      {
       "output_type": "stream",
       "stream": "stdout",
       "text": [
        "\n",
        "22_02_i"
       ]
      },
      {
       "output_type": "stream",
       "stream": "stdout",
       "text": [
        "\n",
        "22_03_i"
       ]
      },
      {
       "output_type": "stream",
       "stream": "stdout",
       "text": [
        "\n",
        "22_04_i"
       ]
      },
      {
       "output_type": "stream",
       "stream": "stdout",
       "text": [
        "\n",
        "23_01_i"
       ]
      },
      {
       "output_type": "stream",
       "stream": "stdout",
       "text": [
        "\n",
        "23_02_i"
       ]
      },
      {
       "output_type": "stream",
       "stream": "stdout",
       "text": [
        "\n",
        "25_01_m"
       ]
      },
      {
       "output_type": "stream",
       "stream": "stdout",
       "text": [
        "\n",
        "26_01_m"
       ]
      },
      {
       "output_type": "stream",
       "stream": "stdout",
       "text": [
        "\n",
        "26_02_i"
       ]
      },
      {
       "output_type": "stream",
       "stream": "stdout",
       "text": [
        "\n",
        "26_03_m"
       ]
      },
      {
       "output_type": "stream",
       "stream": "stdout",
       "text": [
        "\n",
        "27_01_m"
       ]
      },
      {
       "output_type": "stream",
       "stream": "stdout",
       "text": [
        "\n",
        "28_01_i"
       ]
      },
      {
       "output_type": "stream",
       "stream": "stdout",
       "text": [
        "\n",
        "28_02_i"
       ]
      },
      {
       "output_type": "stream",
       "stream": "stdout",
       "text": [
        "\n",
        "28_03_m"
       ]
      },
      {
       "output_type": "stream",
       "stream": "stdout",
       "text": [
        "\n",
        "29_01_m"
       ]
      },
      {
       "output_type": "stream",
       "stream": "stdout",
       "text": [
        "\n",
        "29_02_i"
       ]
      },
      {
       "output_type": "stream",
       "stream": "stdout",
       "text": [
        "\n",
        "30_01_m"
       ]
      },
      {
       "output_type": "stream",
       "stream": "stdout",
       "text": [
        "\n",
        "30_02_m"
       ]
      },
      {
       "output_type": "stream",
       "stream": "stdout",
       "text": [
        "\n",
        "31_01_m"
       ]
      },
      {
       "output_type": "stream",
       "stream": "stdout",
       "text": [
        "\n",
        "31_02_m"
       ]
      },
      {
       "output_type": "stream",
       "stream": "stdout",
       "text": [
        "\n",
        "31_03_m"
       ]
      },
      {
       "output_type": "stream",
       "stream": "stdout",
       "text": [
        "\n",
        "32_02_m"
       ]
      },
      {
       "output_type": "stream",
       "stream": "stdout",
       "text": [
        "\n",
        "33_01_m"
       ]
      },
      {
       "output_type": "stream",
       "stream": "stdout",
       "text": [
        "\n",
        "33_02_m"
       ]
      },
      {
       "output_type": "stream",
       "stream": "stdout",
       "text": [
        "\n",
        "33_03_i"
       ]
      },
      {
       "output_type": "stream",
       "stream": "stdout",
       "text": [
        "\n",
        "34_01_i"
       ]
      },
      {
       "output_type": "stream",
       "stream": "stdout",
       "text": [
        "\n",
        "34_02_m"
       ]
      },
      {
       "output_type": "stream",
       "stream": "stdout",
       "text": [
        "\n",
        "35_02_i"
       ]
      },
      {
       "output_type": "stream",
       "stream": "stdout",
       "text": [
        "\n",
        "35_03_i"
       ]
      },
      {
       "output_type": "stream",
       "stream": "stdout",
       "text": [
        "\n",
        "35_04_i"
       ]
      },
      {
       "output_type": "stream",
       "stream": "stdout",
       "text": [
        "\n",
        "36_01_i"
       ]
      },
      {
       "output_type": "stream",
       "stream": "stdout",
       "text": [
        "\n",
        "36_02_i"
       ]
      },
      {
       "output_type": "stream",
       "stream": "stdout",
       "text": [
        "\n",
        "36_03_i"
       ]
      },
      {
       "output_type": "stream",
       "stream": "stdout",
       "text": [
        "\n",
        "36_04_i"
       ]
      },
      {
       "output_type": "stream",
       "stream": "stdout",
       "text": [
        "\n",
        "37_01_m"
       ]
      },
      {
       "output_type": "stream",
       "stream": "stdout",
       "text": [
        "\n",
        "37_02_m"
       ]
      },
      {
       "output_type": "stream",
       "stream": "stdout",
       "text": [
        "\n",
        "37_03_i"
       ]
      },
      {
       "output_type": "stream",
       "stream": "stdout",
       "text": [
        "\n",
        "37_04_i"
       ]
      },
      {
       "output_type": "stream",
       "stream": "stdout",
       "text": [
        "\n",
        "38_02_m"
       ]
      },
      {
       "output_type": "stream",
       "stream": "stdout",
       "text": [
        "\n",
        "38_03_i"
       ]
      },
      {
       "output_type": "stream",
       "stream": "stdout",
       "text": [
        "\n",
        "39_01_i"
       ]
      },
      {
       "output_type": "stream",
       "stream": "stdout",
       "text": [
        "\n",
        "39_02_i"
       ]
      },
      {
       "output_type": "stream",
       "stream": "stdout",
       "text": [
        "\n",
        "39_03_i"
       ]
      },
      {
       "output_type": "stream",
       "stream": "stdout",
       "text": [
        "\n",
        "40_02_i"
       ]
      },
      {
       "output_type": "stream",
       "stream": "stdout",
       "text": [
        "\n",
        "40_03_i"
       ]
      },
      {
       "output_type": "stream",
       "stream": "stdout",
       "text": [
        "\n",
        "40_04_i"
       ]
      },
      {
       "output_type": "stream",
       "stream": "stdout",
       "text": [
        "\n",
        "DONE!"
       ]
      },
      {
       "output_type": "stream",
       "stream": "stdout",
       "text": [
        "\n"
       ]
      }
     ],
     "prompt_number": 29
    },
    {
     "cell_type": "code",
     "collapsed": false,
     "input": [
      "print 'List of sample names:'\n",
      "print filename_list\n",
      "csvFilenameList = 'RGB_GLCM_labels.csv'\n",
      "csvFilename_mean = os.path.join(dirname, csvFilenameList )\n",
      "file = open(csvFilename_mean, \"wb\")\n",
      "writer = csv.writer(file)\n",
      "writer.writerow(filename_list)\n",
      "file.close()"
     ],
     "language": "python",
     "metadata": {},
     "outputs": [
      {
       "output_type": "stream",
       "stream": "stdout",
       "text": [
        "List of sample names:\n",
        "['01_01_i', '01_02_i', '02_01_i', '02_02_i', '02_03_i', '03_01_i', '03_02_i', '05_01_i', '05_02_i', '05_03_i', '06_01_m', '06_02_m', '08_01_i', '08_02_i', '08_03_i', '09_02_m', '09_03_m', '09_04_m', '09_05_i', '09_06_i', '10_01_i', '10_02_i', '10_03_i', '11_01_i', '11_02_i', '11_03_i', '11_04_i', '11_05_i', '12_01_i', '12_02_i', '13_01_i', '13_02_i', '13_03_i', '14_01_i', '14_02_i', '14_03_i', '15_01_m', '15_02_i', '15_03_m', '15_04_i', '16_01_i', '16_02_m', '16_03_m', '16_04_m', '17_01_i', '17_02_i', '17_03_i', '18_01_m', '18_02_m', '19_01_m', '19_02_m', '19_03_m', '19_04_m', '20_01_i', '20_02_i', '21_01_m', '21_02_i', '21_03_i', '22_02_i', '22_03_i', '22_04_i', '23_01_i', '23_02_i', '25_01_m', '26_01_m', '26_02_i', '26_03_m', '27_01_m', '28_01_i', '28_02_i', '28_03_m', '29_01_m', '29_02_i', '30_01_m', '30_02_m', '31_01_m', '31_02_m', '31_03_m', '32_02_m', '33_01_m', '33_02_m', '33_03_i', '34_01_i', '34_02_m', '35_02_i', '35_03_i', '35_04_i', '36_01_i', '36_02_i', '36_03_i', '36_04_i', '37_01_m', '37_02_m', '37_03_i', '37_04_i', '38_02_m', '38_03_i', '39_01_i', '39_02_i', '39_03_i', '40_02_i', '40_03_i', '40_04_i']\n"
       ]
      }
     ],
     "prompt_number": 30
    },
    {
     "cell_type": "code",
     "collapsed": false,
     "input": [
      "\n",
      "##----------------------------------------------##\n",
      "##---------- plot features boxplots ------------##\n",
      "##----------------------------------------------##\n",
      "#f = open('/Volumes/vph-prism5/Sara/TextureStuff/BIFs/KCL_ROIs/orientationAnalysis/experiment_02/results_normalisedImages/GCLMfeatures.csv')\n",
      "\n",
      "#fi = open('/Volumes/vph-prism5/Sara/TextureStuff/BIFs/KCL_ROIs/orientationAnalysis/experiment_02/results/GCLMfeatures_immature.csv')\n",
      "fi = open('/Volumes/vph-prism5/Sara/SPIE16/Manuscript/RGB/RGB_GLCM_features_i.csv')\n",
      "fi.readline()  # skip the header\n",
      "Xi = np.loadtxt(fname = fi, delimiter = ',')\n",
      "\n",
      "#fm = open('/Volumes/vph-prism5/Sara/TextureStuff/BIFs/KCL_ROIs/orientationAnalysis/experiment_02/results/GCLMfeatures_mature.csv')\n",
      "fm = open('/Volumes/vph-prism5/Sara/SPIE16/Manuscript/RGB/RGB_GLCM_features_m.csv')\n",
      "fm.readline()  # skip the header\n",
      "Xm = np.loadtxt(fname = fm, delimiter = ',')\n",
      "print('Xi shape (Features):')\n",
      "print(Xi.shape)\n",
      "#print data\n",
      "#print X[:,0]\n",
      "\n",
      "title_features = ['Contrast', 'Dissimilarity', 'Homogeneity', 'ASM', 'Energy', 'Correlation', 'Entropy']\n",
      "    \n",
      "\n",
      "fig, ax = plt.subplots(1,7, figsize=(20,2.5))\n",
      "for i in range(0,7):\n",
      "    ax[i].boxplot([Xi[:,i],Xm[:,i]])\n",
      "    ax[i].set_title(title_features[i])\n",
      "    ## Modify tick label text:\n",
      "    a=ax[i].get_xticks().tolist()\n",
      "    a[0]='immature '\n",
      "    a[1]='mature '\n",
      "    ax[i].set_xticklabels(a)\n",
      "    "
     ],
     "language": "python",
     "metadata": {},
     "outputs": [
      {
       "output_type": "stream",
       "stream": "stdout",
       "text": [
        "Xi shape (Features):\n",
        "(68, 7)\n"
       ]
      },
      {
       "metadata": {},
       "output_type": "display_data",
       "png": "[encoded data removed]",
       "text": [
        "<matplotlib.figure.Figure at 0x10ca66990>"
       ]
      }
     ],
     "prompt_number": 18
    },
    {
     "cell_type": "code",
     "collapsed": false,
     "input": [],
     "language": "python",
     "metadata": {},
     "outputs": []
    }
   ],
   "metadata": {}
  }
 ]
}