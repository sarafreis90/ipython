{
 "metadata": {
  "name": "",
  "signature": "sha256:b1d4f874c5c67c8de2ef1487f7e5b7e2322fcd2117d271878b6f03784e0e247d"
 },
 "nbformat": 3,
 "nbformat_minor": 0,
 "worksheets": [
  {
   "cells": [
    {
     "cell_type": "code",
     "collapsed": false,
     "input": [
      "import nibabel as nib\n",
      "import numpy as np\n",
      "import scipy.ndimage\n",
      "import matplotlib.pyplot as plt\n",
      "import matplotlib.image as mpimg\n",
      "import matplotlib as mpl\n",
      "from scipy import stats\n",
      "import glob\n",
      "import csv\n",
      "import os\n",
      "import re\n",
      "import math\n",
      "from math import pi\n",
      "from __future__ import division\n",
      "from scipy import misc\n",
      "import cv2\n",
      "from scipy import ndimage\n",
      "import skimage.morphology, skimage.data\n",
      "from skimage import measure\n",
      "import time\n",
      "from skimage.morphology import erosion, binary_dilation, opening, closing, white_tophat\n",
      "from skimage.morphology import disk"
     ],
     "language": "python",
     "metadata": {},
     "outputs": [],
     "prompt_number": 10
    },
    {
     "cell_type": "code",
     "collapsed": false,
     "input": [
      "%matplotlib inline\n",
      "\n",
      "binary_images = []\n",
      "rim_images = []\n",
      "final_filename = []\n",
      "\n",
      "#load binary image (either from ITK-SNAP or weka classication)\n",
      "for files in glob.glob('/Volumes/vph-prism5/Sara/TextureStuff/BIFs/RUNMC001/Masks/mask_I6_02_normal.nii.gz'):\n",
      "    \n",
      "#for files in glob.glob('/Users/sarareis/Dropbox/PhD/TextureStuff/BIFs/RUNMC001/probabilityMaps/probabilityEpithelial_I8_01_normal.png'):\n",
      "    \n",
      "    (dirname, filename) = os.path.split(files)\n",
      "    new_filename = re.sub('mask_','rim_',filename)\n",
      "    new_filename = re.sub('.nii.gz','',new_filename)\n",
      "    print files\n",
      "    print new_filename\n",
      "    \n",
      "    img = nib.load(files)\n",
      "    data = img.get_data()\n",
      "    data = data.squeeze()\n",
      "    data = ndimage.rotate(data,90)\n",
      "    data = np.flipud(data)"
     ],
     "language": "python",
     "metadata": {},
     "outputs": [],
     "prompt_number": 11
    },
    {
     "cell_type": "code",
     "collapsed": false,
     "input": [
      "def disk_structure(n):\n",
      "    struct = np.zeros((2 * n + 1, 2 * n + 1))\n",
      "    x, y = np.indices((2 * n + 1, 2 * n + 1))\n",
      "    mask = (x - n)**2 + (y - n)**2 <= n**2\n",
      "    struct[mask] = 1\n",
      "    return struct.astype(np.int)\n",
      "\n",
      "#selem = disk(100)\n",
      "t = time.clock()\n",
      "#dilated = binary_dilation(data,selem)\n",
      "dilated = ndimage.binary_dilation(data, structure=disk_structure(100), iterations=1).astype(np.int)\n",
      "dilated2 = ndimage.binary_dilation(data, structure=disk_structure(100), iterations=2).astype(np.int)\n",
      "dilated3 = ndimage.binary_dilation(data, structure=disk_structure(100), iterations=3).astype(np.int)\n",
      "tt = time.clock()\n",
      "plt.subplot(141),plt.imshow(dilated,'gray')\n",
      "plt.subplot(142),plt.imshow(dilated2,'gray')\n",
      "print tt-t\n",
      "\n",
      "image = dilated2 - dilated\n",
      "image2 = dilated3 - dilated2\n",
      "plt.subplot(143),plt.imshow(image,'gray')\n",
      "plt.subplot(144),plt.imshow(image2,'gray')\n",
      "plt.show()"
     ],
     "language": "python",
     "metadata": {},
     "outputs": []
    },
    {
     "cell_type": "code",
     "collapsed": false,
     "input": [
      "image = data - dilated\n",
      "plt.imshow(image,'gray')\n",
      "plt.show"
     ],
     "language": "python",
     "metadata": {},
     "outputs": [
      {
       "metadata": {},
       "output_type": "pyout",
       "prompt_number": 11,
       "text": [
        "<function matplotlib.pyplot.show>"
       ]
      },
      {
       "metadata": {},
       "output_type": "display_data",
       "png": "[encoded data removed]",
       "text": [
        "<matplotlib.figure.Figure at 0x1101e8d50>"
       ]
      }
     ],
     "prompt_number": 11
    },
    {
     "cell_type": "code",
     "collapsed": false,
     "input": [
      "selem = disk(100)\n",
      "t = time.clock()\n",
      "dilated1 = binary_dilation(image,selem)\n",
      "tt = time.clock()\n",
      "plt.imshow(dilated1,'gray')\n",
      "plt.show\n",
      "print tt-t"
     ],
     "language": "python",
     "metadata": {},
     "outputs": [
      {
       "ename": "NameError",
       "evalue": "name 'disk' is not defined",
       "output_type": "pyerr",
       "traceback": [
        "\u001b[0;31m---------------------------------------------------------------------------\u001b[0m\n\u001b[0;31mNameError\u001b[0m                                 Traceback (most recent call last)",
        "\u001b[0;32m<ipython-input-1-6524713ad477>\u001b[0m in \u001b[0;36m<module>\u001b[0;34m()\u001b[0m\n\u001b[0;32m----> 1\u001b[0;31m \u001b[0mselem\u001b[0m \u001b[0;34m=\u001b[0m \u001b[0mdisk\u001b[0m\u001b[0;34m(\u001b[0m\u001b[0;36m100\u001b[0m\u001b[0;34m)\u001b[0m\u001b[0;34m\u001b[0m\u001b[0m\n\u001b[0m\u001b[1;32m      2\u001b[0m \u001b[0mt\u001b[0m \u001b[0;34m=\u001b[0m \u001b[0mtime\u001b[0m\u001b[0;34m.\u001b[0m\u001b[0mclock\u001b[0m\u001b[0;34m(\u001b[0m\u001b[0;34m)\u001b[0m\u001b[0;34m\u001b[0m\u001b[0m\n\u001b[1;32m      3\u001b[0m \u001b[0mdilated1\u001b[0m \u001b[0;34m=\u001b[0m \u001b[0mbinary_dilation\u001b[0m\u001b[0;34m(\u001b[0m\u001b[0mimage\u001b[0m\u001b[0;34m,\u001b[0m\u001b[0mselem\u001b[0m\u001b[0;34m)\u001b[0m\u001b[0;34m\u001b[0m\u001b[0m\n\u001b[1;32m      4\u001b[0m \u001b[0mtt\u001b[0m \u001b[0;34m=\u001b[0m \u001b[0mtime\u001b[0m\u001b[0;34m.\u001b[0m\u001b[0mclock\u001b[0m\u001b[0;34m(\u001b[0m\u001b[0;34m)\u001b[0m\u001b[0;34m\u001b[0m\u001b[0m\n\u001b[1;32m      5\u001b[0m \u001b[0mplt\u001b[0m\u001b[0;34m.\u001b[0m\u001b[0mimshow\u001b[0m\u001b[0;34m(\u001b[0m\u001b[0mdilated1\u001b[0m\u001b[0;34m,\u001b[0m\u001b[0;34m'gray'\u001b[0m\u001b[0;34m)\u001b[0m\u001b[0;34m\u001b[0m\u001b[0m\n",
        "\u001b[0;31mNameError\u001b[0m: name 'disk' is not defined"
       ]
      }
     ],
     "prompt_number": 1
    },
    {
     "cell_type": "code",
     "collapsed": false,
     "input": [],
     "language": "python",
     "metadata": {},
     "outputs": []
    }
   ],
   "metadata": {}
  }
 ]
}