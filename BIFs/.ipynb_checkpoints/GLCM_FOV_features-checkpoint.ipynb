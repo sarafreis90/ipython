{
 "metadata": {
  "name": "",
  "signature": "sha256:15aa8d3c8c6c67bb06f4adfcb86c1291ac255c1bac02d78920b1e6c963d2a3cb"
 },
 "nbformat": 3,
 "nbformat_minor": 0,
 "worksheets": []
}