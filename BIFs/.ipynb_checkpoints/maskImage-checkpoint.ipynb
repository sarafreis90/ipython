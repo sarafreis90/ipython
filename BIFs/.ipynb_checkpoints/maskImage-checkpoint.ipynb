{
 "metadata": {
  "name": "",
  "signature": "sha256:e59b94c48cf164f1941ecc56eb72f0c09acd564e3eaa42475d6d76021d73736d"
 },
 "nbformat": 3,
 "nbformat_minor": 0,
 "worksheets": [
  {
   "cells": [
    {
     "cell_type": "code",
     "collapsed": false,
     "input": [
      "import nibabel as nib\n",
      "import numpy as np\n",
      "import scipy.ndimage\n",
      "import matplotlib.pyplot as plt\n",
      "import matplotlib.image as mpimg\n",
      "import matplotlib as mpl\n",
      "from scipy import stats\n",
      "import glob\n",
      "import csv\n",
      "import os\n",
      "import re\n",
      "import math\n",
      "from math import pi\n",
      "from __future__ import division\n",
      "from scipy import misc\n",
      "import cv2\n",
      "import cv\n",
      "from scipy import ndimage\n",
      "import skimage.morphology, skimage.data\n",
      "from skimage import measure\n",
      "from skimage.morphology import erosion, binary_dilation, opening, closing, white_tophat\n",
      "import time"
     ],
     "language": "python",
     "metadata": {},
     "outputs": [],
     "prompt_number": 8
    },
    {
     "cell_type": "code",
     "collapsed": false,
     "input": [
      "%matplotlib inline\n",
      "\n",
      "img = cv2.imread('/Volumes/vph-prism5/Sara/TextureStuff/BIFs/RUNMC001/TIFs/normal/I6_02_normal.tif')\n",
      "mask = cv2.imread('/Volumes/vph-prism5/Sara/TextureStuff/BIFs/RUNMC001/masks/rim_I6_02_normal_3.tif')\n",
      "\n",
      "img = img\n",
      "mask = mask\n",
      "masked_image = np.zeros(img.shape)\n",
      "\n",
      "idx = (mask != 0)\n",
      "masked_image[idx]=img[idx]\n",
      "\n",
      "plt.imshow(masked_image)\n",
      "plt.show()\n"
     ],
     "language": "python",
     "metadata": {},
     "outputs": [
      {
       "metadata": {},
       "output_type": "display_data",
       "png": "[encoded data removed]",
       "text": [
        "<matplotlib.figure.Figure at 0x118ddccd0>"
       ]
      }
     ],
     "prompt_number": 17
    },
    {
     "cell_type": "code",
     "collapsed": false,
     "input": [],
     "language": "python",
     "metadata": {},
     "outputs": []
    }
   ],
   "metadata": {}
  }
 ]
}