{
 "metadata": {
  "name": "",
  "signature": "sha256:eac14a949ce451cd51aaabac20842fa555df6dd1fd346688ab1003b5890d6605"
 },
 "nbformat": 3,
 "nbformat_minor": 0,
 "worksheets": [
  {
   "cells": [
    {
     "cell_type": "code",
     "collapsed": false,
     "input": [
      "#This one\n",
      "from Tkinter import Button\n",
      "from Tkinter import Scale\n",
      "from Tkinter import *\n",
      "import os, re, Tkinter, random\n",
      "from PIL import Image\n",
      "from PIL import ImageTk\n",
      "import glob\n",
      "import csv\n",
      "from tkMessageBox import *\n",
      "from random import shuffle\n",
      "import os\n",
      "import platform\n",
      "import tkFileDialog\n",
      "from collections import deque\n",
      "\n",
      "# original code from: http://stackoverflow.com/questions/10599771/how-to-loop-through-subfolders-showing-jpg-in-tkinter\n",
      "class SimpleAppTk(Tkinter.Frame):\n",
      "    \n",
      "    def __init__(self,*args,**kwargs):\n",
      "        \n",
      "        Tkinter.Frame.__init__(self,*args,**kwargs)\n",
      "        #self.filelistA = glob.glob(\"/Volumes/Untitled/test_images/*.png\")  \n",
      "        #self.filelistB = glob.glob(\"/Volumes/Untitled/test_images/*.png\")  \n",
      "        self.filelistA =glob.glob('/Volumes/SaraReis/observerStudy/test_images/*.png')\n",
      "        self.filelistB = glob.glob('/Volumes/SaraReis/observerStudy/test_images/*.png')\n",
      "        #self.filelist = glob.glob(\"/Users/sarareis/Documents/observerStudy/test_images/*.png\")\n",
      "        #self.filelist = glob.glob(\"/Volumes/vph-prism5/Sara/observerStudy/non_histo_test_images/*.tiff\")  #get your files here\n",
      "        \n",
      "        self.listA = []\n",
      "        self.listB = []\n",
      "        '''\n",
      "        for p1 in range(len(self.filelist)):\n",
      "                for p2 in range(p1+1,len(self.filelist)):\n",
      "                        self.filelist_pairs.append([self.filelist[p1],self.filelist[p2]])\n",
      "        shuffle(self.filelist_pairs)\n",
      "        '''\n",
      "        shuffle(self.filelistA, lambda: .1)\n",
      "        self.listA = self.filelistA\n",
      "        print self.listA\n",
      "        \n",
      "        shuffle(self.filelistB, lambda: .9)\n",
      "        self.listB = self.filelistB\n",
      "        self.listB = deque(self.listB)\n",
      "        self.listB.rotate(-6)\n",
      "        print self.listB\n",
      "        \n",
      "        self.i = 0\n",
      "        self.maturity_A = []\n",
      "        self.maturity_B = []\n",
      "        self.name1 = []\n",
      "        self.name2 = []\n",
      "        self.setup()\n",
      "\n",
      "        #self.display_next()\n",
      "        #self.mature()\n",
      "        #self.immature()\n",
      "        \n",
      "        #self.quit()\n",
      "        \n",
      "\n",
      "            \n",
      "    def setup(self):\n",
      "        self.Label=Tkinter.Label(self) # widget to display the image 1 on the screen\n",
      "        self.Label.grid(row=0,column=0)\n",
      "        \n",
      "        self.Label2=Tkinter.Label(self) # widget to display the image 2 on the screen\n",
      "        self.Label2.grid(row=0,column=1)\n",
      "        \n",
      "        #Slider button A\n",
      "        self.SliderA = Tkinter.Scale(self, from_=-1, to=1, length=600,tickinterval=0.2, resolution=0.01, orient=HORIZONTAL) \n",
      "        self.SliderA.grid(row=1,column=0)\n",
      "        \n",
      "        #Slider button B\n",
      "        self.SliderB = Tkinter.Scale(self, from_=-1, to=1, length=600,tickinterval=0.2, resolution=0.01, orient=HORIZONTAL) \n",
      "        self.SliderB.grid(row=1,column=1)\n",
      "        \n",
      "        ## Labels button\n",
      "        self.Label3=Tkinter.Label(self, text=\"Immature\", font='bold') # widget to display the text \n",
      "        self.Label3.grid(row=2,column=0, padx=(0,500))\n",
      "        \n",
      "        self.Label4=Tkinter.Label(self, text=\"Mature\") # widget to display the text\n",
      "        self.Label4.grid(row=2,column=0, padx=(500,0))\n",
      "        \n",
      "        self.Label5=Tkinter.Label(self, text=\"Immature\") # widget to display the text\n",
      "        self.Label5.grid(row=2,column=1, padx=(0,500))\n",
      "        \n",
      "        self.Label6=Tkinter.Label(self, text=\"Mature\") # widget to display the text\n",
      "        self.Label6.grid(row=2,column=1, padx=(500,0))\n",
      "        \n",
      "        ## Next button\n",
      "        self.Button1 = Tkinter.Button(self,text=\"Next\", command = lambda: self.display_next())\n",
      "        self.Button1.grid(row=3,column=0, columnspan=3)\n",
      "        \n",
      "        ## QUIT button\n",
      "        self.Quit = Tkinter.Button(self,text=\"QUIT\", command = self.quit)\n",
      "        self.Quit.grid(row=4,column=0, columnspan=3)\n",
      "        \n",
      "    \n",
      "    def display_next(self):\n",
      "\n",
      "        if self.i!= len(self.listA):\n",
      "\n",
      "            f1=self.listA[self.i]\n",
      "            f2=self.listB[self.i]\n",
      "            \n",
      "            (dirname1, filename1) = os.path.split(f1)\n",
      "            filename1 = str(os.path.basename(f1))\n",
      "            filename1 = filename1.replace('.png','')\n",
      "            self.name1.append(filename1)\n",
      "\n",
      "            (dirname2, filename2) = os.path.split(f2)\n",
      "            filename2 = str(os.path.basename(f2))\n",
      "            filename2 = filename2.replace('.png','')\n",
      "            self.name2.append(filename2)\n",
      "\n",
      "            #Create PhotoImage here\n",
      "            image1=Image.open(f1)\n",
      "            cropped1=image1.crop((0,0,600,600))\n",
      "            #resized = photoimage.resize((int(photoimage.size[0]*.3),int(photoimage.size[1]*.2)),Image.ANTIALIAS)\n",
      "            resized = image1.resize((600,600),Image.ANTIALIAS)\n",
      "            tkpi = ImageTk.PhotoImage(cropped1)\n",
      "            self.Label.config(image=tkpi, text=\"A\", compound=Tkinter.TOP)\n",
      "            self.Label.image=tkpi\n",
      "\n",
      "            #Create PhotoImage here\n",
      "            image2=Image.open(f2)\n",
      "            cropped2=image2.crop((0,0,600,600))\n",
      "            rotated=cropped2.rotate(90)\n",
      "            #resized = photoimage.resize((int(photoimage.size[0]*.3),int(photoimage.size[1]*.2)),Image.ANTIALIAS)\n",
      "            resized = image2.resize((500,500),Image.ANTIALIAS)\n",
      "            tkpi = ImageTk.PhotoImage(rotated)\n",
      "            self.Label2.config(image=tkpi, text=\"B\", compound=Tkinter.TOP)\n",
      "            self.Label2.image=tkpi\n",
      "\n",
      "            print self.name1 #List with filenames displayed as image 'A'\n",
      "            print self.name2 #List with filenames displayed as image 'B'\n",
      "\n",
      "            print (self.SliderA.get()) # get slider value\n",
      "            self.maturity_A.append(self.SliderA.get())\n",
      "            print self.maturity_A\n",
      "            \n",
      "            print (self.SliderB.get()) # get slider value\n",
      "            self.maturity_B.append(self.SliderB.get())\n",
      "            print self.maturity_B\n",
      "\n",
      "            self.i=self.i+1\n",
      "            \n",
      "            '''\n",
      "            if self.SliderA.get()==0 or self.SliderB.get():\n",
      "                showerror(\"Error\", \"Slider is set to zero!\")\n",
      "            '''\n",
      "\n",
      "            self.SliderA.set(0) #reset slider to 0.0 \n",
      "            self.SliderB.set(0) #reset slider to 0.0 \n",
      "        \n",
      "        \n",
      "    def quit(self):\n",
      "        \n",
      "        print (self.SliderA.get()) # get slider value\n",
      "        self.maturity_A.append(self.SliderA.get())\n",
      "        print self.maturity_A\n",
      "        print (self.SliderB.get()) # get slider value\n",
      "        self.maturity_B.append(self.SliderB.get())\n",
      "        print self.maturity_B\n",
      "\n",
      "        '''\n",
      "        f = tkFileDialog.asksaveasfile()\n",
      "        with open(f, 'w') as csvfile:\n",
      "            a = csv.writer(csvfile)\n",
      "            a.writerow(self.filelistA)\n",
      "        '''\n",
      "        header = ['A','B']\n",
      "\n",
      "    \n",
      "        self.results_A = map(list,zip(self.name1,self.maturity_A))\n",
      "        self.results_B = map(list,zip(self.name2,self.maturity_B)) \n",
      "        self.results = map(list,zip(self.results_A,self.results_B))\n",
      "    \n",
      "        file = tkFileDialog.asksaveasfile()\n",
      "        a = csv.writer(file)\n",
      "        a.writerow(header)\n",
      "        a.writerows(self.results)\n",
      "        file.close()\n",
      "   \n",
      "        self.master.destroy()\n",
      "        \n",
      "if __name__ == \"__main__\":\n",
      "    root=Tkinter.Tk()\n",
      "    app=SimpleAppTk(root)\n",
      "    app.grid(row=0,column=0)\n",
      "    root.mainloop()\n",
      "    \n",
      "    #dirname = '/Volumes/vph-prism5/Sara/observerStudy/test_images/'\n",
      "    #dirname = '/Volumes/Untitled/test_images/'\n",
      "    '''\n",
      "    userhome = os.path.expanduser('~')\n",
      "    desktop = userhome + '/Desktop/'\n",
      "    useros = platform.system() # returns e.g. 'Linux' 'Windows' \n",
      "    print desktop\n",
      "    dirname = desktop\n",
      "    #dirname = '/Users/sarareis/Desktop/test_images/'\n",
      "    #dirname = '/Volumes/vph-prism5/Sara/observerStudy/non_histo_test_images/'\n",
      "    \n",
      "    A_header = ['A','B']\n",
      "    B_header = ['B', 'Maturity']\n",
      "    \n",
      "    results_A = map(list,zip(app.name1,app.maturity_A)) \n",
      "    print results_A\n",
      "    \n",
      "    results_B = map(list,zip(app.name2,app.maturity_B)) \n",
      "    print results_B\n",
      "    \n",
      "    results = map(list,zip(results_A,results_B))\n",
      "    print \"results\"\n",
      "    print results\n",
      "    \n",
      "    image_names = 'image_list.csv'\n",
      "    A_filename = 'image_A.csv'\n",
      "    B_filename = 'image_B.csv'\n",
      "\n",
      "    \n",
      "    filelist_csv = os.path.join(dirname, image_names)\n",
      "    file = open(filelist_csv, \"w\")\n",
      "    writer = csv.writer(file)\n",
      "    writer.writerow(app.filelistA)\n",
      "    file.close()\n",
      "    \n",
      "    A_csv = os.path.join(dirname, A_filename)\n",
      "    file = open(A_csv, \"wb\")\n",
      "    writer = csv.writer(file)\n",
      "    writer.writerow(A_header)\n",
      "    writer.writerows(results)\n",
      "    file.close()\n",
      "    \n",
      "    B_csv = os.path.join(dirname, B_filename)\n",
      "    file = open(B_csv, \"wb\")\n",
      "    writer = csv.writer(file)\n",
      "    writer.writerow(B_header)\n",
      "    writer.writerows(results_B)\n",
      "    file.close()\n",
      "    '''"
     ],
     "language": "python",
     "metadata": {},
     "outputs": [
      {
       "output_type": "stream",
       "stream": "stdout",
       "text": [
        "['/Volumes/SaraReis/observerStudy/test_images/12_01_i.png', '/Volumes/SaraReis/observerStudy/test_images/21_01_m.png', '/Volumes/SaraReis/observerStudy/test_images/33_02_m.png', '/Volumes/SaraReis/observerStudy/test_images/06_01_m.png', '/Volumes/SaraReis/observerStudy/test_images/08_02_i.png', '/Volumes/SaraReis/observerStudy/test_images/09_06_i.png', '/Volumes/SaraReis/observerStudy/test_images/10_02_i.png', '/Volumes/SaraReis/observerStudy/test_images/11_05_i.png', '/Volumes/SaraReis/observerStudy/test_images/01_01_i.png', '/Volumes/SaraReis/observerStudy/test_images/13_03_i.png', '/Volumes/SaraReis/observerStudy/test_images/14_03_i.png', '/Volumes/SaraReis/observerStudy/test_images/15_01_m.png', '/Volumes/SaraReis/observerStudy/test_images/15_02_i.png', '/Volumes/SaraReis/observerStudy/test_images/16_01_i.png', '/Volumes/SaraReis/observerStudy/test_images/17_02_i.png', '/Volumes/SaraReis/observerStudy/test_images/18_02_m.png', '/Volumes/SaraReis/observerStudy/test_images/19_01_m.png', '/Volumes/SaraReis/observerStudy/test_images/20_01_i.png', '/Volumes/SaraReis/observerStudy/test_images/02_02_i.png', '/Volumes/SaraReis/observerStudy/test_images/22_04_i.png', '/Volumes/SaraReis/observerStudy/test_images/23_02_i.png', '/Volumes/SaraReis/observerStudy/test_images/26_01_m.png', '/Volumes/SaraReis/observerStudy/test_images/26_02_i.png', '/Volumes/SaraReis/observerStudy/test_images/27_01_m.png', '/Volumes/SaraReis/observerStudy/test_images/28_03_m.png', '/Volumes/SaraReis/observerStudy/test_images/29_02_i.png', '/Volumes/SaraReis/observerStudy/test_images/31_01_m.png', '/Volumes/SaraReis/observerStudy/test_images/32_02_m.png', '/Volumes/SaraReis/observerStudy/test_images/03_02_i.png', '/Volumes/SaraReis/observerStudy/test_images/33_03_i.png', '/Volumes/SaraReis/observerStudy/test_images/34_02_m.png', '/Volumes/SaraReis/observerStudy/test_images/35_04_i.png', '/Volumes/SaraReis/observerStudy/test_images/36_02_i.png', '/Volumes/SaraReis/observerStudy/test_images/37_01_m.png', '/Volumes/SaraReis/observerStudy/test_images/37_03_i.png', '/Volumes/SaraReis/observerStudy/test_images/38_03_i.png', '/Volumes/SaraReis/observerStudy/test_images/39_02_i.png', '/Volumes/SaraReis/observerStudy/test_images/40_02_i.png', '/Volumes/SaraReis/observerStudy/test_images/05_02_i.png']\n",
        "deque(['/Volumes/SaraReis/observerStudy/test_images/09_06_i.png', '/Volumes/SaraReis/observerStudy/test_images/10_02_i.png', '/Volumes/SaraReis/observerStudy/test_images/11_05_i.png', '/Volumes/SaraReis/observerStudy/test_images/40_02_i.png', '/Volumes/SaraReis/observerStudy/test_images/12_01_i.png', '/Volumes/SaraReis/observerStudy/test_images/13_03_i.png', '/Volumes/SaraReis/observerStudy/test_images/14_03_i.png', '/Volumes/SaraReis/observerStudy/test_images/15_01_m.png', '/Volumes/SaraReis/observerStudy/test_images/15_02_i.png', '/Volumes/SaraReis/observerStudy/test_images/16_01_i.png', '/Volumes/SaraReis/observerStudy/test_images/17_02_i.png', '/Volumes/SaraReis/observerStudy/test_images/18_02_m.png', '/Volumes/SaraReis/observerStudy/test_images/19_01_m.png', '/Volumes/SaraReis/observerStudy/test_images/39_02_i.png', '/Volumes/SaraReis/observerStudy/test_images/20_01_i.png', '/Volumes/SaraReis/observerStudy/test_images/21_01_m.png', '/Volumes/SaraReis/observerStudy/test_images/22_04_i.png', '/Volumes/SaraReis/observerStudy/test_images/23_02_i.png', '/Volumes/SaraReis/observerStudy/test_images/26_01_m.png', '/Volumes/SaraReis/observerStudy/test_images/26_02_i.png', '/Volumes/SaraReis/observerStudy/test_images/27_01_m.png', '/Volumes/SaraReis/observerStudy/test_images/28_03_m.png', '/Volumes/SaraReis/observerStudy/test_images/29_02_i.png', '/Volumes/SaraReis/observerStudy/test_images/38_03_i.png', '/Volumes/SaraReis/observerStudy/test_images/31_01_m.png', '/Volumes/SaraReis/observerStudy/test_images/32_02_m.png', '/Volumes/SaraReis/observerStudy/test_images/33_02_m.png', '/Volumes/SaraReis/observerStudy/test_images/33_03_i.png', '/Volumes/SaraReis/observerStudy/test_images/34_02_m.png', '/Volumes/SaraReis/observerStudy/test_images/35_04_i.png', '/Volumes/SaraReis/observerStudy/test_images/36_02_i.png', '/Volumes/SaraReis/observerStudy/test_images/37_01_m.png', '/Volumes/SaraReis/observerStudy/test_images/37_03_i.png', '/Volumes/SaraReis/observerStudy/test_images/01_01_i.png', '/Volumes/SaraReis/observerStudy/test_images/02_02_i.png', '/Volumes/SaraReis/observerStudy/test_images/03_02_i.png', '/Volumes/SaraReis/observerStudy/test_images/05_02_i.png', '/Volumes/SaraReis/observerStudy/test_images/06_01_m.png', '/Volumes/SaraReis/observerStudy/test_images/08_02_i.png'])\n",
        "['12_01_i']"
       ]
      },
      {
       "output_type": "stream",
       "stream": "stdout",
       "text": [
        "\n",
        "['09_06_i']\n",
        "0.0\n",
        "[0.0]\n",
        "0.0\n",
        "[0.0]\n",
        "['12_01_i', '21_01_m']"
       ]
      },
      {
       "output_type": "stream",
       "stream": "stdout",
       "text": [
        "\n",
        "['09_06_i', '10_02_i']\n",
        "0.0\n",
        "[0.0, 0.0]\n",
        "0.0\n",
        "[0.0, 0.0]\n",
        "['12_01_i', '21_01_m', '33_02_m']"
       ]
      },
      {
       "output_type": "stream",
       "stream": "stdout",
       "text": [
        "\n",
        "['09_06_i', '10_02_i', '11_05_i']\n",
        "0.0\n",
        "[0.0, 0.0, 0.0]\n",
        "0.0\n",
        "[0.0, 0.0, 0.0]\n",
        "['12_01_i', '21_01_m', '33_02_m', '06_01_m']"
       ]
      },
      {
       "output_type": "stream",
       "stream": "stdout",
       "text": [
        "\n",
        "['09_06_i', '10_02_i', '11_05_i', '40_02_i']\n",
        "0.0\n",
        "[0.0, 0.0, 0.0, 0.0]\n",
        "0.0\n",
        "[0.0, 0.0, 0.0, 0.0]\n",
        "['12_01_i', '21_01_m', '33_02_m', '06_01_m', '08_02_i']"
       ]
      },
      {
       "output_type": "stream",
       "stream": "stdout",
       "text": [
        "\n",
        "['09_06_i', '10_02_i', '11_05_i', '40_02_i', '12_01_i']\n",
        "0.0\n",
        "[0.0, 0.0, 0.0, 0.0, 0.0]\n",
        "0.0\n",
        "[0.0, 0.0, 0.0, 0.0, 0.0]\n",
        "['12_01_i', '21_01_m', '33_02_m', '06_01_m', '08_02_i', '09_06_i']"
       ]
      },
      {
       "output_type": "stream",
       "stream": "stdout",
       "text": [
        "\n",
        "['09_06_i', '10_02_i', '11_05_i', '40_02_i', '12_01_i', '13_03_i']\n",
        "0.0\n",
        "[0.0, 0.0, 0.0, 0.0, 0.0, 0.0]\n",
        "0.0\n",
        "[0.0, 0.0, 0.0, 0.0, 0.0, 0.0]\n",
        "['12_01_i', '21_01_m', '33_02_m', '06_01_m', '08_02_i', '09_06_i', '10_02_i']"
       ]
      },
      {
       "output_type": "stream",
       "stream": "stdout",
       "text": [
        "\n",
        "['09_06_i', '10_02_i', '11_05_i', '40_02_i', '12_01_i', '13_03_i', '14_03_i']\n",
        "0.0\n",
        "[0.0, 0.0, 0.0, 0.0, 0.0, 0.0, 0.0]\n",
        "0.0\n",
        "[0.0, 0.0, 0.0, 0.0, 0.0, 0.0, 0.0]\n",
        "['12_01_i', '21_01_m', '33_02_m', '06_01_m', '08_02_i', '09_06_i', '10_02_i', '11_05_i']"
       ]
      },
      {
       "output_type": "stream",
       "stream": "stdout",
       "text": [
        "\n",
        "['09_06_i', '10_02_i', '11_05_i', '40_02_i', '12_01_i', '13_03_i', '14_03_i', '15_01_m']\n",
        "0.0\n",
        "[0.0, 0.0, 0.0, 0.0, 0.0, 0.0, 0.0, 0.0]\n",
        "0.0\n",
        "[0.0, 0.0, 0.0, 0.0, 0.0, 0.0, 0.0, 0.0]\n",
        "['12_01_i', '21_01_m', '33_02_m', '06_01_m', '08_02_i', '09_06_i', '10_02_i', '11_05_i', '01_01_i']"
       ]
      },
      {
       "output_type": "stream",
       "stream": "stdout",
       "text": [
        "\n",
        "['09_06_i', '10_02_i', '11_05_i', '40_02_i', '12_01_i', '13_03_i', '14_03_i', '15_01_m', '15_02_i']\n",
        "0.0\n",
        "[0.0, 0.0, 0.0, 0.0, 0.0, 0.0, 0.0, 0.0, 0.0]\n",
        "0.0\n",
        "[0.0, 0.0, 0.0, 0.0, 0.0, 0.0, 0.0, 0.0, 0.0]\n",
        "['12_01_i', '21_01_m', '33_02_m', '06_01_m', '08_02_i', '09_06_i', '10_02_i', '11_05_i', '01_01_i', '13_03_i']"
       ]
      },
      {
       "output_type": "stream",
       "stream": "stdout",
       "text": [
        "\n",
        "['09_06_i', '10_02_i', '11_05_i', '40_02_i', '12_01_i', '13_03_i', '14_03_i', '15_01_m', '15_02_i', '16_01_i']\n",
        "0.0\n",
        "[0.0, 0.0, 0.0, 0.0, 0.0, 0.0, 0.0, 0.0, 0.0, 0.0]\n",
        "0.0\n",
        "[0.0, 0.0, 0.0, 0.0, 0.0, 0.0, 0.0, 0.0, 0.0, 0.0]\n",
        "['12_01_i', '21_01_m', '33_02_m', '06_01_m', '08_02_i', '09_06_i', '10_02_i', '11_05_i', '01_01_i', '13_03_i', '14_03_i']"
       ]
      },
      {
       "output_type": "stream",
       "stream": "stdout",
       "text": [
        "\n",
        "['09_06_i', '10_02_i', '11_05_i', '40_02_i', '12_01_i', '13_03_i', '14_03_i', '15_01_m', '15_02_i', '16_01_i', '17_02_i']\n",
        "0.0\n",
        "[0.0, 0.0, 0.0, 0.0, 0.0, 0.0, 0.0, 0.0, 0.0, 0.0, 0.0]\n",
        "0.0\n",
        "[0.0, 0.0, 0.0, 0.0, 0.0, 0.0, 0.0, 0.0, 0.0, 0.0, 0.0]\n",
        "['12_01_i', '21_01_m', '33_02_m', '06_01_m', '08_02_i', '09_06_i', '10_02_i', '11_05_i', '01_01_i', '13_03_i', '14_03_i', '15_01_m']"
       ]
      },
      {
       "output_type": "stream",
       "stream": "stdout",
       "text": [
        "\n",
        "['09_06_i', '10_02_i', '11_05_i', '40_02_i', '12_01_i', '13_03_i', '14_03_i', '15_01_m', '15_02_i', '16_01_i', '17_02_i', '18_02_m']\n",
        "0.0\n",
        "[0.0, 0.0, 0.0, 0.0, 0.0, 0.0, 0.0, 0.0, 0.0, 0.0, 0.0, 0.0]\n",
        "0.0\n",
        "[0.0, 0.0, 0.0, 0.0, 0.0, 0.0, 0.0, 0.0, 0.0, 0.0, 0.0, 0.0]\n",
        "['12_01_i', '21_01_m', '33_02_m', '06_01_m', '08_02_i', '09_06_i', '10_02_i', '11_05_i', '01_01_i', '13_03_i', '14_03_i', '15_01_m', '15_02_i']"
       ]
      },
      {
       "output_type": "stream",
       "stream": "stdout",
       "text": [
        "\n",
        "['09_06_i', '10_02_i', '11_05_i', '40_02_i', '12_01_i', '13_03_i', '14_03_i', '15_01_m', '15_02_i', '16_01_i', '17_02_i', '18_02_m', '19_01_m']\n",
        "0.0\n",
        "[0.0, 0.0, 0.0, 0.0, 0.0, 0.0, 0.0, 0.0, 0.0, 0.0, 0.0, 0.0, 0.0]\n",
        "0.0\n",
        "[0.0, 0.0, 0.0, 0.0, 0.0, 0.0, 0.0, 0.0, 0.0, 0.0, 0.0, 0.0, 0.0]\n",
        "['12_01_i', '21_01_m', '33_02_m', '06_01_m', '08_02_i', '09_06_i', '10_02_i', '11_05_i', '01_01_i', '13_03_i', '14_03_i', '15_01_m', '15_02_i', '16_01_i']"
       ]
      },
      {
       "output_type": "stream",
       "stream": "stdout",
       "text": [
        "\n",
        "['09_06_i', '10_02_i', '11_05_i', '40_02_i', '12_01_i', '13_03_i', '14_03_i', '15_01_m', '15_02_i', '16_01_i', '17_02_i', '18_02_m', '19_01_m', '39_02_i']\n",
        "0.0\n",
        "[0.0, 0.0, 0.0, 0.0, 0.0, 0.0, 0.0, 0.0, 0.0, 0.0, 0.0, 0.0, 0.0, 0.0]\n",
        "0.0\n",
        "[0.0, 0.0, 0.0, 0.0, 0.0, 0.0, 0.0, 0.0, 0.0, 0.0, 0.0, 0.0, 0.0, 0.0]\n",
        "['12_01_i', '21_01_m', '33_02_m', '06_01_m', '08_02_i', '09_06_i', '10_02_i', '11_05_i', '01_01_i', '13_03_i', '14_03_i', '15_01_m', '15_02_i', '16_01_i', '17_02_i']"
       ]
      },
      {
       "output_type": "stream",
       "stream": "stdout",
       "text": [
        "\n",
        "['09_06_i', '10_02_i', '11_05_i', '40_02_i', '12_01_i', '13_03_i', '14_03_i', '15_01_m', '15_02_i', '16_01_i', '17_02_i', '18_02_m', '19_01_m', '39_02_i', '20_01_i']\n",
        "0.0\n",
        "[0.0, 0.0, 0.0, 0.0, 0.0, 0.0, 0.0, 0.0, 0.0, 0.0, 0.0, 0.0, 0.0, 0.0, 0.0]\n",
        "0.0\n",
        "[0.0, 0.0, 0.0, 0.0, 0.0, 0.0, 0.0, 0.0, 0.0, 0.0, 0.0, 0.0, 0.0, 0.0, 0.0]\n",
        "['12_01_i', '21_01_m', '33_02_m', '06_01_m', '08_02_i', '09_06_i', '10_02_i', '11_05_i', '01_01_i', '13_03_i', '14_03_i', '15_01_m', '15_02_i', '16_01_i', '17_02_i', '18_02_m']"
       ]
      },
      {
       "output_type": "stream",
       "stream": "stdout",
       "text": [
        "\n",
        "['09_06_i', '10_02_i', '11_05_i', '40_02_i', '12_01_i', '13_03_i', '14_03_i', '15_01_m', '15_02_i', '16_01_i', '17_02_i', '18_02_m', '19_01_m', '39_02_i', '20_01_i', '21_01_m']\n",
        "0.0\n",
        "[0.0, 0.0, 0.0, 0.0, 0.0, 0.0, 0.0, 0.0, 0.0, 0.0, 0.0, 0.0, 0.0, 0.0, 0.0, 0.0]\n",
        "0.0\n",
        "[0.0, 0.0, 0.0, 0.0, 0.0, 0.0, 0.0, 0.0, 0.0, 0.0, 0.0, 0.0, 0.0, 0.0, 0.0, 0.0]\n",
        "['12_01_i', '21_01_m', '33_02_m', '06_01_m', '08_02_i', '09_06_i', '10_02_i', '11_05_i', '01_01_i', '13_03_i', '14_03_i', '15_01_m', '15_02_i', '16_01_i', '17_02_i', '18_02_m', '19_01_m']"
       ]
      },
      {
       "output_type": "stream",
       "stream": "stdout",
       "text": [
        "\n",
        "['09_06_i', '10_02_i', '11_05_i', '40_02_i', '12_01_i', '13_03_i', '14_03_i', '15_01_m', '15_02_i', '16_01_i', '17_02_i', '18_02_m', '19_01_m', '39_02_i', '20_01_i', '21_01_m', '22_04_i']\n",
        "0.0\n",
        "[0.0, 0.0, 0.0, 0.0, 0.0, 0.0, 0.0, 0.0, 0.0, 0.0, 0.0, 0.0, 0.0, 0.0, 0.0, 0.0, 0.0]\n",
        "0.0\n",
        "[0.0, 0.0, 0.0, 0.0, 0.0, 0.0, 0.0, 0.0, 0.0, 0.0, 0.0, 0.0, 0.0, 0.0, 0.0, 0.0, 0.0]\n",
        "['12_01_i', '21_01_m', '33_02_m', '06_01_m', '08_02_i', '09_06_i', '10_02_i', '11_05_i', '01_01_i', '13_03_i', '14_03_i', '15_01_m', '15_02_i', '16_01_i', '17_02_i', '18_02_m', '19_01_m', '20_01_i']"
       ]
      },
      {
       "output_type": "stream",
       "stream": "stdout",
       "text": [
        "\n",
        "['09_06_i', '10_02_i', '11_05_i', '40_02_i', '12_01_i', '13_03_i', '14_03_i', '15_01_m', '15_02_i', '16_01_i', '17_02_i', '18_02_m', '19_01_m', '39_02_i', '20_01_i', '21_01_m', '22_04_i', '23_02_i']\n",
        "0.0\n",
        "[0.0, 0.0, 0.0, 0.0, 0.0, 0.0, 0.0, 0.0, 0.0, 0.0, 0.0, 0.0, 0.0, 0.0, 0.0, 0.0, 0.0, 0.0]\n",
        "0.0\n",
        "[0.0, 0.0, 0.0, 0.0, 0.0, 0.0, 0.0, 0.0, 0.0, 0.0, 0.0, 0.0, 0.0, 0.0, 0.0, 0.0, 0.0, 0.0]\n",
        "['12_01_i', '21_01_m', '33_02_m', '06_01_m', '08_02_i', '09_06_i', '10_02_i', '11_05_i', '01_01_i', '13_03_i', '14_03_i', '15_01_m', '15_02_i', '16_01_i', '17_02_i', '18_02_m', '19_01_m', '20_01_i', '02_02_i']"
       ]
      },
      {
       "output_type": "stream",
       "stream": "stdout",
       "text": [
        "\n",
        "['09_06_i', '10_02_i', '11_05_i', '40_02_i', '12_01_i', '13_03_i', '14_03_i', '15_01_m', '15_02_i', '16_01_i', '17_02_i', '18_02_m', '19_01_m', '39_02_i', '20_01_i', '21_01_m', '22_04_i', '23_02_i', '26_01_m']\n",
        "0.0\n",
        "[0.0, 0.0, 0.0, 0.0, 0.0, 0.0, 0.0, 0.0, 0.0, 0.0, 0.0, 0.0, 0.0, 0.0, 0.0, 0.0, 0.0, 0.0, 0.0]\n",
        "0.0\n",
        "[0.0, 0.0, 0.0, 0.0, 0.0, 0.0, 0.0, 0.0, 0.0, 0.0, 0.0, 0.0, 0.0, 0.0, 0.0, 0.0, 0.0, 0.0, 0.0]\n",
        "['12_01_i', '21_01_m', '33_02_m', '06_01_m', '08_02_i', '09_06_i', '10_02_i', '11_05_i', '01_01_i', '13_03_i', '14_03_i', '15_01_m', '15_02_i', '16_01_i', '17_02_i', '18_02_m', '19_01_m', '20_01_i', '02_02_i', '22_04_i']"
       ]
      },
      {
       "output_type": "stream",
       "stream": "stdout",
       "text": [
        "\n",
        "['09_06_i', '10_02_i', '11_05_i', '40_02_i', '12_01_i', '13_03_i', '14_03_i', '15_01_m', '15_02_i', '16_01_i', '17_02_i', '18_02_m', '19_01_m', '39_02_i', '20_01_i', '21_01_m', '22_04_i', '23_02_i', '26_01_m', '26_02_i']\n",
        "0.0\n",
        "[0.0, 0.0, 0.0, 0.0, 0.0, 0.0, 0.0, 0.0, 0.0, 0.0, 0.0, 0.0, 0.0, 0.0, 0.0, 0.0, 0.0, 0.0, 0.0, 0.0]\n",
        "0.0\n",
        "[0.0, 0.0, 0.0, 0.0, 0.0, 0.0, 0.0, 0.0, 0.0, 0.0, 0.0, 0.0, 0.0, 0.0, 0.0, 0.0, 0.0, 0.0, 0.0, 0.0]\n",
        "['12_01_i', '21_01_m', '33_02_m', '06_01_m', '08_02_i', '09_06_i', '10_02_i', '11_05_i', '01_01_i', '13_03_i', '14_03_i', '15_01_m', '15_02_i', '16_01_i', '17_02_i', '18_02_m', '19_01_m', '20_01_i', '02_02_i', '22_04_i', '23_02_i']"
       ]
      },
      {
       "output_type": "stream",
       "stream": "stdout",
       "text": [
        "\n",
        "['09_06_i', '10_02_i', '11_05_i', '40_02_i', '12_01_i', '13_03_i', '14_03_i', '15_01_m', '15_02_i', '16_01_i', '17_02_i', '18_02_m', '19_01_m', '39_02_i', '20_01_i', '21_01_m', '22_04_i', '23_02_i', '26_01_m', '26_02_i', '27_01_m']\n",
        "0.0\n",
        "[0.0, 0.0, 0.0, 0.0, 0.0, 0.0, 0.0, 0.0, 0.0, 0.0, 0.0, 0.0, 0.0, 0.0, 0.0, 0.0, 0.0, 0.0, 0.0, 0.0, 0.0]\n",
        "0.0\n",
        "[0.0, 0.0, 0.0, 0.0, 0.0, 0.0, 0.0, 0.0, 0.0, 0.0, 0.0, 0.0, 0.0, 0.0, 0.0, 0.0, 0.0, 0.0, 0.0, 0.0, 0.0]\n",
        "['12_01_i', '21_01_m', '33_02_m', '06_01_m', '08_02_i', '09_06_i', '10_02_i', '11_05_i', '01_01_i', '13_03_i', '14_03_i', '15_01_m', '15_02_i', '16_01_i', '17_02_i', '18_02_m', '19_01_m', '20_01_i', '02_02_i', '22_04_i', '23_02_i', '26_01_m']"
       ]
      },
      {
       "output_type": "stream",
       "stream": "stdout",
       "text": [
        "\n",
        "['09_06_i', '10_02_i', '11_05_i', '40_02_i', '12_01_i', '13_03_i', '14_03_i', '15_01_m', '15_02_i', '16_01_i', '17_02_i', '18_02_m', '19_01_m', '39_02_i', '20_01_i', '21_01_m', '22_04_i', '23_02_i', '26_01_m', '26_02_i', '27_01_m', '28_03_m']\n",
        "0.0\n",
        "[0.0, 0.0, 0.0, 0.0, 0.0, 0.0, 0.0, 0.0, 0.0, 0.0, 0.0, 0.0, 0.0, 0.0, 0.0, 0.0, 0.0, 0.0, 0.0, 0.0, 0.0, 0.0]\n",
        "0.0\n",
        "[0.0, 0.0, 0.0, 0.0, 0.0, 0.0, 0.0, 0.0, 0.0, 0.0, 0.0, 0.0, 0.0, 0.0, 0.0, 0.0, 0.0, 0.0, 0.0, 0.0, 0.0, 0.0]\n",
        "['12_01_i', '21_01_m', '33_02_m', '06_01_m', '08_02_i', '09_06_i', '10_02_i', '11_05_i', '01_01_i', '13_03_i', '14_03_i', '15_01_m', '15_02_i', '16_01_i', '17_02_i', '18_02_m', '19_01_m', '20_01_i', '02_02_i', '22_04_i', '23_02_i', '26_01_m', '26_02_i']"
       ]
      },
      {
       "output_type": "stream",
       "stream": "stdout",
       "text": [
        "\n",
        "['09_06_i', '10_02_i', '11_05_i', '40_02_i', '12_01_i', '13_03_i', '14_03_i', '15_01_m', '15_02_i', '16_01_i', '17_02_i', '18_02_m', '19_01_m', '39_02_i', '20_01_i', '21_01_m', '22_04_i', '23_02_i', '26_01_m', '26_02_i', '27_01_m', '28_03_m', '29_02_i']\n",
        "0.0\n",
        "[0.0, 0.0, 0.0, 0.0, 0.0, 0.0, 0.0, 0.0, 0.0, 0.0, 0.0, 0.0, 0.0, 0.0, 0.0, 0.0, 0.0, 0.0, 0.0, 0.0, 0.0, 0.0, 0.0]\n",
        "0.0\n",
        "[0.0, 0.0, 0.0, 0.0, 0.0, 0.0, 0.0, 0.0, 0.0, 0.0, 0.0, 0.0, 0.0, 0.0, 0.0, 0.0, 0.0, 0.0, 0.0, 0.0, 0.0, 0.0, 0.0]\n",
        "['12_01_i', '21_01_m', '33_02_m', '06_01_m', '08_02_i', '09_06_i', '10_02_i', '11_05_i', '01_01_i', '13_03_i', '14_03_i', '15_01_m', '15_02_i', '16_01_i', '17_02_i', '18_02_m', '19_01_m', '20_01_i', '02_02_i', '22_04_i', '23_02_i', '26_01_m', '26_02_i', '27_01_m']"
       ]
      },
      {
       "output_type": "stream",
       "stream": "stdout",
       "text": [
        "\n",
        "['09_06_i', '10_02_i', '11_05_i', '40_02_i', '12_01_i', '13_03_i', '14_03_i', '15_01_m', '15_02_i', '16_01_i', '17_02_i', '18_02_m', '19_01_m', '39_02_i', '20_01_i', '21_01_m', '22_04_i', '23_02_i', '26_01_m', '26_02_i', '27_01_m', '28_03_m', '29_02_i', '38_03_i']\n",
        "0.0\n",
        "[0.0, 0.0, 0.0, 0.0, 0.0, 0.0, 0.0, 0.0, 0.0, 0.0, 0.0, 0.0, 0.0, 0.0, 0.0, 0.0, 0.0, 0.0, 0.0, 0.0, 0.0, 0.0, 0.0, 0.0]\n",
        "0.0\n",
        "[0.0, 0.0, 0.0, 0.0, 0.0, 0.0, 0.0, 0.0, 0.0, 0.0, 0.0, 0.0, 0.0, 0.0, 0.0, 0.0, 0.0, 0.0, 0.0, 0.0, 0.0, 0.0, 0.0, 0.0]\n",
        "['12_01_i', '21_01_m', '33_02_m', '06_01_m', '08_02_i', '09_06_i', '10_02_i', '11_05_i', '01_01_i', '13_03_i', '14_03_i', '15_01_m', '15_02_i', '16_01_i', '17_02_i', '18_02_m', '19_01_m', '20_01_i', '02_02_i', '22_04_i', '23_02_i', '26_01_m', '26_02_i', '27_01_m', '28_03_m']"
       ]
      },
      {
       "output_type": "stream",
       "stream": "stdout",
       "text": [
        "\n",
        "['09_06_i', '10_02_i', '11_05_i', '40_02_i', '12_01_i', '13_03_i', '14_03_i', '15_01_m', '15_02_i', '16_01_i', '17_02_i', '18_02_m', '19_01_m', '39_02_i', '20_01_i', '21_01_m', '22_04_i', '23_02_i', '26_01_m', '26_02_i', '27_01_m', '28_03_m', '29_02_i', '38_03_i', '31_01_m']\n",
        "0.0\n",
        "[0.0, 0.0, 0.0, 0.0, 0.0, 0.0, 0.0, 0.0, 0.0, 0.0, 0.0, 0.0, 0.0, 0.0, 0.0, 0.0, 0.0, 0.0, 0.0, 0.0, 0.0, 0.0, 0.0, 0.0, 0.0]\n",
        "0.0\n",
        "[0.0, 0.0, 0.0, 0.0, 0.0, 0.0, 0.0, 0.0, 0.0, 0.0, 0.0, 0.0, 0.0, 0.0, 0.0, 0.0, 0.0, 0.0, 0.0, 0.0, 0.0, 0.0, 0.0, 0.0, 0.0]\n",
        "['12_01_i', '21_01_m', '33_02_m', '06_01_m', '08_02_i', '09_06_i', '10_02_i', '11_05_i', '01_01_i', '13_03_i', '14_03_i', '15_01_m', '15_02_i', '16_01_i', '17_02_i', '18_02_m', '19_01_m', '20_01_i', '02_02_i', '22_04_i', '23_02_i', '26_01_m', '26_02_i', '27_01_m', '28_03_m', '29_02_i']"
       ]
      },
      {
       "output_type": "stream",
       "stream": "stdout",
       "text": [
        "\n",
        "['09_06_i', '10_02_i', '11_05_i', '40_02_i', '12_01_i', '13_03_i', '14_03_i', '15_01_m', '15_02_i', '16_01_i', '17_02_i', '18_02_m', '19_01_m', '39_02_i', '20_01_i', '21_01_m', '22_04_i', '23_02_i', '26_01_m', '26_02_i', '27_01_m', '28_03_m', '29_02_i', '38_03_i', '31_01_m', '32_02_m']\n",
        "0.0\n",
        "[0.0, 0.0, 0.0, 0.0, 0.0, 0.0, 0.0, 0.0, 0.0, 0.0, 0.0, 0.0, 0.0, 0.0, 0.0, 0.0, 0.0, 0.0, 0.0, 0.0, 0.0, 0.0, 0.0, 0.0, 0.0, 0.0]\n",
        "0.0\n",
        "[0.0, 0.0, 0.0, 0.0, 0.0, 0.0, 0.0, 0.0, 0.0, 0.0, 0.0, 0.0, 0.0, 0.0, 0.0, 0.0, 0.0, 0.0, 0.0, 0.0, 0.0, 0.0, 0.0, 0.0, 0.0, 0.0]\n",
        "['12_01_i', '21_01_m', '33_02_m', '06_01_m', '08_02_i', '09_06_i', '10_02_i', '11_05_i', '01_01_i', '13_03_i', '14_03_i', '15_01_m', '15_02_i', '16_01_i', '17_02_i', '18_02_m', '19_01_m', '20_01_i', '02_02_i', '22_04_i', '23_02_i', '26_01_m', '26_02_i', '27_01_m', '28_03_m', '29_02_i', '31_01_m']"
       ]
      },
      {
       "output_type": "stream",
       "stream": "stdout",
       "text": [
        "\n",
        "['09_06_i', '10_02_i', '11_05_i', '40_02_i', '12_01_i', '13_03_i', '14_03_i', '15_01_m', '15_02_i', '16_01_i', '17_02_i', '18_02_m', '19_01_m', '39_02_i', '20_01_i', '21_01_m', '22_04_i', '23_02_i', '26_01_m', '26_02_i', '27_01_m', '28_03_m', '29_02_i', '38_03_i', '31_01_m', '32_02_m', '33_02_m']\n",
        "0.0\n",
        "[0.0, 0.0, 0.0, 0.0, 0.0, 0.0, 0.0, 0.0, 0.0, 0.0, 0.0, 0.0, 0.0, 0.0, 0.0, 0.0, 0.0, 0.0, 0.0, 0.0, 0.0, 0.0, 0.0, 0.0, 0.0, 0.0, 0.0]\n",
        "0.0\n",
        "[0.0, 0.0, 0.0, 0.0, 0.0, 0.0, 0.0, 0.0, 0.0, 0.0, 0.0, 0.0, 0.0, 0.0, 0.0, 0.0, 0.0, 0.0, 0.0, 0.0, 0.0, 0.0, 0.0, 0.0, 0.0, 0.0, 0.0]\n",
        "['12_01_i', '21_01_m', '33_02_m', '06_01_m', '08_02_i', '09_06_i', '10_02_i', '11_05_i', '01_01_i', '13_03_i', '14_03_i', '15_01_m', '15_02_i', '16_01_i', '17_02_i', '18_02_m', '19_01_m', '20_01_i', '02_02_i', '22_04_i', '23_02_i', '26_01_m', '26_02_i', '27_01_m', '28_03_m', '29_02_i', '31_01_m', '32_02_m']"
       ]
      },
      {
       "output_type": "stream",
       "stream": "stdout",
       "text": [
        "\n",
        "['09_06_i', '10_02_i', '11_05_i', '40_02_i', '12_01_i', '13_03_i', '14_03_i', '15_01_m', '15_02_i', '16_01_i', '17_02_i', '18_02_m', '19_01_m', '39_02_i', '20_01_i', '21_01_m', '22_04_i', '23_02_i', '26_01_m', '26_02_i', '27_01_m', '28_03_m', '29_02_i', '38_03_i', '31_01_m', '32_02_m', '33_02_m', '33_03_i']\n",
        "0.0\n",
        "[0.0, 0.0, 0.0, 0.0, 0.0, 0.0, 0.0, 0.0, 0.0, 0.0, 0.0, 0.0, 0.0, 0.0, 0.0, 0.0, 0.0, 0.0, 0.0, 0.0, 0.0, 0.0, 0.0, 0.0, 0.0, 0.0, 0.0, 0.0]\n",
        "0.0\n",
        "[0.0, 0.0, 0.0, 0.0, 0.0, 0.0, 0.0, 0.0, 0.0, 0.0, 0.0, 0.0, 0.0, 0.0, 0.0, 0.0, 0.0, 0.0, 0.0, 0.0, 0.0, 0.0, 0.0, 0.0, 0.0, 0.0, 0.0, 0.0]\n",
        "['12_01_i', '21_01_m', '33_02_m', '06_01_m', '08_02_i', '09_06_i', '10_02_i', '11_05_i', '01_01_i', '13_03_i', '14_03_i', '15_01_m', '15_02_i', '16_01_i', '17_02_i', '18_02_m', '19_01_m', '20_01_i', '02_02_i', '22_04_i', '23_02_i', '26_01_m', '26_02_i', '27_01_m', '28_03_m', '29_02_i', '31_01_m', '32_02_m', '03_02_i']"
       ]
      },
      {
       "output_type": "stream",
       "stream": "stdout",
       "text": [
        "\n",
        "['09_06_i', '10_02_i', '11_05_i', '40_02_i', '12_01_i', '13_03_i', '14_03_i', '15_01_m', '15_02_i', '16_01_i', '17_02_i', '18_02_m', '19_01_m', '39_02_i', '20_01_i', '21_01_m', '22_04_i', '23_02_i', '26_01_m', '26_02_i', '27_01_m', '28_03_m', '29_02_i', '38_03_i', '31_01_m', '32_02_m', '33_02_m', '33_03_i', '34_02_m']\n",
        "0.0\n",
        "[0.0, 0.0, 0.0, 0.0, 0.0, 0.0, 0.0, 0.0, 0.0, 0.0, 0.0, 0.0, 0.0, 0.0, 0.0, 0.0, 0.0, 0.0, 0.0, 0.0, 0.0, 0.0, 0.0, 0.0, 0.0, 0.0, 0.0, 0.0, 0.0]\n",
        "0.0\n",
        "[0.0, 0.0, 0.0, 0.0, 0.0, 0.0, 0.0, 0.0, 0.0, 0.0, 0.0, 0.0, 0.0, 0.0, 0.0, 0.0, 0.0, 0.0, 0.0, 0.0, 0.0, 0.0, 0.0, 0.0, 0.0, 0.0, 0.0, 0.0, 0.0]\n",
        "['12_01_i', '21_01_m', '33_02_m', '06_01_m', '08_02_i', '09_06_i', '10_02_i', '11_05_i', '01_01_i', '13_03_i', '14_03_i', '15_01_m', '15_02_i', '16_01_i', '17_02_i', '18_02_m', '19_01_m', '20_01_i', '02_02_i', '22_04_i', '23_02_i', '26_01_m', '26_02_i', '27_01_m', '28_03_m', '29_02_i', '31_01_m', '32_02_m', '03_02_i', '33_03_i']"
       ]
      },
      {
       "output_type": "stream",
       "stream": "stdout",
       "text": [
        "\n",
        "['09_06_i', '10_02_i', '11_05_i', '40_02_i', '12_01_i', '13_03_i', '14_03_i', '15_01_m', '15_02_i', '16_01_i', '17_02_i', '18_02_m', '19_01_m', '39_02_i', '20_01_i', '21_01_m', '22_04_i', '23_02_i', '26_01_m', '26_02_i', '27_01_m', '28_03_m', '29_02_i', '38_03_i', '31_01_m', '32_02_m', '33_02_m', '33_03_i', '34_02_m', '35_04_i']\n",
        "0.0\n",
        "[0.0, 0.0, 0.0, 0.0, 0.0, 0.0, 0.0, 0.0, 0.0, 0.0, 0.0, 0.0, 0.0, 0.0, 0.0, 0.0, 0.0, 0.0, 0.0, 0.0, 0.0, 0.0, 0.0, 0.0, 0.0, 0.0, 0.0, 0.0, 0.0, 0.0]\n",
        "0.0\n",
        "[0.0, 0.0, 0.0, 0.0, 0.0, 0.0, 0.0, 0.0, 0.0, 0.0, 0.0, 0.0, 0.0, 0.0, 0.0, 0.0, 0.0, 0.0, 0.0, 0.0, 0.0, 0.0, 0.0, 0.0, 0.0, 0.0, 0.0, 0.0, 0.0, 0.0]\n",
        "['12_01_i', '21_01_m', '33_02_m', '06_01_m', '08_02_i', '09_06_i', '10_02_i', '11_05_i', '01_01_i', '13_03_i', '14_03_i', '15_01_m', '15_02_i', '16_01_i', '17_02_i', '18_02_m', '19_01_m', '20_01_i', '02_02_i', '22_04_i', '23_02_i', '26_01_m', '26_02_i', '27_01_m', '28_03_m', '29_02_i', '31_01_m', '32_02_m', '03_02_i', '33_03_i', '34_02_m']"
       ]
      },
      {
       "output_type": "stream",
       "stream": "stdout",
       "text": [
        "\n",
        "['09_06_i', '10_02_i', '11_05_i', '40_02_i', '12_01_i', '13_03_i', '14_03_i', '15_01_m', '15_02_i', '16_01_i', '17_02_i', '18_02_m', '19_01_m', '39_02_i', '20_01_i', '21_01_m', '22_04_i', '23_02_i', '26_01_m', '26_02_i', '27_01_m', '28_03_m', '29_02_i', '38_03_i', '31_01_m', '32_02_m', '33_02_m', '33_03_i', '34_02_m', '35_04_i', '36_02_i']\n",
        "0.0\n",
        "[0.0, 0.0, 0.0, 0.0, 0.0, 0.0, 0.0, 0.0, 0.0, 0.0, 0.0, 0.0, 0.0, 0.0, 0.0, 0.0, 0.0, 0.0, 0.0, 0.0, 0.0, 0.0, 0.0, 0.0, 0.0, 0.0, 0.0, 0.0, 0.0, 0.0, 0.0]\n",
        "0.0\n",
        "[0.0, 0.0, 0.0, 0.0, 0.0, 0.0, 0.0, 0.0, 0.0, 0.0, 0.0, 0.0, 0.0, 0.0, 0.0, 0.0, 0.0, 0.0, 0.0, 0.0, 0.0, 0.0, 0.0, 0.0, 0.0, 0.0, 0.0, 0.0, 0.0, 0.0, 0.0]\n",
        "['12_01_i', '21_01_m', '33_02_m', '06_01_m', '08_02_i', '09_06_i', '10_02_i', '11_05_i', '01_01_i', '13_03_i', '14_03_i', '15_01_m', '15_02_i', '16_01_i', '17_02_i', '18_02_m', '19_01_m', '20_01_i', '02_02_i', '22_04_i', '23_02_i', '26_01_m', '26_02_i', '27_01_m', '28_03_m', '29_02_i', '31_01_m', '32_02_m', '03_02_i', '33_03_i', '34_02_m', '35_04_i']"
       ]
      },
      {
       "output_type": "stream",
       "stream": "stdout",
       "text": [
        "\n",
        "['09_06_i', '10_02_i', '11_05_i', '40_02_i', '12_01_i', '13_03_i', '14_03_i', '15_01_m', '15_02_i', '16_01_i', '17_02_i', '18_02_m', '19_01_m', '39_02_i', '20_01_i', '21_01_m', '22_04_i', '23_02_i', '26_01_m', '26_02_i', '27_01_m', '28_03_m', '29_02_i', '38_03_i', '31_01_m', '32_02_m', '33_02_m', '33_03_i', '34_02_m', '35_04_i', '36_02_i', '37_01_m']\n",
        "0.0\n",
        "[0.0, 0.0, 0.0, 0.0, 0.0, 0.0, 0.0, 0.0, 0.0, 0.0, 0.0, 0.0, 0.0, 0.0, 0.0, 0.0, 0.0, 0.0, 0.0, 0.0, 0.0, 0.0, 0.0, 0.0, 0.0, 0.0, 0.0, 0.0, 0.0, 0.0, 0.0, 0.0]\n",
        "0.0\n",
        "[0.0, 0.0, 0.0, 0.0, 0.0, 0.0, 0.0, 0.0, 0.0, 0.0, 0.0, 0.0, 0.0, 0.0, 0.0, 0.0, 0.0, 0.0, 0.0, 0.0, 0.0, 0.0, 0.0, 0.0, 0.0, 0.0, 0.0, 0.0, 0.0, 0.0, 0.0, 0.0]\n",
        "['12_01_i', '21_01_m', '33_02_m', '06_01_m', '08_02_i', '09_06_i', '10_02_i', '11_05_i', '01_01_i', '13_03_i', '14_03_i', '15_01_m', '15_02_i', '16_01_i', '17_02_i', '18_02_m', '19_01_m', '20_01_i', '02_02_i', '22_04_i', '23_02_i', '26_01_m', '26_02_i', '27_01_m', '28_03_m', '29_02_i', '31_01_m', '32_02_m', '03_02_i', '33_03_i', '34_02_m', '35_04_i', '36_02_i']"
       ]
      },
      {
       "output_type": "stream",
       "stream": "stdout",
       "text": [
        "\n",
        "['09_06_i', '10_02_i', '11_05_i', '40_02_i', '12_01_i', '13_03_i', '14_03_i', '15_01_m', '15_02_i', '16_01_i', '17_02_i', '18_02_m', '19_01_m', '39_02_i', '20_01_i', '21_01_m', '22_04_i', '23_02_i', '26_01_m', '26_02_i', '27_01_m', '28_03_m', '29_02_i', '38_03_i', '31_01_m', '32_02_m', '33_02_m', '33_03_i', '34_02_m', '35_04_i', '36_02_i', '37_01_m', '37_03_i']\n",
        "0.0\n",
        "[0.0, 0.0, 0.0, 0.0, 0.0, 0.0, 0.0, 0.0, 0.0, 0.0, 0.0, 0.0, 0.0, 0.0, 0.0, 0.0, 0.0, 0.0, 0.0, 0.0, 0.0, 0.0, 0.0, 0.0, 0.0, 0.0, 0.0, 0.0, 0.0, 0.0, 0.0, 0.0, 0.0]\n",
        "0.0\n",
        "[0.0, 0.0, 0.0, 0.0, 0.0, 0.0, 0.0, 0.0, 0.0, 0.0, 0.0, 0.0, 0.0, 0.0, 0.0, 0.0, 0.0, 0.0, 0.0, 0.0, 0.0, 0.0, 0.0, 0.0, 0.0, 0.0, 0.0, 0.0, 0.0, 0.0, 0.0, 0.0, 0.0]\n",
        "['12_01_i', '21_01_m', '33_02_m', '06_01_m', '08_02_i', '09_06_i', '10_02_i', '11_05_i', '01_01_i', '13_03_i', '14_03_i', '15_01_m', '15_02_i', '16_01_i', '17_02_i', '18_02_m', '19_01_m', '20_01_i', '02_02_i', '22_04_i', '23_02_i', '26_01_m', '26_02_i', '27_01_m', '28_03_m', '29_02_i', '31_01_m', '32_02_m', '03_02_i', '33_03_i', '34_02_m', '35_04_i', '36_02_i', '37_01_m']"
       ]
      },
      {
       "output_type": "stream",
       "stream": "stdout",
       "text": [
        "\n",
        "['09_06_i', '10_02_i', '11_05_i', '40_02_i', '12_01_i', '13_03_i', '14_03_i', '15_01_m', '15_02_i', '16_01_i', '17_02_i', '18_02_m', '19_01_m', '39_02_i', '20_01_i', '21_01_m', '22_04_i', '23_02_i', '26_01_m', '26_02_i', '27_01_m', '28_03_m', '29_02_i', '38_03_i', '31_01_m', '32_02_m', '33_02_m', '33_03_i', '34_02_m', '35_04_i', '36_02_i', '37_01_m', '37_03_i', '01_01_i']\n",
        "0.0\n",
        "[0.0, 0.0, 0.0, 0.0, 0.0, 0.0, 0.0, 0.0, 0.0, 0.0, 0.0, 0.0, 0.0, 0.0, 0.0, 0.0, 0.0, 0.0, 0.0, 0.0, 0.0, 0.0, 0.0, 0.0, 0.0, 0.0, 0.0, 0.0, 0.0, 0.0, 0.0, 0.0, 0.0, 0.0]\n",
        "0.0\n",
        "[0.0, 0.0, 0.0, 0.0, 0.0, 0.0, 0.0, 0.0, 0.0, 0.0, 0.0, 0.0, 0.0, 0.0, 0.0, 0.0, 0.0, 0.0, 0.0, 0.0, 0.0, 0.0, 0.0, 0.0, 0.0, 0.0, 0.0, 0.0, 0.0, 0.0, 0.0, 0.0, 0.0, 0.0]\n",
        "['12_01_i', '21_01_m', '33_02_m', '06_01_m', '08_02_i', '09_06_i', '10_02_i', '11_05_i', '01_01_i', '13_03_i', '14_03_i', '15_01_m', '15_02_i', '16_01_i', '17_02_i', '18_02_m', '19_01_m', '20_01_i', '02_02_i', '22_04_i', '23_02_i', '26_01_m', '26_02_i', '27_01_m', '28_03_m', '29_02_i', '31_01_m', '32_02_m', '03_02_i', '33_03_i', '34_02_m', '35_04_i', '36_02_i', '37_01_m', '37_03_i']"
       ]
      },
      {
       "output_type": "stream",
       "stream": "stdout",
       "text": [
        "\n",
        "['09_06_i', '10_02_i', '11_05_i', '40_02_i', '12_01_i', '13_03_i', '14_03_i', '15_01_m', '15_02_i', '16_01_i', '17_02_i', '18_02_m', '19_01_m', '39_02_i', '20_01_i', '21_01_m', '22_04_i', '23_02_i', '26_01_m', '26_02_i', '27_01_m', '28_03_m', '29_02_i', '38_03_i', '31_01_m', '32_02_m', '33_02_m', '33_03_i', '34_02_m', '35_04_i', '36_02_i', '37_01_m', '37_03_i', '01_01_i', '02_02_i']\n",
        "0.0\n",
        "[0.0, 0.0, 0.0, 0.0, 0.0, 0.0, 0.0, 0.0, 0.0, 0.0, 0.0, 0.0, 0.0, 0.0, 0.0, 0.0, 0.0, 0.0, 0.0, 0.0, 0.0, 0.0, 0.0, 0.0, 0.0, 0.0, 0.0, 0.0, 0.0, 0.0, 0.0, 0.0, 0.0, 0.0, 0.0]\n",
        "0.0\n",
        "[0.0, 0.0, 0.0, 0.0, 0.0, 0.0, 0.0, 0.0, 0.0, 0.0, 0.0, 0.0, 0.0, 0.0, 0.0, 0.0, 0.0, 0.0, 0.0, 0.0, 0.0, 0.0, 0.0, 0.0, 0.0, 0.0, 0.0, 0.0, 0.0, 0.0, 0.0, 0.0, 0.0, 0.0, 0.0]\n",
        "['12_01_i', '21_01_m', '33_02_m', '06_01_m', '08_02_i', '09_06_i', '10_02_i', '11_05_i', '01_01_i', '13_03_i', '14_03_i', '15_01_m', '15_02_i', '16_01_i', '17_02_i', '18_02_m', '19_01_m', '20_01_i', '02_02_i', '22_04_i', '23_02_i', '26_01_m', '26_02_i', '27_01_m', '28_03_m', '29_02_i', '31_01_m', '32_02_m', '03_02_i', '33_03_i', '34_02_m', '35_04_i', '36_02_i', '37_01_m', '37_03_i', '38_03_i']"
       ]
      },
      {
       "output_type": "stream",
       "stream": "stdout",
       "text": [
        "\n",
        "['09_06_i', '10_02_i', '11_05_i', '40_02_i', '12_01_i', '13_03_i', '14_03_i', '15_01_m', '15_02_i', '16_01_i', '17_02_i', '18_02_m', '19_01_m', '39_02_i', '20_01_i', '21_01_m', '22_04_i', '23_02_i', '26_01_m', '26_02_i', '27_01_m', '28_03_m', '29_02_i', '38_03_i', '31_01_m', '32_02_m', '33_02_m', '33_03_i', '34_02_m', '35_04_i', '36_02_i', '37_01_m', '37_03_i', '01_01_i', '02_02_i', '03_02_i']\n",
        "0.0\n",
        "[0.0, 0.0, 0.0, 0.0, 0.0, 0.0, 0.0, 0.0, 0.0, 0.0, 0.0, 0.0, 0.0, 0.0, 0.0, 0.0, 0.0, 0.0, 0.0, 0.0, 0.0, 0.0, 0.0, 0.0, 0.0, 0.0, 0.0, 0.0, 0.0, 0.0, 0.0, 0.0, 0.0, 0.0, 0.0, 0.0]\n",
        "0.0\n",
        "[0.0, 0.0, 0.0, 0.0, 0.0, 0.0, 0.0, 0.0, 0.0, 0.0, 0.0, 0.0, 0.0, 0.0, 0.0, 0.0, 0.0, 0.0, 0.0, 0.0, 0.0, 0.0, 0.0, 0.0, 0.0, 0.0, 0.0, 0.0, 0.0, 0.0, 0.0, 0.0, 0.0, 0.0, 0.0, 0.0]\n",
        "['12_01_i', '21_01_m', '33_02_m', '06_01_m', '08_02_i', '09_06_i', '10_02_i', '11_05_i', '01_01_i', '13_03_i', '14_03_i', '15_01_m', '15_02_i', '16_01_i', '17_02_i', '18_02_m', '19_01_m', '20_01_i', '02_02_i', '22_04_i', '23_02_i', '26_01_m', '26_02_i', '27_01_m', '28_03_m', '29_02_i', '31_01_m', '32_02_m', '03_02_i', '33_03_i', '34_02_m', '35_04_i', '36_02_i', '37_01_m', '37_03_i', '38_03_i', '39_02_i']"
       ]
      },
      {
       "output_type": "stream",
       "stream": "stdout",
       "text": [
        "\n",
        "['09_06_i', '10_02_i', '11_05_i', '40_02_i', '12_01_i', '13_03_i', '14_03_i', '15_01_m', '15_02_i', '16_01_i', '17_02_i', '18_02_m', '19_01_m', '39_02_i', '20_01_i', '21_01_m', '22_04_i', '23_02_i', '26_01_m', '26_02_i', '27_01_m', '28_03_m', '29_02_i', '38_03_i', '31_01_m', '32_02_m', '33_02_m', '33_03_i', '34_02_m', '35_04_i', '36_02_i', '37_01_m', '37_03_i', '01_01_i', '02_02_i', '03_02_i', '05_02_i']\n",
        "0.0\n",
        "[0.0, 0.0, 0.0, 0.0, 0.0, 0.0, 0.0, 0.0, 0.0, 0.0, 0.0, 0.0, 0.0, 0.0, 0.0, 0.0, 0.0, 0.0, 0.0, 0.0, 0.0, 0.0, 0.0, 0.0, 0.0, 0.0, 0.0, 0.0, 0.0, 0.0, 0.0, 0.0, 0.0, 0.0, 0.0, 0.0, 0.0]\n",
        "0.0\n",
        "[0.0, 0.0, 0.0, 0.0, 0.0, 0.0, 0.0, 0.0, 0.0, 0.0, 0.0, 0.0, 0.0, 0.0, 0.0, 0.0, 0.0, 0.0, 0.0, 0.0, 0.0, 0.0, 0.0, 0.0, 0.0, 0.0, 0.0, 0.0, 0.0, 0.0, 0.0, 0.0, 0.0, 0.0, 0.0, 0.0, 0.0]\n",
        "['12_01_i', '21_01_m', '33_02_m', '06_01_m', '08_02_i', '09_06_i', '10_02_i', '11_05_i', '01_01_i', '13_03_i', '14_03_i', '15_01_m', '15_02_i', '16_01_i', '17_02_i', '18_02_m', '19_01_m', '20_01_i', '02_02_i', '22_04_i', '23_02_i', '26_01_m', '26_02_i', '27_01_m', '28_03_m', '29_02_i', '31_01_m', '32_02_m', '03_02_i', '33_03_i', '34_02_m', '35_04_i', '36_02_i', '37_01_m', '37_03_i', '38_03_i', '39_02_i', '40_02_i']"
       ]
      },
      {
       "output_type": "stream",
       "stream": "stdout",
       "text": [
        "\n",
        "['09_06_i', '10_02_i', '11_05_i', '40_02_i', '12_01_i', '13_03_i', '14_03_i', '15_01_m', '15_02_i', '16_01_i', '17_02_i', '18_02_m', '19_01_m', '39_02_i', '20_01_i', '21_01_m', '22_04_i', '23_02_i', '26_01_m', '26_02_i', '27_01_m', '28_03_m', '29_02_i', '38_03_i', '31_01_m', '32_02_m', '33_02_m', '33_03_i', '34_02_m', '35_04_i', '36_02_i', '37_01_m', '37_03_i', '01_01_i', '02_02_i', '03_02_i', '05_02_i', '06_01_m']\n",
        "0.0\n",
        "[0.0, 0.0, 0.0, 0.0, 0.0, 0.0, 0.0, 0.0, 0.0, 0.0, 0.0, 0.0, 0.0, 0.0, 0.0, 0.0, 0.0, 0.0, 0.0, 0.0, 0.0, 0.0, 0.0, 0.0, 0.0, 0.0, 0.0, 0.0, 0.0, 0.0, 0.0, 0.0, 0.0, 0.0, 0.0, 0.0, 0.0, 0.0]\n",
        "0.0\n",
        "[0.0, 0.0, 0.0, 0.0, 0.0, 0.0, 0.0, 0.0, 0.0, 0.0, 0.0, 0.0, 0.0, 0.0, 0.0, 0.0, 0.0, 0.0, 0.0, 0.0, 0.0, 0.0, 0.0, 0.0, 0.0, 0.0, 0.0, 0.0, 0.0, 0.0, 0.0, 0.0, 0.0, 0.0, 0.0, 0.0, 0.0, 0.0]\n",
        "['12_01_i', '21_01_m', '33_02_m', '06_01_m', '08_02_i', '09_06_i', '10_02_i', '11_05_i', '01_01_i', '13_03_i', '14_03_i', '15_01_m', '15_02_i', '16_01_i', '17_02_i', '18_02_m', '19_01_m', '20_01_i', '02_02_i', '22_04_i', '23_02_i', '26_01_m', '26_02_i', '27_01_m', '28_03_m', '29_02_i', '31_01_m', '32_02_m', '03_02_i', '33_03_i', '34_02_m', '35_04_i', '36_02_i', '37_01_m', '37_03_i', '38_03_i', '39_02_i', '40_02_i', '05_02_i']"
       ]
      },
      {
       "output_type": "stream",
       "stream": "stdout",
       "text": [
        "\n",
        "['09_06_i', '10_02_i', '11_05_i', '40_02_i', '12_01_i', '13_03_i', '14_03_i', '15_01_m', '15_02_i', '16_01_i', '17_02_i', '18_02_m', '19_01_m', '39_02_i', '20_01_i', '21_01_m', '22_04_i', '23_02_i', '26_01_m', '26_02_i', '27_01_m', '28_03_m', '29_02_i', '38_03_i', '31_01_m', '32_02_m', '33_02_m', '33_03_i', '34_02_m', '35_04_i', '36_02_i', '37_01_m', '37_03_i', '01_01_i', '02_02_i', '03_02_i', '05_02_i', '06_01_m', '08_02_i']\n",
        "0.0\n",
        "[0.0, 0.0, 0.0, 0.0, 0.0, 0.0, 0.0, 0.0, 0.0, 0.0, 0.0, 0.0, 0.0, 0.0, 0.0, 0.0, 0.0, 0.0, 0.0, 0.0, 0.0, 0.0, 0.0, 0.0, 0.0, 0.0, 0.0, 0.0, 0.0, 0.0, 0.0, 0.0, 0.0, 0.0, 0.0, 0.0, 0.0, 0.0, 0.0]\n",
        "0.0\n",
        "[0.0, 0.0, 0.0, 0.0, 0.0, 0.0, 0.0, 0.0, 0.0, 0.0, 0.0, 0.0, 0.0, 0.0, 0.0, 0.0, 0.0, 0.0, 0.0, 0.0, 0.0, 0.0, 0.0, 0.0, 0.0, 0.0, 0.0, 0.0, 0.0, 0.0, 0.0, 0.0, 0.0, 0.0, 0.0, 0.0, 0.0, 0.0, 0.0]\n",
        "0.0"
       ]
      },
      {
       "output_type": "stream",
       "stream": "stdout",
       "text": [
        "\n",
        "[0.0, 0.0, 0.0, 0.0, 0.0, 0.0, 0.0, 0.0, 0.0, 0.0, 0.0, 0.0, 0.0, 0.0, 0.0, 0.0, 0.0, 0.0, 0.0, 0.0, 0.0, 0.0, 0.0, 0.0, 0.0, 0.0, 0.0, 0.0, 0.0, 0.0, 0.0, 0.0, 0.0, 0.0, 0.0, 0.0, 0.0, 0.0, 0.0, 0.0]\n",
        "0.0\n",
        "[0.0, 0.0, 0.0, 0.0, 0.0, 0.0, 0.0, 0.0, 0.0, 0.0, 0.0, 0.0, 0.0, 0.0, 0.0, 0.0, 0.0, 0.0, 0.0, 0.0, 0.0, 0.0, 0.0, 0.0, 0.0, 0.0, 0.0, 0.0, 0.0, 0.0, 0.0, 0.0, 0.0, 0.0, 0.0, 0.0, 0.0, 0.0, 0.0, 0.0]\n"
       ]
      }
     ],
     "prompt_number": 7
    },
    {
     "cell_type": "code",
     "collapsed": false,
     "input": [
      "import exifread\n",
      "# Open image file for reading (binary mode)\n",
      "f = open('/Volumes/SaraReis/observerStudy/test_images/01_01_i.tif', 'rb')\n",
      "\n",
      "# Return Exif tags\n",
      "tags = exifread.process_file(f)\n",
      "print tags"
     ],
     "language": "python",
     "metadata": {},
     "outputs": [
      {
       "output_type": "stream",
       "stream": "stdout",
       "text": [
        "{'Image PlanarConfiguration': (0x011C) Short=1 @ 7421558, 'Image ImageLength': (0x0101) Short=1330 @ 7421450, 'Image ImageDescription': (0x010E) ASCII=Aperio Image Librar, ... ] @ 7421584, 'Image SamplesPerPixel': (0x0115) Short=3 @ 7421522, 'Image StripByteCounts': (0x0117) Long=[] @ 7427086, 'Image BitsPerSample': (0x0102) Short=[8, 8, 8] @ 7421578, 'Image RowsPerStrip': (0x0116) Short=1 @ 7421534, 'Image Tag 0x80E5': (0x80E5) Long=1 @ 7421570, 'Image StripOffsets': (0x0111) Long=[] @ 7421766, 'Image PhotometricInterpretation': (0x0106) Short=2 @ 7421486, 'Image ImageWidth': (0x0100) Short=1860 @ 7421438, 'Image Compression': (0x0103) Short=Uncompressed @ 7421474, 'Image SubfileType': (0x00FE) Long=Full-resolution Image @ 7421426}\n"
       ]
      }
     ],
     "prompt_number": 5
    },
    {
     "cell_type": "code",
     "collapsed": false,
     "input": [
      "#  http://twigstechtips.blogspot.co.uk/2014/06/python-reading-exif-and-iptc-tags-from.html\n",
      "import exifread\n",
      "\n",
      "test_file = open('/Volumes/SaraReis/observerStudy/test_images/21_01_m.tif')\n",
      "\n",
      "def check_magnification(f):\n",
      "    exif = exifread.process_file(f)\n",
      "    f.close()\n",
      "\n",
      "    # Convert byte array to unicode\n",
      "    for k in ['Image XPTitle', 'Image XPComment', 'Image XPAuthor', 'Image XPKeywords', 'Image XPSubject']:\n",
      "        if k in exif:\n",
      "            exif[k].values = u\"\".join(map(unichr, exif[k].values)).decode('utf-16')\n",
      "\n",
      "    if 'Image ImageDescription' in exif:\n",
      "        print \"Description\", exif['Image ImageDescription'].values\n",
      "        if \"AppMag = 40\" in exif['Image ImageDescription'].values:\n",
      "            print \"Image magnification x40, change pixel resolution\"\n",
      "        else:\n",
      "            print \"Image magnification x20\"\n",
      "\n",
      "            \n",
      "            \n",
      "check_magnification(test_file)"
     ],
     "language": "python",
     "metadata": {},
     "outputs": [
      {
       "output_type": "stream",
       "stream": "stdout",
       "text": [
        "Description Aperio Image Library v12.1.3 \r\n",
        "106496x73472 [38009,40037 3000x3000] (0x0) RAW;NanoZoomer Digital Pathology Image|AppMag = 40|MPP = 0.2304|OriginalWidth = 106496|OriginalHeight = 73472\n",
        "Image magnification x40, change pixel resolution\n"
       ]
      }
     ],
     "prompt_number": 14
    },
    {
     "cell_type": "code",
     "collapsed": false,
     "input": [],
     "language": "python",
     "metadata": {},
     "outputs": [],
     "prompt_number": 1
    },
    {
     "cell_type": "code",
     "collapsed": false,
     "input": [],
     "language": "python",
     "metadata": {},
     "outputs": []
    }
   ],
   "metadata": {}
  }
 ]
}