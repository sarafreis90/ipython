{
 "metadata": {
  "name": "",
  "signature": "sha256:76ef08389394673cfe9a1e86fad93b94dd48b090faa2cc5c098da2a19bbf001b"
 },
 "nbformat": 3,
 "nbformat_minor": 0,
 "worksheets": [
  {
   "cells": [
    {
     "cell_type": "code",
     "collapsed": false,
     "input": [
      "import matplotlib.pyplot as plt\n",
      "import numpy as np\n",
      "from skimage.transform import rotate\n",
      "from skimage.feature import local_binary_pattern\n",
      "from skimage import data\n",
      "from skimage.color import label2rgb\n",
      "import nibabel as nib\n",
      "import scipy.ndimage\n",
      "from scipy import ndimage\n",
      "from scipy.stats import itemfreq\n",
      "import glob\n",
      "import os\n",
      "import re"
     ],
     "language": "python",
     "metadata": {},
     "outputs": []
    },
    {
     "cell_type": "code",
     "collapsed": false,
     "input": [
      "for files in sorted(glob.glob('/Volumes/vph-prism5/Sara/SPIE16/Manuscript/LightLines_nuclei/*0.0010125mm.nii.gz')):    \n",
      "    (dirname, filename) = os.path.split(files)\n",
      "    filename = str(os.path.basename(files))\n",
      "    filename = filename.replace('_0.0010125mm.nii.gz','')\n",
      "    #filename = filename.replace('.nii.gz','')\n",
      "    print filename\n",
      "    filename_list.append(filename)"
     ],
     "language": "python",
     "metadata": {},
     "outputs": []
    },
    {
     "cell_type": "code",
     "collapsed": false,
     "input": [
      "import Tkinter\n",
      "\n",
      "class simpleapp_tk(Tkinter.Tk):\n",
      "    def __init__(self,parent):\n",
      "        Tkinter.Tk.__init__(self,parent)\n",
      "        self.parent = parent\n",
      "        self.initialize()\n",
      "\n",
      "    def initialize(self):\n",
      "        self.grid()\n",
      "\n",
      "        self.entryVariable = Tkinter.StringVar()\n",
      "        self.entry = Tkinter.Entry(self,textvariable=self.entryVariable)\n",
      "        self.entry.grid(column=0,row=0,sticky='EW')\n",
      "        self.entry.bind(\"<Return>\", self.OnPressEnter)\n",
      "        self.entryVariable.set(u\"Enter text here.\")\n",
      "\n",
      "        button = Tkinter.Button(self,text=u\"Click me !\",\n",
      "                                command=self.OnButtonClick)\n",
      "        button.grid(column=1,row=0)\n",
      "\n",
      "        self.labelVariable = Tkinter.StringVar()\n",
      "        label = Tkinter.Label(self,textvariable=self.labelVariable,\n",
      "                              anchor=\"w\",fg=\"white\",bg=\"blue\")\n",
      "        label.grid(column=0,row=1,columnspan=2,sticky='EW')\n",
      "        self.labelVariable.set(u\"Hello !\")\n",
      "\n",
      "        self.grid_columnconfigure(0,weight=1)\n",
      "        self.resizable(True,False)\n",
      "        self.update()\n",
      "        self.geometry(self.geometry())       \n",
      "        self.entry.focus_set()\n",
      "        self.entry.selection_range(0, Tkinter.END)\n",
      "\n",
      "    def OnButtonClick(self):\n",
      "        self.labelVariable.set( self.entryVariable.get()+\" (You clicked the button)\" )\n",
      "        self.entry.focus_set()\n",
      "        self.entry.selection_range(0, Tkinter.END)\n",
      "\n",
      "    def OnPressEnter(self,event):\n",
      "        self.labelVariable.set( self.entryVariable.get()+\" (You pressed ENTER)\" )\n",
      "        self.entry.focus_set()\n",
      "        self.entry.selection_range(0, Tkinter.END)\n",
      "\n",
      "if __name__ == \"__main__\":\n",
      "    app = simpleapp_tk(None)\n",
      "    app.title('my application')\n",
      "    app.mainloop()"
     ],
     "language": "python",
     "metadata": {},
     "outputs": []
    },
    {
     "cell_type": "code",
     "collapsed": false,
     "input": [],
     "language": "python",
     "metadata": {},
     "outputs": []
    }
   ],
   "metadata": {}
  }
 ]
}