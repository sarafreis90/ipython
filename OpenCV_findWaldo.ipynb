{
 "metadata": {
  "name": "",
  "signature": "sha256:c99600b04151462274ea3a4e9f5ef9553ce47d8b12f8434b464996742f5c05a6"
 },
 "nbformat": 3,
 "nbformat_minor": 0,
 "worksheets": [
  {
   "cells": [
    {
     "cell_type": "code",
     "collapsed": false,
     "input": [
      "import cv2\n",
      "# import the standard numerical and plotting packages\n",
      "import numpy as np\n",
      "import matplotlib.pyplot as plt\n",
      "\n",
      "# we'll use urllib for get images\n",
      "import urllib\n",
      "def url_to_array(url):\n",
      "    request = urllib.urlopen(url)\n",
      "    arr = np.asarray(bytearray(request.read()), dtype=np.uint8)\n",
      "    return arr"
     ],
     "language": "python",
     "metadata": {},
     "outputs": [],
     "prompt_number": 2
    },
    {
     "cell_type": "code",
     "collapsed": false,
     "input": [
      "# cv2.imdecode: load an image from a NumPy array\n",
      "# http://docs.opencv.org/modules/highgui/doc/reading_and_writing_images_and_video.html?highlight=imdecode#cv2.imdecode\n",
      "# for local files, there's cv2.imread\n",
      "pyladies_url = 'http://www.pyladies.com/assets/images/pyladies_logo.png'\n",
      "pyladies_arr = url_to_array(pyladies_url)\n",
      "pyladies_img = cv2.imdecode(pyladies_arr, cv2.CV_LOAD_IMAGE_COLOR)"
     ],
     "language": "python",
     "metadata": {},
     "outputs": [],
     "prompt_number": 3
    },
    {
     "cell_type": "code",
     "collapsed": false,
     "input": [
      "# images are just NumPy arrays!\n",
      "print \"height = %d, width = %d, n_colors = %d\" % pyladies_img.shape\n",
      "print \"pixel (300,300) is %s (BGR)\" % pyladies_img[300,300]\n",
      "plt.imshow(pyladies_img)\n",
      "plt.show()"
     ],
     "language": "python",
     "metadata": {},
     "outputs": [
      {
       "output_type": "stream",
       "stream": "stdout",
       "text": [
        "height = 638, width = 1499, n_colors = 3\n",
        "pixel (300,300) is [ 57   2 237] (BGR)\n"
       ]
      }
     ],
     "prompt_number": 7
    },
    {
     "cell_type": "code",
     "collapsed": false,
     "input": [
      "# default is (blue, green, red)\n",
      "# let's change it to (red, green, blue) for pyplot.imshow compatibility\n",
      "# there's also cv2.imshow, which takes BGR images, but doesn't work in ipython inline :(\n",
      "pyladies_rgb = pyladies_img[:,:,[2,1,0]]\n",
      "print \"shape is the same? %s\" % (pyladies_rgb.shape == pyladies_img.shape)\n",
      "print \"now pixel (300,300) is %s (RGB)\" % pyladies_rgb[300,300]\n",
      "plt.imshow(pyladies_rgb)\n",
      "plt.show()"
     ],
     "language": "python",
     "metadata": {},
     "outputs": [
      {
       "output_type": "stream",
       "stream": "stdout",
       "text": [
        "shape is the same? True\n",
        "now pixel (300,300) is [237   2  57] (RGB)\n"
       ]
      }
     ],
     "prompt_number": 8
    },
    {
     "cell_type": "code",
     "collapsed": false,
     "input": [
      "#http://nbviewer.ipython.org/gist/aschn/5861365"
     ],
     "language": "python",
     "metadata": {},
     "outputs": []
    }
   ],
   "metadata": {}
  }
 ]
}