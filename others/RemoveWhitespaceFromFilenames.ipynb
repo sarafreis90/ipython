{
 "metadata": {
  "name": "",
  "signature": "sha256:78d3e1892be69d64ef0ce769aaddf06aac02bef30f9bb99f263df55ed8b32b6d"
 },
 "nbformat": 3,
 "nbformat_minor": 0,
 "worksheets": [
  {
   "cells": [
    {
     "cell_type": "code",
     "collapsed": false,
     "input": [
      "import os                               # Operating system\n",
      "import time                             # Time functions  \n",
      "import sys                              # System functions\n",
      "import glob                             # Filename globbing\n",
      "import re                               # Regular expressions\n",
      "import argparse                "
     ],
     "language": "python",
     "metadata": {},
     "outputs": [],
     "prompt_number": 1
    },
    {
     "cell_type": "code",
     "collapsed": false,
     "input": [
      "parser = argparse.ArgumentParser(description='Rename files with names containing whitespace.')\n",
      "\n",
      "parser.add_argument('--dir', dest='inDirectory', help='The directory to scan')\n",
      "\n",
      "args = parser.parse_args()\n",
      "\n",
      "if ( args.inDirectory == None ):\n",
      "    args.inDirectory = './'\n",
      "\n",
      "\n",
      "for dirPath, dirNames, fileNames in os.walk( args.inDirectory, topdown=False ):\n",
      "\n",
      "    for filename in fileNames:\n",
      "\n",
      "        if (( ' ' in filename ) or ( '(' in filename ) or ( ')' in filename )):\n",
      "\n",
      "            newName = filename\n",
      "            newName = newName.replace( ' ', '_' )\n",
      "            newName = newName.replace( '(', '' )\n",
      "            newName = newName.replace( ')', '' )\n",
      "\n",
      "            oldName = os.path.join( dirPath, filename )\n",
      "            newName = os.path.join( dirPath, newName )\n",
      "\n",
      "            print 'filename:', oldName, ' -> ', newName\n",
      "\n",
      "            os.rename( oldName, newName )\n",
      "\n",
      "    for dirname in dirNames:\n",
      "\n",
      "        ( head, newName ) = os.path.split(os.path.normpath(dirname))\n",
      "\n",
      "        if (( ' ' in newName ) or ( '(' in newName ) or ( ')' in newName )):\n",
      "\n",
      "            newName = newName.replace( ' ', '_' )\n",
      "            newName = newName.replace( '(', '' )\n",
      "            newName = newName.replace( ')', '' )\n",
      "\n",
      "            oldName = os.path.join( dirPath, dirname )\n",
      "            newName = os.path.join( dirPath, os.path.join( head, newName ) )\n",
      "\n",
      "            print 'dirname:', oldName, ' -> ', newName\n",
      "\n",
      "            os.rename( oldName, newName )"
     ],
     "language": "python",
     "metadata": {},
     "outputs": [
      {
       "output_type": "stream",
       "stream": "stderr",
       "text": [
        "usage: -c [-h] [--dir INDIRECTORY]\n",
        "-c: error: unrecognized arguments: -f /Users/sarareis/.ipython/profile_default/security/kernel-fed18e98-5823-4568-9690-e0f35b8e320b.json --IPKernelApp.parent_appname='ipython-notebook' --profile-dir /Users/sarareis/.ipython/profile_default --parent=1\n"
       ]
      },
      {
       "ename": "SystemExit",
       "evalue": "2",
       "output_type": "pyerr",
       "traceback": [
        "An exception has occurred, use %tb to see the full traceback.\n",
        "\u001b[0;31mSystemExit\u001b[0m\u001b[0;31m:\u001b[0m 2\n"
       ]
      },
      {
       "output_type": "stream",
       "stream": "stderr",
       "text": [
        "To exit: use 'exit', 'quit', or Ctrl-D.\n"
       ]
      }
     ],
     "prompt_number": 2
    },
    {
     "cell_type": "code",
     "collapsed": false,
     "input": [],
     "language": "python",
     "metadata": {},
     "outputs": []
    }
   ],
   "metadata": {}
  }
 ]
}